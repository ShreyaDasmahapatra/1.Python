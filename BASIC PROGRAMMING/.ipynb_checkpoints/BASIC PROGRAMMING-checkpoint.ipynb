{
 "cells": [
  {
   "cell_type": "code",
   "execution_count": 5,
   "id": "c6fc7fbe",
   "metadata": {},
   "outputs": [
    {
     "name": "stdout",
     "output_type": "stream",
     "text": [
      "Enter a number: 456789\n",
      "987654\n"
     ]
    }
   ],
   "source": [
    "#REVERSE A GIVEN NUMBER\n",
    "\n",
    "\n",
    "n=int(input(\"Enter a number: \"))\n",
    "a=0\n",
    "\n",
    "while n!=0:\n",
    "    r=n%10\n",
    "    a=a*10+r\n",
    "    n=n//10\n",
    "    \n",
    "print(a)"
   ]
  },
  {
   "cell_type": "markdown",
   "id": "4cc96c6d",
   "metadata": {},
   "source": [
    "#ARMSTRONG NUMBER\n",
    "<img src=\"https://scaler.com/topics/images/what-are-armstrong-number-in-python.webp\" />\n"
   ]
  },
  {
   "cell_type": "code",
   "execution_count": 28,
   "id": "4df21439",
   "metadata": {},
   "outputs": [
    {
     "name": "stdout",
     "output_type": "stream",
     "text": [
      "Enter a number: 9876\n",
      "14354\n",
      "Number is not an Armstrong\n"
     ]
    }
   ],
   "source": [
    "n=int(input(\"Enter a number: \"))\n",
    "z=n\n",
    "c=0\n",
    "a=0\n",
    "c=len(str(n))\n",
    "\n",
    "while n!=0:\n",
    "    r=n%10\n",
    "    a=a+r**c\n",
    "    n=n//10\n",
    "    \n",
    "print(a)\n",
    "    \n",
    "if z==a:\n",
    "    print(\"Number is Armstrong\")\n",
    "else:\n",
    "    print(\"Number is not an Armstrong\")"
   ]
  },
  {
   "cell_type": "code",
   "execution_count": 29,
   "id": "276ba924",
   "metadata": {},
   "outputs": [
    {
     "name": "stdout",
     "output_type": "stream",
     "text": [
      "Enter a number: 7\n",
      "Number is prime\n"
     ]
    }
   ],
   "source": [
    "#PRIME\n",
    "\n",
    "from math import sqrt\n",
    "n=int(input(\"Enter a number: \"))\n",
    "c=0\n",
    "\n",
    "if n!=1:\n",
    "    for i in range(2,int(sqrt(n))+1):\n",
    "        if n%i==0:\n",
    "            c=c+1\n",
    "            \n",
    "    if c==0:\n",
    "        print(\"Number is prime\")\n",
    "    else:\n",
    "        print(\"Number is not prime\")\n",
    "        \n",
    "else:\n",
    "    print(\"Number is not prime\")\n",
    "    \n"
   ]
  },
  {
   "cell_type": "code",
   "execution_count": 32,
   "id": "e99e4253",
   "metadata": {},
   "outputs": [
    {
     "name": "stdout",
     "output_type": "stream",
     "text": [
      "Enter a number: 5\n",
      "0\n",
      "1\n",
      "1\n",
      "2\n",
      "3\n"
     ]
    }
   ],
   "source": [
    "#FIBONACCI\n",
    "\n",
    "n=int(input(\"Enter the length of the series \"))\n",
    "\n",
    "f0=0\n",
    "f1=1\n",
    "print(f0)\n",
    "print(f1)\n",
    "\n",
    "for i in range(n-2):\n",
    "    f2=f0+f1\n",
    "    f0=f1\n",
    "    f1=f2\n",
    "    print(f2)\n",
    "    "
   ]
  },
  {
   "cell_type": "code",
   "execution_count": 38,
   "id": "6d7c6193",
   "metadata": {},
   "outputs": [
    {
     "name": "stdout",
     "output_type": "stream",
     "text": [
      "0\n",
      "1\n",
      "1\n",
      "2\n",
      "3\n"
     ]
    }
   ],
   "source": [
    "#FIBONACCI USING RECURSIVE\n",
    "\n",
    "def fibo(n):\n",
    "    \n",
    "    if n==0:\n",
    "        return 0\n",
    "    elif n==1:\n",
    "        return 1\n",
    "    else:\n",
    "        return fibo(n-1)+fibo(n-2)\n",
    " \n",
    "for i in range(n):\n",
    "    print(fibo(i))"
   ]
  },
  {
   "cell_type": "code",
   "execution_count": null,
   "id": "8862cff6",
   "metadata": {},
   "outputs": [],
   "source": [
    "#Palindrome using recursive\n",
    "\n",
    "n = int(input(\"please give a number : \"))\n",
    "def reverse(num):\n",
    "    if num<10:\n",
    "        return num \n",
    "    else:\n",
    "        return int(str(num%10) + str(reverse(num//10)))\n",
    "def isPalindrome(num):\n",
    "    if num == reverse(num):\n",
    "        return 1\n",
    "    return 0\n",
    "if isPalindrome(n) == 1:\n",
    "    print(\"Given number is a palindrome\")\n",
    "else:\n",
    "    print(\"Given number is a not palindrome\") \n",
    "    \n",
    "    "
   ]
  }
 ],
 "metadata": {
  "kernelspec": {
   "display_name": "Python 3 (ipykernel)",
   "language": "python",
   "name": "python3"
  },
  "language_info": {
   "codemirror_mode": {
    "name": "ipython",
    "version": 3
   },
   "file_extension": ".py",
   "mimetype": "text/x-python",
   "name": "python",
   "nbconvert_exporter": "python",
   "pygments_lexer": "ipython3",
   "version": "3.9.12"
  }
 },
 "nbformat": 4,
 "nbformat_minor": 5
}
