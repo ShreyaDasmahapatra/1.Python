{
 "cells": [
  {
   "cell_type": "markdown",
   "id": "0603ce6a",
   "metadata": {},
   "source": [
    "# Conditionals"
   ]
  },
  {
   "cell_type": "code",
   "execution_count": 1,
   "id": "84bb9ef4",
   "metadata": {},
   "outputs": [
    {
     "name": "stdout",
     "output_type": "stream",
     "text": [
      "The value of a is greater than 7\n",
      "The value is not greater than 3 or 7\n",
      "Done\n"
     ]
    }
   ],
   "source": [
    "a = 8\n",
    "\n",
    "# 1. if-elif-else ladder in Python\n",
    "# if(a<3): \n",
    "#     print(\"The value of a is greater than 3\")\n",
    "# elif(a>13):\n",
    "#     print(\"The value of a is greater than 13\")\n",
    "# elif(a>7):\n",
    "#     print(\"The value of a is greater than 7\")\n",
    "# elif(a>17):\n",
    "#     print(\"The value of a is greater than 17\")\n",
    "# else:\n",
    "#     print(\"The value is not greater than 3 or 7\")\n",
    "\n",
    "# 2. Multiple if statements\n",
    "if(a<3): \n",
    "    print(\"The value of a is greater than 3\")\n",
    "\n",
    "if(a>13):\n",
    "    print(\"The value of a is greater than 13\")\n",
    "    \n",
    "if(a>7):\n",
    "    print(\"The value of a is greater than 7\")\n",
    "\n",
    "if(a>17):\n",
    "    print(\"The value of a is greater than 17\")\n",
    "else:\n",
    "    print(\"The value is not greater than 3 or 7\")\n",
    "\n",
    "print(\"Done\")"
   ]
  },
  {
   "cell_type": "markdown",
   "id": "11cff705",
   "metadata": {},
   "source": [
    "# IF ELSE"
   ]
  },
  {
   "cell_type": "code",
   "execution_count": 2,
   "id": "a3a97282",
   "metadata": {},
   "outputs": [
    {
     "name": "stdout",
     "output_type": "stream",
     "text": [
      "Enter your age: 23\n",
      "Yes\n"
     ]
    }
   ],
   "source": [
    "age = int(input(\"Enter your age: \"))\n",
    "\n",
    "if age>18:\n",
    "    print(\"Yes\")\n",
    "else:\n",
    "    print(\"No\")"
   ]
  },
  {
   "cell_type": "markdown",
   "id": "70a5e65a",
   "metadata": {},
   "source": [
    "# Logical & Relational"
   ]
  },
  {
   "cell_type": "code",
   "execution_count": 3,
   "id": "1741f993",
   "metadata": {},
   "outputs": [
    {
     "name": "stdout",
     "output_type": "stream",
     "text": [
      "Enter your age: 23\n",
      "You can work with us\n"
     ]
    }
   ],
   "source": [
    "age = int(input(\"Enter your age: \"))\n",
    "if(age>34 or age<56):\n",
    "    print(\"You can work with us\")\n",
    "\n",
    "else:\n",
    "    print(\"You cannot work with us\")"
   ]
  },
  {
   "cell_type": "markdown",
   "id": "75077fb2",
   "metadata": {},
   "source": [
    "# IN and IS"
   ]
  },
  {
   "cell_type": "code",
   "execution_count": 4,
   "id": "926cbcd4",
   "metadata": {},
   "outputs": [
    {
     "name": "stdout",
     "output_type": "stream",
     "text": [
      "Yes\n",
      "False\n"
     ]
    }
   ],
   "source": [
    "a=None\n",
    "if (a is None):\n",
    "     print(\"Yes\")\n",
    "else:\n",
    "     print(\"No\")\n",
    "\n",
    "a = [45, 56, 6]\n",
    "print(435 in a)"
   ]
  },
  {
   "cell_type": "code",
   "execution_count": 5,
   "id": "f998b236",
   "metadata": {},
   "outputs": [
    {
     "name": "stdout",
     "output_type": "stream",
     "text": [
      "I am optional\n"
     ]
    }
   ],
   "source": [
    "a = 6\n",
    "if(a==7):\n",
    "    print(\"yes\")\n",
    "elif(a>56):\n",
    "    print(\"no and yes\")\n",
    "else:\n",
    "    print(\"I am optional\")"
   ]
  },
  {
   "cell_type": "code",
   "execution_count": null,
   "id": "573a654a",
   "metadata": {},
   "outputs": [],
   "source": []
  }
 ],
 "metadata": {
  "kernelspec": {
   "display_name": "Python 3 (ipykernel)",
   "language": "python",
   "name": "python3"
  },
  "language_info": {
   "codemirror_mode": {
    "name": "ipython",
    "version": 3
   },
   "file_extension": ".py",
   "mimetype": "text/x-python",
   "name": "python",
   "nbconvert_exporter": "python",
   "pygments_lexer": "ipython3",
   "version": "3.9.12"
  }
 },
 "nbformat": 4,
 "nbformat_minor": 5
}
