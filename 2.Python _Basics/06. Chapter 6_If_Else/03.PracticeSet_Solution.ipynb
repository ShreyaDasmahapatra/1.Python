{
 "cells": [
  {
   "cell_type": "markdown",
   "id": "5b6b67cf",
   "metadata": {},
   "source": [
    "# 1"
   ]
  },
  {
   "cell_type": "code",
   "execution_count": 12,
   "id": "d88bef4d",
   "metadata": {},
   "outputs": [
    {
     "name": "stdout",
     "output_type": "stream",
     "text": [
      "Enter no: 10\n",
      "Enter no: 40\n",
      "Enter no: 86\n",
      "Enter no: 3\n",
      "c is greater\n"
     ]
    }
   ],
   "source": [
    "a=int(input(\"Enter no: \"))\n",
    "b=int(input(\"Enter no: \"))\n",
    "c=int(input(\"Enter no: \"))\n",
    "d=int(input(\"Enter no: \"))\n",
    "\n",
    "if a>b:\n",
    "    if a>c:\n",
    "        if a>d:\n",
    "            print(\"a is greater\")\n",
    "        else:\n",
    "            print(\"d is greater\")\n",
    "    elif c>d:\n",
    "        print(\"c is greater\")\n",
    "    else:\n",
    "        print(\"d is greater\")\n",
    "elif b>c:\n",
    "    print(\"b is greater\")\n",
    "elif c>d:\n",
    "    print(\"c is greater\")\n",
    "else:\n",
    "    print(\"d is greater\")\n"
   ]
  },
  {
   "cell_type": "markdown",
   "id": "bdb28817",
   "metadata": {},
   "source": [
    "# 2"
   ]
  },
  {
   "cell_type": "code",
   "execution_count": 16,
   "id": "16c413ca",
   "metadata": {},
   "outputs": [
    {
     "name": "stdout",
     "output_type": "stream",
     "text": [
      "Enter marks: 80\n",
      "Enter marks: 60\n",
      "Enter marks: 70\n",
      "PASS\n"
     ]
    }
   ],
   "source": [
    "m1=int(input(\"Enter marks: \"))\n",
    "m2=int(input(\"Enter marks: \"))\n",
    "m3=int(input(\"Enter marks: \"))\n",
    "\n",
    "if m1>33 and m2>33 and m3 > 33:\n",
    "    if (m1+m2+m3)/3>40:\n",
    "        print(\"PASS\")\n",
    "    else:\n",
    "        print(\"FAIL\")\n",
    "else:\n",
    "    print(\"FAIL\")"
   ]
  },
  {
   "cell_type": "markdown",
   "id": "238a17ce",
   "metadata": {},
   "source": [
    "# 3"
   ]
  },
  {
   "cell_type": "code",
   "execution_count": null,
   "id": "7df413e9",
   "metadata": {},
   "outputs": [],
   "source": [
    "text = input(\"Enter the text\\n\")\n",
    "\n",
    "if(\"make a lot of money\" in text):\n",
    "    spam = True\n",
    "elif(\"buy now\" in text):\n",
    "    spam = True\n",
    "elif(\"click this\" in text):\n",
    "    spam = True\n",
    "elif(\"subscribe this\" in text):\n",
    "    spam = True\n",
    "else:\n",
    "    spam = False\n",
    "\n",
    "if(spam):\n",
    "    print(\"This text is spam\")\n",
    "else:\n",
    "    print(\"This text is not spam\")"
   ]
  },
  {
   "cell_type": "markdown",
   "id": "716a434c",
   "metadata": {},
   "source": [
    "# 5"
   ]
  },
  {
   "cell_type": "code",
   "execution_count": 1,
   "id": "11853b69",
   "metadata": {},
   "outputs": [
    {
     "name": "stdout",
     "output_type": "stream",
     "text": [
      "Enter the name to check\n",
      "harry\n",
      "Your name is present in the list\n",
      "0\n"
     ]
    }
   ],
   "source": [
    "names = [\"harry\", \"shubham\", \"rohit\", \"rohan\", \"aditi\", \"shipra\"]\n",
    "name = input(\"Enter the name to check\\n\")\n",
    "\n",
    "if name in names:\n",
    "    print(\"Your name is present in the list\")\n",
    "    print(names.index(name))\n",
    "else:\n",
    "    print(\"Your name is not present in the list\")"
   ]
  },
  {
   "cell_type": "code",
   "execution_count": 2,
   "id": "dfcfbff3",
   "metadata": {},
   "outputs": [
    {
     "name": "stdout",
     "output_type": "stream",
     "text": [
      "Enter Your Marks\n",
      "66\n",
      "Your grade is C\n"
     ]
    }
   ],
   "source": [
    "marks = int(input(\"Enter Your Marks\\n\"))\n",
    "\n",
    "if marks>=90:\n",
    "    grade = \"Ex\"\n",
    "elif marks>=80:\n",
    "    grade = \"A\"\n",
    "elif marks>=70:\n",
    "    grade = \"B\"\n",
    "elif marks>=60:\n",
    "    grade = \"C\"\n",
    "elif marks>=50:\n",
    "    grade = \"D\" \n",
    "else:\n",
    "    grade = \"F\"\n",
    "\n",
    "print(\"Your grade is \" + grade)"
   ]
  },
  {
   "cell_type": "markdown",
   "id": "61747c55",
   "metadata": {},
   "source": [
    "# 7"
   ]
  },
  {
   "cell_type": "code",
   "execution_count": 5,
   "id": "01936762",
   "metadata": {},
   "outputs": [],
   "source": [
    "post=\"Harry  is coder.Also an youtuber.\"\n",
    "if post.find(\"Harry\")!=-1:\n",
    "    print(\"The post contains Harry\")"
   ]
  },
  {
   "cell_type": "code",
   "execution_count": null,
   "id": "a3268ea6",
   "metadata": {},
   "outputs": [],
   "source": []
  }
 ],
 "metadata": {
  "kernelspec": {
   "display_name": "Python 3 (ipykernel)",
   "language": "python",
   "name": "python3"
  },
  "language_info": {
   "codemirror_mode": {
    "name": "ipython",
    "version": 3
   },
   "file_extension": ".py",
   "mimetype": "text/x-python",
   "name": "python",
   "nbconvert_exporter": "python",
   "pygments_lexer": "ipython3",
   "version": "3.9.12"
  }
 },
 "nbformat": 4,
 "nbformat_minor": 5
}
