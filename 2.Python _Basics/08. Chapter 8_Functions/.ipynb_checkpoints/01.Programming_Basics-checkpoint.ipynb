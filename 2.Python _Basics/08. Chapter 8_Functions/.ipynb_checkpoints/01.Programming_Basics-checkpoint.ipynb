{
 "cells": [
  {
   "cell_type": "code",
   "execution_count": 1,
   "id": "9db90e59",
   "metadata": {},
   "outputs": [
    {
     "name": "stdout",
     "output_type": "stream",
     "text": [
      "71.5 84.75\n"
     ]
    }
   ],
   "source": [
    "#FUNCTIONS\n",
    "\n",
    "def percent(marks):\n",
    "    p = ((marks[0] + marks[1] + marks[2]+ marks[3])/400 )*100\n",
    "    return p\n",
    "\n",
    "marks1 = [45, 78, 86, 77]\n",
    "percentage1 = percent(marks1)\n",
    "\n",
    "marks2 = [75, 98, 88, 78]\n",
    "percentage2 = percent(marks2)\n",
    "print(percentage1, percentage2)"
   ]
  },
  {
   "cell_type": "code",
   "execution_count": 2,
   "id": "3f645a3e",
   "metadata": {},
   "outputs": [
    {
     "name": "stdout",
     "output_type": "stream",
     "text": [
      "Good Day, Shreya\n",
      "38\n"
     ]
    }
   ],
   "source": [
    "def greet(name):\n",
    "    print(\"Good Day, \"+ name)\n",
    "\n",
    "def mySum(num1, num2):\n",
    "    return num1 + num2\n",
    "\n",
    "greet(\"Shreya\")\n",
    "s = mySum(6, 32)\n",
    "print(s)"
   ]
  },
  {
   "cell_type": "code",
   "execution_count": 3,
   "id": "6f8c2450",
   "metadata": {},
   "outputs": [
    {
     "name": "stdout",
     "output_type": "stream",
     "text": [
      "Good Day, Harry\n",
      "Good Day, Stranger\n"
     ]
    }
   ],
   "source": [
    "def greet(name=\"Stranger\"):\n",
    "    print(\"Good Day, \"+ name)\n",
    " \n",
    "\n",
    "greet(\"Shreya\") \n",
    "greet()"
   ]
  },
  {
   "cell_type": "code",
   "execution_count": 4,
   "id": "500226ce",
   "metadata": {},
   "outputs": [
    {
     "name": "stdout",
     "output_type": "stream",
     "text": [
      "1\n"
     ]
    }
   ],
   "source": [
    "#FACTORIAL\n",
    "# n! = 1 * 2 * 3 * 4...*n\n",
    "# n! = [1 * 2 * 3 * 4... n-1] *n\n",
    "# n! = n * (n-1)! \n",
    "\n",
    "# n = 0\n",
    "# product = 1\n",
    "# for i in range(n):\n",
    "#     product = product * (i+1)\n",
    "# print(product)\n",
    "\n",
    "def factorial_iter(n):\n",
    "    product = 1\n",
    "    for i in range(n):\n",
    "        product = product * (i+1)\n",
    "    return product\n",
    "\n",
    "def factorial_recursive(n):\n",
    "    if n == 1 or n == 0:\n",
    "        return 1\n",
    "    return n * factorial_recursive(n-1)\n",
    "\n",
    "# f = factorial_iter(5)\n",
    "f = factorial_recursive(0)\n",
    "print(f)\n",
    "\n"
   ]
  },
  {
   "cell_type": "code",
   "execution_count": null,
   "id": "be7eb4a5",
   "metadata": {},
   "outputs": [],
   "source": []
  }
 ],
 "metadata": {
  "kernelspec": {
   "display_name": "Python 3 (ipykernel)",
   "language": "python",
   "name": "python3"
  },
  "language_info": {
   "codemirror_mode": {
    "name": "ipython",
    "version": 3
   },
   "file_extension": ".py",
   "mimetype": "text/x-python",
   "name": "python",
   "nbconvert_exporter": "python",
   "pygments_lexer": "ipython3",
   "version": "3.9.12"
  }
 },
 "nbformat": 4,
 "nbformat_minor": 5
}
