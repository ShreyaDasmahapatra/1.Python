{
 "cells": [
  {
   "cell_type": "code",
   "execution_count": 1,
   "id": "9179decd",
   "metadata": {},
   "outputs": [
    {
     "name": "stdout",
     "output_type": "stream",
     "text": [
      "The value of the maximum is 55\n"
     ]
    }
   ],
   "source": [
    "#1\n",
    "def maximum(num1, num2, num3):\n",
    "    if (num1>num2):\n",
    "        if(num1>num3):\n",
    "            return num1\n",
    "        else:\n",
    "            return num3\n",
    "    else:\n",
    "        if(num2>num3):\n",
    "            return num2\n",
    "        else:\n",
    "            return num3\n",
    "\n",
    "m = maximum(13, 55, 2)\n",
    "print(\"The value of the maximum is \" + str(m))"
   ]
  },
  {
   "cell_type": "code",
   "execution_count": 2,
   "id": "eaa8f2f2",
   "metadata": {},
   "outputs": [
    {
     "name": "stdout",
     "output_type": "stream",
     "text": [
      "Fahreheit Temperature is 32.0\n"
     ]
    }
   ],
   "source": [
    "#2\n",
    "\n",
    "def farh(cel):\n",
    "    return (cel *(9/5)) + 32\n",
    "\n",
    "c = 0\n",
    "f = farh(c)\n",
    "print(\"Fahreheit Temperature is \" + str(f))"
   ]
  },
  {
   "cell_type": "code",
   "execution_count": 3,
   "id": "49de6dc3",
   "metadata": {},
   "outputs": [
    {
     "name": "stdout",
     "output_type": "stream",
     "text": [
      "Hello How are you? "
     ]
    }
   ],
   "source": [
    "#3\n",
    "\n",
    "print(\"Hello\", end=\" \")\n",
    "print(\"How\", end=\" \")\n",
    "print(\"are\", end=\" \")\n",
    "print(\"you?\", end=\" \")"
   ]
  },
  {
   "cell_type": "code",
   "execution_count": 1,
   "id": "529afd6d",
   "metadata": {},
   "outputs": [
    {
     "name": "stdout",
     "output_type": "stream",
     "text": [
      "Sum of first 10 numbers : 55\n"
     ]
    }
   ],
   "source": [
    "#4\n",
    "\n",
    "def sum_number(n):\n",
    "    result = 0\n",
    "    if n == 1:\n",
    "        result = 1\n",
    "    else:\n",
    "        result = n + sum_number(n - 1)\n",
    "    return result\n",
    "    \n",
    "n = 10\n",
    "Sum = sum_number(n)\n",
    "print(f'Sum of first {n} numbers : {Sum}')"
   ]
  },
  {
   "cell_type": "code",
   "execution_count": 4,
   "id": "57f34113",
   "metadata": {},
   "outputs": [
    {
     "name": "stdout",
     "output_type": "stream",
     "text": [
      "***\n",
      "**\n",
      "*\n"
     ]
    }
   ],
   "source": [
    "#5\n",
    "\n",
    "def pattern(n):\n",
    "    for i in range(n):\n",
    "        print(\"*\" * (n-i))\n",
    "n=3\n",
    "pattern(n)"
   ]
  },
  {
   "cell_type": "code",
   "execution_count": 9,
   "id": "2ed4c207",
   "metadata": {},
   "outputs": [
    {
     "name": "stdout",
     "output_type": "stream",
     "text": [
      "is a good\n",
      "     Shreya is a good      \n",
      "Shreya is a good\n"
     ]
    }
   ],
   "source": [
    "#7\n",
    "\n",
    "def remove_and_split(string, word):\n",
    "    newStr = string.replace(word, \"\")\n",
    "    return newStr.strip()\n",
    "\n",
    "this = \"     Shreya is a good      \"\n",
    "n = remove_and_split(this, \"Shreya\")\n",
    "print(n)\n",
    "print(this)\n",
    "print(this.strip())\n"
   ]
  },
  {
   "cell_type": "code",
   "execution_count": null,
   "id": "009773de",
   "metadata": {},
   "outputs": [],
   "source": []
  }
 ],
 "metadata": {
  "kernelspec": {
   "display_name": "Python 3 (ipykernel)",
   "language": "python",
   "name": "python3"
  },
  "language_info": {
   "codemirror_mode": {
    "name": "ipython",
    "version": 3
   },
   "file_extension": ".py",
   "mimetype": "text/x-python",
   "name": "python",
   "nbconvert_exporter": "python",
   "pygments_lexer": "ipython3",
   "version": "3.9.12"
  }
 },
 "nbformat": 4,
 "nbformat_minor": 5
}
