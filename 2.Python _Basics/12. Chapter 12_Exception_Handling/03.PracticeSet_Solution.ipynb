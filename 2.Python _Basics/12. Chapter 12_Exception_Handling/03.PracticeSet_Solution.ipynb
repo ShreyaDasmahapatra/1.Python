{
 "cells": [
  {
   "cell_type": "code",
   "execution_count": 1,
   "id": "83d48c58",
   "metadata": {},
   "outputs": [
    {
     "name": "stdout",
     "output_type": "stream",
     "text": [
      "This is one.txt \n",
      "File 2.txt is not found\n",
      "File 3.txt is not found\n"
     ]
    }
   ],
   "source": [
    "#1\n",
    "\n",
    "\n",
    "def readFile(filename):\n",
    "    try:\n",
    "        with open(filename, \"r\") as f:\n",
    "            print(f.read())\n",
    "    except FileNotFoundError:\n",
    "        print(f\"File {filename} is not found\")\n",
    "        \n",
    "readFile(\"1.txt\")\n",
    "readFile(\"2.txt\")\n",
    "readFile(\"3.txt\")"
   ]
  },
  {
   "cell_type": "code",
   "execution_count": 2,
   "id": "d532e5eb",
   "metadata": {},
   "outputs": [
    {
     "name": "stdout",
     "output_type": "stream",
     "text": [
      "The 3th element is 3\n",
      "The 5th element is 5\n",
      "The 7th element is 7\n"
     ]
    }
   ],
   "source": [
    "#2\n",
    "\n",
    "l = [1, 2, 3, 4, 5, 6, 7, 8, 9, 10]\n",
    "for index, item in enumerate(l):\n",
    "    if index==2 or index== 4 or index==6:\n",
    "        # print(index, item)\n",
    "        print(f\"The {index + 1}th element is {item}\")"
   ]
  },
  {
   "cell_type": "code",
   "execution_count": 3,
   "id": "f0ec50cf",
   "metadata": {},
   "outputs": [
    {
     "name": "stdout",
     "output_type": "stream",
     "text": [
      "Enter your number: 4\n",
      "[4, 8, 12, 16, 20, 24, 28, 32, 36, 40]\n"
     ]
    }
   ],
   "source": [
    "#3\n",
    "\n",
    "\n",
    "num = int(input(\"Enter your number: \"))\n",
    "\n",
    "table = [num*i for i in range(1, 11)]\n",
    "print(table)"
   ]
  },
  {
   "cell_type": "code",
   "execution_count": 4,
   "id": "28c4eb2f",
   "metadata": {},
   "outputs": [
    {
     "name": "stdout",
     "output_type": "stream",
     "text": [
      "Enter number a: 3\n",
      "Enter number b: 2\n",
      "1.5\n"
     ]
    }
   ],
   "source": [
    "#4\n",
    "\n",
    "\n",
    "a = int(input(\"Enter number a: \"))\n",
    "b = int(input(\"Enter number b: \"))\n",
    "\n",
    "try:\n",
    "    print(a/b)\n",
    "except ZeroDivisionException:\n",
    "    print(\"Infinite\")"
   ]
  },
  {
   "cell_type": "code",
   "execution_count": 5,
   "id": "499400ce",
   "metadata": {},
   "outputs": [
    {
     "name": "stdout",
     "output_type": "stream",
     "text": [
      "Enter your number: 6\n",
      "[6, 12, 18, 24, 30, 36, 42, 48, 54, 60]\n"
     ]
    }
   ],
   "source": [
    "#5\n",
    "\n",
    "num = int(input(\"Enter your number: \"))\n",
    "\n",
    "table = [num*i for i in range(1, 11)]\n",
    "print(table)\n",
    "with open(\"tables.txt\", \"a\") as f:\n",
    "    f.write(str(table))\n",
    "    f.write('\\n')"
   ]
  },
  {
   "cell_type": "code",
   "execution_count": null,
   "id": "bcf880ef",
   "metadata": {},
   "outputs": [],
   "source": []
  }
 ],
 "metadata": {
  "kernelspec": {
   "display_name": "Python 3 (ipykernel)",
   "language": "python",
   "name": "python3"
  },
  "language_info": {
   "codemirror_mode": {
    "name": "ipython",
    "version": 3
   },
   "file_extension": ".py",
   "mimetype": "text/x-python",
   "name": "python",
   "nbconvert_exporter": "python",
   "pygments_lexer": "ipython3",
   "version": "3.9.12"
  }
 },
 "nbformat": 4,
 "nbformat_minor": 5
}
