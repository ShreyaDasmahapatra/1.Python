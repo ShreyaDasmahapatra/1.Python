{
 "cells": [
  {
   "cell_type": "code",
   "execution_count": 1,
   "id": "6f39c4f5",
   "metadata": {},
   "outputs": [
    {
     "name": "stdout",
     "output_type": "stream",
     "text": [
      "Press q to quit\n",
      "Enter a number: 7\n",
      "Trying...\n",
      "You entered a number greater than 6\n",
      "Thanks for playing this game\n"
     ]
    }
   ],
   "source": [
    "#TRY\n",
    "\n",
    "a = input(\"Enter a number: \")\n",
    "try:\n",
    "    print(\"Trying...\")\n",
    "    a = int(a)\n",
    "    if a>6:\n",
    "        print(\"You entered a number greater than 6\")\n",
    "except Exception as e:\n",
    "    print(f\"Your input resulted in an error: {e}\")\n",
    "\n",
    "print(\"Thanks for playing this game\")"
   ]
  },
  {
   "cell_type": "code",
   "execution_count": 2,
   "id": "64062720",
   "metadata": {},
   "outputs": [
    {
     "name": "stdout",
     "output_type": "stream",
     "text": [
      "Enter a number: 7\n",
      "0.14285714285714285\n",
      "Thanks for using this code!\n"
     ]
    }
   ],
   "source": [
    "#HANDLING DIFFERENT EXCEPTION\n",
    "\n",
    "try:\n",
    "    a = int(input(\"Enter a number: \"))\n",
    "    c = 1/a\n",
    "    print(c)\n",
    "    \n",
    "except ValueError as e:\n",
    "    print(\"Please Enter a valid value\") \n",
    "\n",
    "except ZeroDivisionError as e:\n",
    "    print(\"Make sure you are not dividing by 0\") \n",
    "\n",
    "print(\"Thanks for using this code!\")\n",
    "\n"
   ]
  },
  {
   "cell_type": "code",
   "execution_count": 5,
   "id": "291bbfc7",
   "metadata": {},
   "outputs": [
    {
     "ename": "ValueError",
     "evalue": "This is not good - Harry",
     "output_type": "error",
     "traceback": [
      "\u001b[1;31m---------------------------------------------------------------------------\u001b[0m",
      "\u001b[1;31mValueError\u001b[0m                                Traceback (most recent call last)",
      "Input \u001b[1;32mIn [5]\u001b[0m, in \u001b[0;36mincrement\u001b[1;34m(num)\u001b[0m\n\u001b[0;32m      5\u001b[0m \u001b[38;5;28;01mtry\u001b[39;00m:\n\u001b[1;32m----> 6\u001b[0m     \u001b[38;5;28;01mreturn\u001b[39;00m \u001b[38;5;28;43mint\u001b[39;49m\u001b[43m(\u001b[49m\u001b[43mnum\u001b[49m\u001b[43m)\u001b[49m \u001b[38;5;241m+\u001b[39m \u001b[38;5;241m1\u001b[39m\n\u001b[0;32m      7\u001b[0m \u001b[38;5;28;01mexcept\u001b[39;00m:\n",
      "\u001b[1;31mValueError\u001b[0m: invalid literal for int() with base 10: 'D364'",
      "\nDuring handling of the above exception, another exception occurred:\n",
      "\u001b[1;31mValueError\u001b[0m                                Traceback (most recent call last)",
      "Input \u001b[1;32mIn [5]\u001b[0m, in \u001b[0;36m<cell line: 10>\u001b[1;34m()\u001b[0m\n\u001b[0;32m      7\u001b[0m     \u001b[38;5;28;01mexcept\u001b[39;00m:\n\u001b[0;32m      8\u001b[0m         \u001b[38;5;28;01mraise\u001b[39;00m \u001b[38;5;167;01mValueError\u001b[39;00m(\u001b[38;5;124m\"\u001b[39m\u001b[38;5;124mThis is not good - Harry\u001b[39m\u001b[38;5;124m\"\u001b[39m)\n\u001b[1;32m---> 10\u001b[0m a \u001b[38;5;241m=\u001b[39m \u001b[43mincrement\u001b[49m\u001b[43m(\u001b[49m\u001b[38;5;124;43m'\u001b[39;49m\u001b[38;5;124;43mD364\u001b[39;49m\u001b[38;5;124;43m'\u001b[39;49m\u001b[43m)\u001b[49m\n\u001b[0;32m     11\u001b[0m \u001b[38;5;28mprint\u001b[39m(a)\n",
      "Input \u001b[1;32mIn [5]\u001b[0m, in \u001b[0;36mincrement\u001b[1;34m(num)\u001b[0m\n\u001b[0;32m      6\u001b[0m     \u001b[38;5;28;01mreturn\u001b[39;00m \u001b[38;5;28mint\u001b[39m(num) \u001b[38;5;241m+\u001b[39m \u001b[38;5;241m1\u001b[39m\n\u001b[0;32m      7\u001b[0m \u001b[38;5;28;01mexcept\u001b[39;00m:\n\u001b[1;32m----> 8\u001b[0m     \u001b[38;5;28;01mraise\u001b[39;00m \u001b[38;5;167;01mValueError\u001b[39;00m(\u001b[38;5;124m\"\u001b[39m\u001b[38;5;124mThis is not good - Harry\u001b[39m\u001b[38;5;124m\"\u001b[39m)\n",
      "\u001b[1;31mValueError\u001b[0m: This is not good - Harry"
     ]
    }
   ],
   "source": [
    "#RAISING EXCEPTION\n",
    "\n",
    "\n",
    "def increment(num):\n",
    "    try:\n",
    "        return int(num) + 1\n",
    "    except:\n",
    "        raise ValueError(\"This is not good - Harry\")\n",
    "\n",
    "a = increment('D364')\n",
    "print(a)"
   ]
  },
  {
   "cell_type": "code",
   "execution_count": 7,
   "id": "634c0a6d",
   "metadata": {},
   "outputs": [
    {
     "name": "stdout",
     "output_type": "stream",
     "text": [
      "Enter a number: 5\n",
      "We were successful\n"
     ]
    }
   ],
   "source": [
    "#TRY WITH ELSE\n",
    "\n",
    "try:\n",
    "    i = int(input(\"Enter a number: \"))\n",
    "    c = 1/i\n",
    "except Exception as e:\n",
    "    print(e)\n",
    "    print(\"We were successful\")\n",
    "else:\n",
    "     print(\"We were successful\")"
   ]
  },
  {
   "cell_type": "code",
   "execution_count": 8,
   "id": "bb3b0aad",
   "metadata": {},
   "outputs": [
    {
     "name": "stdout",
     "output_type": "stream",
     "text": [
      "Enter a number: 3\n",
      "We are done\n",
      "Thanks for using the program\n"
     ]
    }
   ],
   "source": [
    "#TRY EXCEPT FINNALY\n",
    "\n",
    "try:\n",
    "    i = int(input(\"Enter a number: \"))\n",
    "    c = 1/i\n",
    "except Exception as e:\n",
    "    print(e)\n",
    "    # exit()\n",
    "finally:\n",
    "    print(\"We are done\")\n",
    "\n",
    "print(\"Thanks for using the program\")"
   ]
  },
  {
   "cell_type": "code",
   "execution_count": 9,
   "id": "9e43cf1e",
   "metadata": {},
   "outputs": [
    {
     "name": "stdout",
     "output_type": "stream",
     "text": [
      "Print statement 1: 54\n",
      "Print statement 2: 8\n",
      "Print statement 3: 8\n"
     ]
    }
   ],
   "source": [
    "#GLOBAL\n",
    "\n",
    "a = 54 # Global variable\n",
    "def func1():\n",
    "    global a;\n",
    "    \n",
    "    print(f\"Print statement 1: {a}\")\n",
    "    a = 8# Local Variable if global keyword is not used\n",
    "    print(f\"Print statement 2: {a}\")\n",
    "\n",
    "func1()\n",
    "print(f\"Print statement 3: {a}\")"
   ]
  },
  {
   "cell_type": "code",
   "execution_count": 10,
   "id": "f083d885",
   "metadata": {},
   "outputs": [
    {
     "name": "stdout",
     "output_type": "stream",
     "text": [
      "3 0\n",
      "53 1\n",
      "2 2\n",
      "False 3\n",
      "6.2 4\n",
      "Harry 5\n",
      "3 0\n",
      "53 1\n",
      "2 2\n",
      "False 3\n",
      "6.2 4\n",
      "Harry 5\n"
     ]
    }
   ],
   "source": [
    "#ENUMERATE\n",
    "\n",
    "list1 = [3, 53, 2, False, 6.2, \"Harry\"]\n",
    "\n",
    "index = 0\n",
    "for item in list1:\n",
    "    print(item, index)\n",
    "    index += 1\n",
    "\n",
    "for index, item in enumerate(list1):\n",
    "    print(item, index)"
   ]
  },
  {
   "cell_type": "code",
   "execution_count": 11,
   "id": "ed337e2e",
   "metadata": {},
   "outputs": [
    {
     "name": "stdout",
     "output_type": "stream",
     "text": [
      "[6, 8, 2, 4]\n",
      "{1, 2, 3, 4}\n"
     ]
    }
   ],
   "source": [
    "#LIST COMPREHENSION\n",
    "\n",
    "a = [3, 6, 7, 8, 9, 2, 4, 23, 75, 23, 123, 67]\n",
    "# b = []\n",
    "# for item in a:\n",
    "#     if item%2==0:\n",
    "#         b.append(item)\n",
    "# print(b)\n",
    "\n",
    "# Shortcut to write the same:\n",
    "b = [i for i in a if i%2==0]\n",
    "print(b)\n",
    "\n",
    "t = [1, 4, 2, 4, 1, 2, 3]\n",
    "s = {i for i in t}\n",
    "print(s)"
   ]
  },
  {
   "cell_type": "code",
   "execution_count": null,
   "id": "3f71440c",
   "metadata": {},
   "outputs": [],
   "source": []
  }
 ],
 "metadata": {
  "kernelspec": {
   "display_name": "Python 3 (ipykernel)",
   "language": "python",
   "name": "python3"
  },
  "language_info": {
   "codemirror_mode": {
    "name": "ipython",
    "version": 3
   },
   "file_extension": ".py",
   "mimetype": "text/x-python",
   "name": "python",
   "nbconvert_exporter": "python",
   "pygments_lexer": "ipython3",
   "version": "3.9.12"
  }
 },
 "nbformat": 4,
 "nbformat_minor": 5
}
