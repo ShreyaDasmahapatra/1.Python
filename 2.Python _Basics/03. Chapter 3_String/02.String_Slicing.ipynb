{
 "cells": [
  {
   "cell_type": "code",
   "execution_count": 2,
   "id": "8a0377c7",
   "metadata": {},
   "outputs": [
    {
     "name": "stdout",
     "output_type": "stream",
     "text": [
      "<class 'str'>\n"
     ]
    }
   ],
   "source": [
    "greeting = \"Good Morning, \"\n",
    "name = \"Harry\"\n",
    "print(type(name))\n"
   ]
  },
  {
   "cell_type": "code",
   "execution_count": 3,
   "id": "13fc7c30",
   "metadata": {},
   "outputs": [
    {
     "name": "stdout",
     "output_type": "stream",
     "text": [
      "Good Morning, Harry\n"
     ]
    }
   ],
   "source": [
    "# Concatenating two strings\n",
    "c = greeting + name\n",
    "print(c)\n"
   ]
  },
  {
   "cell_type": "code",
   "execution_count": 5,
   "id": "0486e388",
   "metadata": {},
   "outputs": [
    {
     "name": "stdout",
     "output_type": "stream",
     "text": [
      "y\n"
     ]
    },
    {
     "ename": "TypeError",
     "evalue": "'str' object does not support item assignment",
     "output_type": "error",
     "traceback": [
      "\u001b[1;31m---------------------------------------------------------------------------\u001b[0m",
      "\u001b[1;31mTypeError\u001b[0m                                 Traceback (most recent call last)",
      "Input \u001b[1;32mIn [5]\u001b[0m, in \u001b[0;36m<cell line: 4>\u001b[1;34m()\u001b[0m\n\u001b[0;32m      2\u001b[0m name \u001b[38;5;241m=\u001b[39m \u001b[38;5;124m\"\u001b[39m\u001b[38;5;124mHarry\u001b[39m\u001b[38;5;124m\"\u001b[39m\n\u001b[0;32m      3\u001b[0m \u001b[38;5;28mprint\u001b[39m(name[\u001b[38;5;241m4\u001b[39m])\n\u001b[1;32m----> 4\u001b[0m name[\u001b[38;5;241m3\u001b[39m] \u001b[38;5;241m=\u001b[39m \u001b[38;5;124m\"\u001b[39m\u001b[38;5;124md\u001b[39m\u001b[38;5;124m\"\u001b[39m\n",
      "\u001b[1;31mTypeError\u001b[0m: 'str' object does not support item assignment"
     ]
    }
   ],
   "source": [
    "#Will show error as String is immutable\n",
    "name = \"Harry\"\n",
    "print(name[4])\n",
    "name[3] = \"d\" \n"
   ]
  },
  {
   "cell_type": "code",
   "execution_count": 8,
   "id": "49612f9b",
   "metadata": {},
   "outputs": [
    {
     "name": "stdout",
     "output_type": "stream",
     "text": [
      "arr\n",
      "Harr\n",
      "arry\n",
      "arr\n",
      "Hrso\n",
      "dooGsIyrraH\n"
     ]
    }
   ],
   "source": [
    "name = \"Harry\"\n",
    "print(name[1:4])\n",
    "print(name[:4]) # is same as name[0:4]\n",
    "print(name[1:]) # is same as name[1:5]\n",
    "c = name[-4:-1] # is same is name[1:4]\n",
    "print(c)\n",
    "\n",
    "name = \"HarryIsGood\"\n",
    "d = name[0::3]\n",
    "print(d)\n",
    "d = name[::-1]\n",
    "print(d)"
   ]
  },
  {
   "cell_type": "code",
   "execution_count": null,
   "id": "a287437e",
   "metadata": {},
   "outputs": [],
   "source": []
  },
  {
   "cell_type": "code",
   "execution_count": null,
   "id": "90a5fe75",
   "metadata": {},
   "outputs": [],
   "source": []
  }
 ],
 "metadata": {
  "kernelspec": {
   "display_name": "Python 3 (ipykernel)",
   "language": "python",
   "name": "python3"
  },
  "language_info": {
   "codemirror_mode": {
    "name": "ipython",
    "version": 3
   },
   "file_extension": ".py",
   "mimetype": "text/x-python",
   "name": "python",
   "nbconvert_exporter": "python",
   "pygments_lexer": "ipython3",
   "version": "3.9.12"
  }
 },
 "nbformat": 4,
 "nbformat_minor": 5
}
