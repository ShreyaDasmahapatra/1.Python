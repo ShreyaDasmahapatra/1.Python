{
 "cells": [
  {
   "cell_type": "code",
   "execution_count": 1,
   "id": "bb3a8bed",
   "metadata": {},
   "outputs": [
    {
     "name": "stdout",
     "output_type": "stream",
     "text": [
      "Enter your name\n",
      "Shreya\n",
      "Good Afternoon, Shreya\n"
     ]
    }
   ],
   "source": [
    "name = input(\"Enter your name\\n\")\n",
    "print(\"Good Afternoon, \" + name)"
   ]
  },
  {
   "cell_type": "code",
   "execution_count": null,
   "id": "e2a92a13",
   "metadata": {},
   "outputs": [],
   "source": []
  }
 ],
 "metadata": {
  "kernelspec": {
   "display_name": "Python 3 (ipykernel)",
   "language": "python",
   "name": "python3"
  },
  "language_info": {
   "codemirror_mode": {
    "name": "ipython",
    "version": 3
   },
   "file_extension": ".py",
   "mimetype": "text/x-python",
   "name": "python",
   "nbconvert_exporter": "python",
   "pygments_lexer": "ipython3",
   "version": "3.9.12"
  }
 },
 "nbformat": 4,
 "nbformat_minor": 5
}
