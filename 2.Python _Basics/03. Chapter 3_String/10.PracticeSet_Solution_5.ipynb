{
 "cells": [
  {
   "cell_type": "code",
   "execution_count": 1,
   "id": "e19ca453",
   "metadata": {},
   "outputs": [
    {
     "name": "stdout",
     "output_type": "stream",
     "text": [
      "Dear Harry, This Python course is nice! Thanks!\n",
      "Dear Harry,\n",
      "\tThis Python course is nice!\n",
      "Thanks!\n"
     ]
    }
   ],
   "source": [
    "letter = \"Dear Harry, This Python course is nice! Thanks!\"\n",
    "print(letter)\n",
    "\n",
    "formatted_letter = \"Dear Harry,\\n\\tThis Python course is nice!\\nThanks!\"\n",
    "print(formatted_letter)"
   ]
  },
  {
   "cell_type": "code",
   "execution_count": null,
   "id": "a90cc55b",
   "metadata": {},
   "outputs": [],
   "source": []
  }
 ],
 "metadata": {
  "kernelspec": {
   "display_name": "Python 3 (ipykernel)",
   "language": "python",
   "name": "python3"
  },
  "language_info": {
   "codemirror_mode": {
    "name": "ipython",
    "version": 3
   },
   "file_extension": ".py",
   "mimetype": "text/x-python",
   "name": "python",
   "nbconvert_exporter": "python",
   "pygments_lexer": "ipython3",
   "version": "3.9.12"
  }
 },
 "nbformat": 4,
 "nbformat_minor": 5
}
