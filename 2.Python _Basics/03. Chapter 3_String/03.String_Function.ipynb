{
 "cells": [
  {
   "cell_type": "code",
   "execution_count": 3,
   "id": "de909f48",
   "metadata": {},
   "outputs": [
    {
     "name": "stdout",
     "output_type": "stream",
     "text": [
      "93\n",
      "False\n",
      "2\n",
      "Once upon a time there was a youtuber named harry who uploaded python course with notes harry\n",
      "-1\n",
      "once upon a time there was a youtuber named CodeWithHarry who uploaded python course with notes CodeWithHarry\n"
     ]
    }
   ],
   "source": [
    "story = \"once upon a time there was a youtuber named Harry who uploaded python course with notes Harry\"\n",
    "\n",
    "# String Functions\n",
    "print(len(story))\n",
    "print(story.endswith(\"notes\"))\n",
    "print(story.count(\"c\"))\n",
    "print(story.capitalize())\n",
    "print(story.find(\"Shreya\"))\n",
    "print(story.replace(\"Harry\", \"CodeWithHarry\"))"
   ]
  },
  {
   "cell_type": "code",
   "execution_count": null,
   "id": "3caa52e8",
   "metadata": {},
   "outputs": [],
   "source": []
  },
  {
   "cell_type": "code",
   "execution_count": null,
   "id": "43f676d6",
   "metadata": {},
   "outputs": [],
   "source": []
  }
 ],
 "metadata": {
  "kernelspec": {
   "display_name": "Python 3 (ipykernel)",
   "language": "python",
   "name": "python3"
  },
  "language_info": {
   "codemirror_mode": {
    "name": "ipython",
    "version": 3
   },
   "file_extension": ".py",
   "mimetype": "text/x-python",
   "name": "python",
   "nbconvert_exporter": "python",
   "pygments_lexer": "ipython3",
   "version": "3.9.12"
  }
 },
 "nbformat": 4,
 "nbformat_minor": 5
}
