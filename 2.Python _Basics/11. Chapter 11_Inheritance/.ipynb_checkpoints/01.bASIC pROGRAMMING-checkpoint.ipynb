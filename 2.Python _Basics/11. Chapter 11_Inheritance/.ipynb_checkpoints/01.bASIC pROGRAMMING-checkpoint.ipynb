{
 "cells": [
  {
   "cell_type": "code",
   "execution_count": 2,
   "id": "44e13899",
   "metadata": {},
   "outputs": [
    {
     "name": "stdout",
     "output_type": "stream",
     "text": [
      "This is an employee\n",
      "This is an programmer\n",
      "Youtube\n"
     ]
    }
   ],
   "source": [
    "#INHERITANCE\n",
    "\n",
    "\n",
    "class Employee:\n",
    "    company = \"Google\"\n",
    "\n",
    "    def showDetails(self):\n",
    "        print(\"This is an employee\")\n",
    "\n",
    "class Programmer(Employee):\n",
    "    language = \"Python\"\n",
    "    company = \"Youtube\"\n",
    "\n",
    "    def getLanguage(self):\n",
    "        print(f\"The language is {self.language}\")\n",
    "    \n",
    "    def showDetails(self):\n",
    "        print(\"This is an programmer\")\n",
    "\n",
    "\n",
    "e = Employee()\n",
    "e.showDetails()\n",
    "p = Programmer()\n",
    "p.showDetails()\n",
    "print(p.company)"
   ]
  },
  {
   "cell_type": "code",
   "execution_count": 4,
   "id": "53be32b1",
   "metadata": {},
   "outputs": [
    {
     "name": "stdout",
     "output_type": "stream",
     "text": [
      "This is an employee\n",
      "This is an programmer\n",
      "Youtube\n"
     ]
    }
   ],
   "source": [
    "#SINGLE INHERITANCE\n",
    "\n",
    "class Employee:\n",
    "    company = \"Google\"\n",
    "\n",
    "    def showDetails(self):\n",
    "        print(\"This is an employee\")\n",
    "\n",
    "class Programmer(Employee):\n",
    "    language = \"Python\"\n",
    "    company = \"Youtube\"\n",
    "\n",
    "    def getLanguage(self):\n",
    "        print(f\"The language is {self.language}\")\n",
    "    \n",
    "    def showDetails(self):\n",
    "        print(\"This is an programmer\")\n",
    "\n",
    "\n",
    "e = Employee()\n",
    "e.showDetails()\n",
    "p = Programmer()\n",
    "p.showDetails()\n",
    "print(p.company)"
   ]
  },
  {
   "cell_type": "code",
   "execution_count": 6,
   "id": "9c6b3b16",
   "metadata": {},
   "outputs": [
    {
     "name": "stdout",
     "output_type": "stream",
     "text": [
      "1\n",
      "Employees 6\n",
      "Visa\n"
     ]
    }
   ],
   "source": [
    "#MULTIPLE INHERITANCE\n",
    "\n",
    "\n",
    "class Freelancer:\n",
    "    company = \"Fiverr\"\n",
    "    level = 0\n",
    "\n",
    "    def upgradeLevel(self):\n",
    "        self.level = self.level + 1\n",
    "        print(self.level)\n",
    "    def fun(self,a,b):\n",
    "        self.a=a\n",
    "        self.b=b\n",
    "        \n",
    "        print(\"freelancer\",self.a+self.b)\n",
    "\n",
    "class Employee:\n",
    "    company = \"Visa\"\n",
    "    eCode = 120\n",
    "    def fun(self,a,b):\n",
    "        self.a=a\n",
    "        self.b=b\n",
    "        \n",
    "        print(\"Employees\",self.a+self.b)\n",
    "\n",
    "\n",
    "\n",
    "\n",
    "\n",
    "\n",
    "class Programmer(Employee,Freelancer):#incase it gets any function/variable name..etc same in both the classes it will choose the first argument of the parameter list...i.e..here Employee \n",
    "    name = \"Rohit\"\n",
    "\n",
    "p = Programmer()\n",
    "p.upgradeLevel()\n",
    "p.fun(2,4)\n",
    "print(p.company)"
   ]
  },
  {
   "cell_type": "code",
   "execution_count": 7,
   "id": "46f6a9fd",
   "metadata": {},
   "outputs": [
    {
     "name": "stdout",
     "output_type": "stream",
     "text": [
      "I am breathing...\n",
      "I am an Employee so I am luckily breathing..\n",
      "Honda\n",
      "I am a Progarmmer so I am breathing++..\n",
      "Fiverr\n",
      "India\n"
     ]
    }
   ],
   "source": [
    "#MULTILEVEL INHERITANCE\n",
    "\n",
    "class Person:\n",
    "    country = \"India\"\n",
    "    def takeBreath(self):\n",
    "        print(\"I am breathing...\")\n",
    "\n",
    "class Employee(Person):\n",
    "    company = \"Honda\"\n",
    "\n",
    "    def getSalary(self):\n",
    "        print(f\"Salary is {self.salary}\")\n",
    "    \n",
    "    def takeBreath(self):\n",
    "        print(\"I am an Employee so I am luckily breathing..\")\n",
    "\n",
    "class Programmer(Employee):\n",
    "    company = \"Fiverr\"\n",
    "    \n",
    "    def getSalary(self):\n",
    "        print(f\"No salary to programmers\")\n",
    "    \n",
    "    def takeBreath(self):\n",
    "        print(\"I am a Progarmmer so I am breathing++..\")\n",
    "\n",
    "p = Person()\n",
    "p.takeBreath()\n",
    "# print(p.company) # throws an error\n",
    "\n",
    "e = Employee()\n",
    "e.takeBreath()\n",
    "print(e.company)\n",
    "\n",
    "pr = Programmer()\n",
    "pr.takeBreath()\n",
    "print(pr.company)\n",
    "print(pr.country)\n"
   ]
  },
  {
   "cell_type": "code",
   "execution_count": 8,
   "id": "7ce8c3fe",
   "metadata": {},
   "outputs": [
    {
     "name": "stdout",
     "output_type": "stream",
     "text": [
      "Initializing Person...\n",
      "\n",
      "Initializing Employee...\n",
      "\n",
      "Initializing Programmer...\n",
      "\n"
     ]
    }
   ],
   "source": [
    "#SUPER\n",
    "\n",
    "class Person:\n",
    "    country = \"India\"\n",
    "\n",
    "    def __init__(self):\n",
    "        print(\"Initializing Person...\\n\")\n",
    "\n",
    "    def takeBreath(self):\n",
    "        print(\"I am breathing...\")\n",
    "\n",
    "class Employee(Person):\n",
    "    company = \"Honda\"\n",
    "\n",
    "    def __init__(self):\n",
    "        super().__init__()\n",
    "        print(\"Initializing Employee...\\n\")\n",
    "\n",
    "    def getSalary(self):\n",
    "        print(f\"Salary is {self.salary}\")\n",
    "    \n",
    "    def takeBreath(self):\n",
    "        super().takeBreath()\n",
    "        print(\"I am an Employee so I am luckily breathing..\")\n",
    "\n",
    "class Programmer(Employee):\n",
    "    company = \"Fiverr\"\n",
    "\n",
    "    def __init__(self):\n",
    "        super().__init__()\n",
    "        print(\"Initializing Programmer...\\n\")\n",
    "\n",
    "    def getSalary(self):\n",
    "        print(f\"No salary to programmers\")\n",
    "    \n",
    "    def takeBreath(self):\n",
    "        super().takeBreath()\n",
    "        print(\"I am a Progarmmer so I am breathing++..\")\n",
    "\n",
    "# p = Person()\n",
    "# p.takeBreath() \n",
    "\n",
    "# e = Employee()\n",
    "# e.takeBreath() \n",
    "\n",
    "pr = Programmer()\n",
    "# pr.takeBreath() \n"
   ]
  },
  {
   "cell_type": "code",
   "execution_count": 9,
   "id": "971adcf6",
   "metadata": {},
   "outputs": [
    {
     "name": "stdout",
     "output_type": "stream",
     "text": [
      "100\n",
      "455\n",
      "100\n"
     ]
    }
   ],
   "source": [
    "#CLASS METHODS\n",
    "\n",
    "class Employee:\n",
    "    company = \"Camel\"\n",
    "    salary = 100\n",
    "    location = \"Delhi\"\n",
    "\n",
    "    def changeSalary(self, sal):\n",
    "        self.salary = sal\n",
    "\n",
    "    \n",
    "    # def changeSalary(self, sal):\n",
    "    #     self.__class__.salary = sal   \n",
    "\n",
    "    # or    \n",
    "\n",
    "    # @classmethod\n",
    "    # def changeSalary(cls, sal):\n",
    "    #     cls.salary = sal\n",
    "\n",
    "e = Employee()\n",
    "print(e.salary)\n",
    "e.changeSalary(455)\n",
    "print(e.salary)\n",
    "print(Employee.salary)"
   ]
  },
  {
   "cell_type": "code",
   "execution_count": 10,
   "id": "bafec7e3",
   "metadata": {},
   "outputs": [
    {
     "name": "stdout",
     "output_type": "stream",
     "text": [
      "6000\n",
      "5600\n",
      "200\n"
     ]
    }
   ],
   "source": [
    "#PROPERTY DECORATOR\n",
    "\n",
    "class Employee:\n",
    "    company = \"Bharat Gas\"\n",
    "    salary = 5600\n",
    "    salarybonus = 400\n",
    "    # totalSalary =6100\n",
    "\n",
    "    @property\n",
    "    def totalSalary(self):\n",
    "        return self.salary + self.salarybonus\n",
    "\n",
    "    @totalSalary.setter\n",
    "    def totalSalary(self, val):\n",
    "        self.salarybonus = val - self.salary\n",
    "\n",
    "e = Employee()\n",
    "print(e.totalSalary)\n",
    "e.totalSalary = 5800\n",
    "print(e.salary)\n",
    "print(e.salarybonus)"
   ]
  },
  {
   "cell_type": "code",
   "execution_count": 11,
   "id": "96931029",
   "metadata": {},
   "outputs": [
    {
     "name": "stdout",
     "output_type": "stream",
     "text": [
      "Lets add\n",
      "10\n"
     ]
    }
   ],
   "source": [
    "#OPERATOR OVERLOADING\n",
    "\n",
    "class Number:\n",
    "    def __init__(self, num):\n",
    "        self.num = num\n",
    "\n",
    "    def __add__(self, num2):\n",
    "        print(\"Lets add\")\n",
    "        return self.num + num2.num\n",
    "\n",
    "    # def __mul__(self, num2):\n",
    "    #     print(\"Lets multiply\")\n",
    "    #     return self.num * num2.num\n",
    "\n",
    "n1 = Number(4)\n",
    "n2 = Number(6)\n",
    "sum = n1 + n2\n",
    "# mul = n1 * n2\n",
    "print(sum)\n",
    "# print(mul)"
   ]
  },
  {
   "cell_type": "code",
   "execution_count": 12,
   "id": "ca49ea15",
   "metadata": {},
   "outputs": [
    {
     "name": "stdout",
     "output_type": "stream",
     "text": [
      "Decimal Number: 9\n",
      "1\n"
     ]
    }
   ],
   "source": [
    "#OTHER DUNDER METHODS\n",
    "\n",
    "class Number:\n",
    "    def __init__(self, num):\n",
    "        self.num = num\n",
    "\n",
    "    def __add__(self, num2):\n",
    "        print(\"Lets add\")\n",
    "        return self.num + num2.num\n",
    "\n",
    "    def __mul__(self, num2):\n",
    "        print(\"Lets multiply\")\n",
    "        return self.num * num2.num\n",
    "    \n",
    "    def __str__(self):\n",
    "        return f\"Decimal Number: {self.num}\"\n",
    "    \n",
    "    def __len__(self):\n",
    "        return 1\n",
    "\n",
    "n = Number(9)\n",
    "print(n)\n",
    "print(len(n))"
   ]
  },
  {
   "cell_type": "code",
   "execution_count": null,
   "id": "e186e8d4",
   "metadata": {},
   "outputs": [],
   "source": []
  }
 ],
 "metadata": {
  "kernelspec": {
   "display_name": "Python 3 (ipykernel)",
   "language": "python",
   "name": "python3"
  },
  "language_info": {
   "codemirror_mode": {
    "name": "ipython",
    "version": 3
   },
   "file_extension": ".py",
   "mimetype": "text/x-python",
   "name": "python",
   "nbconvert_exporter": "python",
   "pygments_lexer": "ipython3",
   "version": "3.9.12"
  }
 },
 "nbformat": 4,
 "nbformat_minor": 5
}
