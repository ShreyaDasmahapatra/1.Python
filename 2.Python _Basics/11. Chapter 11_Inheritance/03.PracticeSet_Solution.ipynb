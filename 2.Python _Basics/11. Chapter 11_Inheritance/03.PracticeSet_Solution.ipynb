{
 "cells": [
  {
   "cell_type": "code",
   "execution_count": 1,
   "id": "f2af1315",
   "metadata": {},
   "outputs": [
    {
     "name": "stdout",
     "output_type": "stream",
     "text": [
      "1i + 3j\n",
      "1i + 9j + 7k\n"
     ]
    }
   ],
   "source": [
    "#1\n",
    "\n",
    "class C2dVec:\n",
    "    def __init__(self, i, j):\n",
    "        self.icap = i\n",
    "        self.jcap = j\n",
    "\n",
    "    def __str__(self):\n",
    "        return f\"{self.icap}i + {self.jcap}j\"\n",
    "\n",
    "class C3dVec(C2dVec):\n",
    "    def __init__(self, i, j, k):\n",
    "        super().__init__(i, j)\n",
    "        self.kcap = k\n",
    "    \n",
    "    def __str__(self):\n",
    "        return f\"{self.icap}i + {self.jcap}j + {self.kcap}k\"\n",
    "    \n",
    "    \n",
    "v2d = C2dVec(1, 3)\n",
    "v3d = C3dVec(1, 9, 7)\n",
    "print(v2d)\n",
    "print(v3d)\n"
   ]
  },
  {
   "cell_type": "code",
   "execution_count": 2,
   "id": "ad258662",
   "metadata": {},
   "outputs": [
    {
     "name": "stdout",
     "output_type": "stream",
     "text": [
      "Bow bow!\n",
      "White\n",
      "Mammal\n"
     ]
    }
   ],
   "source": [
    "#2\n",
    "\n",
    "\n",
    "class Animals:\n",
    "    animalType = \"Mammal\"\n",
    "\n",
    "class Pets(Animals):\n",
    "    color = \"White\"\n",
    "\n",
    "class Dog(Pets):\n",
    "    # @staticmethod\n",
    "    def bark(self):\n",
    "        print(\"Bow bow!\")\n",
    "\n",
    "d=Dog()\n",
    "d.bark()\n",
    "print(d.color)\n",
    "print(d.animalType)"
   ]
  },
  {
   "cell_type": "code",
   "execution_count": 3,
   "id": "67b59303",
   "metadata": {},
   "outputs": [
    {
     "name": "stdout",
     "output_type": "stream",
     "text": [
      "1500.0\n",
      "1.5\n",
      "2.0\n"
     ]
    }
   ],
   "source": [
    "#3\n",
    "\n",
    "\n",
    "# salaryAfterIncrement =  salary * increment\n",
    "\n",
    "class Employee:\n",
    "    salary = 1000\n",
    "    increment = 1.5\n",
    "    @property\n",
    "    def salaryAfterIncrement(self):\n",
    "        return self.salary*self.increment\n",
    "    \n",
    "    @salaryAfterIncrement.setter\n",
    "    def salaryAfterIncrement(self, sai):\n",
    "        self.increment = sai/self.salary\n",
    "\n",
    "e = Employee()\n",
    "print(e.salaryAfterIncrement)\n",
    "\n",
    "print(e.increment)\n",
    "e.salaryAfterIncrement = 2000\n",
    "print(e.increment)"
   ]
  },
  {
   "cell_type": "code",
   "execution_count": 4,
   "id": "f9df00ab",
   "metadata": {},
   "outputs": [
    {
     "name": "stdout",
     "output_type": "stream",
     "text": [
      "1 - 37i\n",
      "0 - 37i\n"
     ]
    }
   ],
   "source": [
    "#4\n",
    "\n",
    "\n",
    "# (a+bi)(c+di) = (ac−bd) + (ad+bc)i\n",
    "\n",
    "class Complex:\n",
    "    def __init__(self, r, i):\n",
    "        self.real = r \n",
    "        self.imaginary = i\n",
    "\n",
    "    def __add__(self1, self2):\n",
    "        return Complex(self1.real + self2.real, self1.imaginary + self2.imaginary)\n",
    "    \n",
    "    def __mul__(self1,self2):\n",
    "        mulReal =  self1.real*self2.real - self1.imaginary*self2.imaginary\n",
    "        mulImg =  self1.real*self2.imaginary + self1.imaginary*self2.real\n",
    "        return Complex(mulReal, mulImg)\n",
    "\n",
    "    def __str__(self):\n",
    "        if self.imaginary<0:\n",
    "            return f\"{self.real} - {-self.imaginary}i\"\n",
    "        else:\n",
    "            return f\"{self.real} + {self.imaginary}i\"\n",
    "\n",
    "c1 = Complex(1, 0)\n",
    "c2 = Complex(0, -37)\n",
    "print(c1 + c2)\n",
    "print(c1 * c2)"
   ]
  },
  {
   "cell_type": "code",
   "execution_count": 5,
   "id": "1e09f895",
   "metadata": {},
   "outputs": [
    {
     "name": "stdout",
     "output_type": "stream",
     "text": [
      " 2a0 + 10a1 + 15a2 \n",
      "79\n"
     ]
    }
   ],
   "source": [
    "#5\n",
    "\n",
    "\n",
    "class Vector:\n",
    "    def __init__(self, vec):\n",
    "        self.vec = vec\n",
    "    \n",
    "    def __str__(self):\n",
    "        str1 = \"\" \n",
    "        index = 0\n",
    "        for i in self.vec:\n",
    "            str1 += f\" {i}a{index} +\"\n",
    "            index +=1\n",
    "        return str1[:-1]\n",
    "\n",
    "    def __add__(self, vec2):\n",
    "        newList = []\n",
    "        for i in range(len(self.vec)):\n",
    "            newList.append(self.vec[i] + vec2.vec[i])\n",
    "        return Vector(newList)\n",
    "    \n",
    "    def __mul__(self, vec2):\n",
    "        sum = 0\n",
    "        for i in range(len(self.vec)):\n",
    "            sum += self.vec[i] * vec2.vec[i]\n",
    "        return sum\n",
    "\n",
    "v1 = Vector([1, 4, 6])\n",
    "v2 = Vector([1, 6, 9])\n",
    "print(v1+v2)\n",
    "print(v1*v2)"
   ]
  },
  {
   "cell_type": "code",
   "execution_count": 6,
   "id": "2d3ff690",
   "metadata": {},
   "outputs": [
    {
     "name": "stdout",
     "output_type": "stream",
     "text": [
      "1i + 4j + 6k\n",
      "1i + 6j + 9k\n"
     ]
    }
   ],
   "source": [
    "#6\n",
    "\n",
    "\n",
    "class Vector:\n",
    "    def __init__(self, vec):\n",
    "        self.vec = vec\n",
    "    \n",
    "    def __str__(self):\n",
    "        return f\"{self.vec[0]}i + {self.vec[1]}j + {self.vec[2]}k\"\n",
    " \n",
    "v1 = Vector([1, 4, 6])\n",
    "v2 = Vector([1, 6, 9])\n",
    "print(v1)\n",
    "print(v2)"
   ]
  },
  {
   "cell_type": "code",
   "execution_count": 7,
   "id": "9b919705",
   "metadata": {},
   "outputs": [
    {
     "name": "stdout",
     "output_type": "stream",
     "text": [
      "4\n",
      "3\n"
     ]
    }
   ],
   "source": [
    "#7\n",
    "\n",
    "class Vector:\n",
    "    def __init__(self, vec):\n",
    "        self.vec = vec\n",
    "    \n",
    "    def __str__(self):\n",
    "        str1 = \"\" \n",
    "        index = 0\n",
    "        for i in self.vec:\n",
    "            str1 += f\" {i}a{index} +\"\n",
    "            index +=1\n",
    "        return str1[:-1]\n",
    "\n",
    "    def __add__(self, vec2):\n",
    "        newList = []\n",
    "        for i in range(len(self.vec)):\n",
    "            newList.append(self.vec[i] + vec2.vec[i])\n",
    "        return Vector(newList)\n",
    "    \n",
    "    def __mul__(self, vec2):\n",
    "        sum = 0\n",
    "        for i in range(len(self.vec)):\n",
    "            sum += self.vec[i] * vec2.vec[i]\n",
    "        return sum\n",
    "    \n",
    "    def __len__(self):\n",
    "        return len(self.vec)\n",
    "\n",
    "v1 = Vector([1, 4, 6, 6])\n",
    "v2 = Vector([1, 6, 9])\n",
    "print(len(v1))\n",
    "print(len(v2))"
   ]
  },
  {
   "cell_type": "code",
   "execution_count": null,
   "id": "c608546e",
   "metadata": {},
   "outputs": [],
   "source": []
  }
 ],
 "metadata": {
  "kernelspec": {
   "display_name": "Python 3 (ipykernel)",
   "language": "python",
   "name": "python3"
  },
  "language_info": {
   "codemirror_mode": {
    "name": "ipython",
    "version": 3
   },
   "file_extension": ".py",
   "mimetype": "text/x-python",
   "name": "python",
   "nbconvert_exporter": "python",
   "pygments_lexer": "ipython3",
   "version": "3.9.12"
  }
 },
 "nbformat": 4,
 "nbformat_minor": 5
}
