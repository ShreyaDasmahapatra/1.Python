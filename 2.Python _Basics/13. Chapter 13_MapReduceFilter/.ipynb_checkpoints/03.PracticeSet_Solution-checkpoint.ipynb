{
 "cells": [
  {
   "cell_type": "code",
   "execution_count": 1,
   "id": "ab7b1bdf",
   "metadata": {},
   "outputs": [
    {
     "name": "stdout",
     "output_type": "stream",
     "text": [
      "Enter your name: shreya\n",
      "Enter your marks: 34\n",
      "Enter you phone Number: 9876543\n",
      "The name of the student is shreya, his marks are 34 and phone number is 9876543 \n"
     ]
    }
   ],
   "source": [
    "#2\n",
    "\n",
    "\n",
    "name = input(\"Enter your name: \")\n",
    "marks = input(\"Enter your marks: \")\n",
    "phone = input(\"Enter you phone Number: \")\n",
    "\n",
    "template = \"The name of the student is {}, his marks are {} and phone number is {} \"\n",
    "output = template.format(name, marks, phone)\n",
    "print(output)\n"
   ]
  },
  {
   "cell_type": "code",
   "execution_count": 2,
   "id": "22d937d8",
   "metadata": {},
   "outputs": [
    {
     "name": "stdout",
     "output_type": "stream",
     "text": [
      "['7', '14', '21', '28', '35', '42', '49', '56', '63', '70']\n",
      "7\n",
      "14\n",
      "21\n",
      "28\n",
      "35\n",
      "42\n",
      "49\n",
      "56\n",
      "63\n",
      "70\n"
     ]
    }
   ],
   "source": [
    "#3\n",
    "\n",
    "l = [str(i*7) for i in range(1, 11)]\n",
    "print(l)\n",
    "\n",
    "verticalTable = \"\\n\".join(l)\n",
    "print(verticalTable)"
   ]
  },
  {
   "cell_type": "code",
   "execution_count": 3,
   "id": "9313eba9",
   "metadata": {},
   "outputs": [
    {
     "name": "stdout",
     "output_type": "stream",
     "text": [
      "[5, 55, 90, 60]\n"
     ]
    }
   ],
   "source": [
    "#4\n",
    "\n",
    "l = [1, 2, 3, 4, 5, 6, 7, 8, 9, 1, 2, 3, 4, 54, 23, 55, 90, 60]\n",
    "\n",
    "a = filter(lambda a: a%5==0, l)\n",
    "print(list(a))"
   ]
  },
  {
   "cell_type": "code",
   "execution_count": 4,
   "id": "4b32a7d8",
   "metadata": {},
   "outputs": [
    {
     "name": "stdout",
     "output_type": "stream",
     "text": [
      "455\n"
     ]
    }
   ],
   "source": [
    "#5\n",
    "\n",
    "from functools import reduce\n",
    "l = [3, 8, 455, 2, 5, 45]\n",
    "\n",
    "a = reduce(max, l)\n",
    "print(a)"
   ]
  },
  {
   "cell_type": "code",
   "execution_count": 5,
   "id": "62fcd548",
   "metadata": {},
   "outputs": [
    {
     "name": "stdout",
     "output_type": "stream",
     "text": [
      " * Serving Flask app \"__main__\" (lazy loading)\n",
      " * Environment: production\n",
      "\u001b[31m   WARNING: This is a development server. Do not use it in a production deployment.\u001b[0m\n",
      "\u001b[2m   Use a production WSGI server instead.\u001b[0m\n",
      " * Debug mode: on\n"
     ]
    },
    {
     "name": "stderr",
     "output_type": "stream",
     "text": [
      " * Restarting with watchdog (windowsapi)\n"
     ]
    },
    {
     "ename": "SystemExit",
     "evalue": "1",
     "output_type": "error",
     "traceback": [
      "An exception has occurred, use %tb to see the full traceback.\n",
      "\u001b[1;31mSystemExit\u001b[0m\u001b[1;31m:\u001b[0m 1\n"
     ]
    },
    {
     "name": "stderr",
     "output_type": "stream",
     "text": [
      "C:\\Users\\ASUS\\anaconda3\\lib\\site-packages\\IPython\\core\\interactiveshell.py:3377: UserWarning: To exit: use 'exit', 'quit', or Ctrl-D.\n",
      "  warn(\"To exit: use 'exit', 'quit', or Ctrl-D.\", stacklevel=1)\n"
     ]
    }
   ],
   "source": [
    "#6\n",
    "\n",
    "from flask import Flask\n",
    "app = Flask(__name__)\n",
    "\n",
    "@app.route('/')\n",
    "def hello_world():\n",
    "    return '''<!doctype html>\n",
    "        <html lang=\"en\">\n",
    "        <head>\n",
    "            <!-- Required meta tags -->\n",
    "            <meta charset=\"utf-8\">\n",
    "            <meta name=\"viewport\" content=\"width=device-width, initial-scale=1, shrink-to-fit=no\">\n",
    "\n",
    "            <!-- Bootstrap CSS -->\n",
    "            <link rel=\"stylesheet\" href=\"https://stackpath.bootstrapcdn.com/bootstrap/4.5.2/css/bootstrap.min.css\" integrity=\"sha384-JcKb8q3iqJ61gNV9KGb8thSsNjpSL0n8PARn9HuZOnIxN0hoP+VmmDGMN5t9UJ0Z\" crossorigin=\"anonymous\">\n",
    "\n",
    "            <title>Hello, world!</title>\n",
    "        </head>\n",
    "        <body>\n",
    "            <h1>Hello, world!</h1>\n",
    "            <div class=\"alert alert-primary\" role=\"alert\">\n",
    "        A simple primary alert with <a href=\"#\" class=\"alert-link\">an example link</a>. Give it a click if you like.\n",
    "        </div>\n",
    "        <div class=\"alert alert-secondary\" role=\"alert\">\n",
    "        A simple secondary alert with <a href=\"#\" class=\"alert-link\">an example link</a>. Give it a click if you like.\n",
    "        </div>\n",
    "        <div class=\"alert alert-success\" role=\"alert\">\n",
    "        A simple success alert with <a href=\"#\" class=\"alert-link\">an example link</a>. Give it a click if you like.\n",
    "        </div>\n",
    "        <div class=\"alert alert-danger\" role=\"alert\">\n",
    "        A simple danger alert with <a href=\"#\" class=\"alert-link\">an example link</a>. Give it a click if you like.\n",
    "        </div>\n",
    "        <div class=\"alert alert-warning\" role=\"alert\">\n",
    "        A simple warning alert with <a href=\"#\" class=\"alert-link\">an example link</a>. Give it a click if you like.\n",
    "        </div>\n",
    "        <div class=\"alert alert-info\" role=\"alert\">\n",
    "        A simple info alert with <a href=\"#\" class=\"alert-link\">an example link</a>. Give it a click if you like.\n",
    "        </div>\n",
    "        <div class=\"alert alert-light\" role=\"alert\">\n",
    "        A simple light alert with <a href=\"#\" class=\"alert-link\">an example link</a>. Give it a click if you like.\n",
    "        </div>\n",
    "        <div class=\"alert alert-dark\" role=\"alert\">\n",
    "        A simple dark alert with <a href=\"#\" class=\"alert-link\">an example link</a>. Give it a click if you like.\n",
    "        </div>\n",
    "            <!-- Optional JavaScript -->\n",
    "            <!-- jQuery first, then Popper.js, then Bootstrap JS -->\n",
    "            <script src=\"https://code.jquery.com/jquery-3.5.1.slim.min.js\" integrity=\"sha384-DfXdz2htPH0lsSSs5nCTpuj/zy4C+OGpamoFVy38MVBnE+IbbVYUew+OrCXaRkfj\" crossorigin=\"anonymous\"></script>\n",
    "            <script src=\"https://cdn.jsdelivr.net/npm/popper.js@1.16.1/dist/umd/popper.min.js\" integrity=\"sha384-9/reFTGAW83EW2RDu2S0VKaIzap3H66lZH81PoYlFhbGU+6BZp6G7niu735Sk7lN\" crossorigin=\"anonymous\"></script>\n",
    "            <script src=\"https://stackpath.bootstrapcdn.com/bootstrap/4.5.2/js/bootstrap.min.js\" integrity=\"sha384-B4gt1jrGC7Jh4AgTPSdUtOBvfO8shuf57BaghqFfPlYxofvL8/KUEfYiJOMMV+rV\" crossorigin=\"anonymous\"></script>\n",
    "        </body>\n",
    "        </html>'''\n",
    "\n",
    "if __name__ == \"__main__\":\n",
    "    app.run(debug=True)"
   ]
  },
  {
   "cell_type": "code",
   "execution_count": null,
   "id": "2864aeed",
   "metadata": {},
   "outputs": [],
   "source": []
  }
 ],
 "metadata": {
  "kernelspec": {
   "display_name": "Python 3 (ipykernel)",
   "language": "python",
   "name": "python3"
  },
  "language_info": {
   "codemirror_mode": {
    "name": "ipython",
    "version": 3
   },
   "file_extension": ".py",
   "mimetype": "text/x-python",
   "name": "python",
   "nbconvert_exporter": "python",
   "pygments_lexer": "ipython3",
   "version": "3.9.12"
  }
 },
 "nbformat": 4,
 "nbformat_minor": 5
}
