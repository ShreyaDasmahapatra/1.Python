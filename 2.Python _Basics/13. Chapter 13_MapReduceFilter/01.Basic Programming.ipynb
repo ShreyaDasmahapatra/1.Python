{
 "cells": [
  {
   "cell_type": "code",
   "execution_count": 1,
   "id": "ebc7dfc0",
   "metadata": {},
   "outputs": [
    {
     "name": "stdout",
     "output_type": "stream",
     "text": [
      "8\n",
      "9\n",
      "6\n"
     ]
    }
   ],
   "source": [
    "#LAMBDA\n",
    "\n",
    "\n",
    "# def func(a):\n",
    "#     return a+5\n",
    "\n",
    "func = lambda a: a+5\n",
    "square = lambda x: x*x\n",
    "sum = lambda a, b, c: a+b+c\n",
    "\n",
    "x = 3\n",
    "print(func(x)) # Prints 8\n",
    "print(square(x)) # Prints 9\n",
    "print(sum(x, 1, 2)) # Prints 6"
   ]
  },
  {
   "cell_type": "code",
   "execution_count": 2,
   "id": "5dcde1e7",
   "metadata": {},
   "outputs": [
    {
     "name": "stdout",
     "output_type": "stream",
     "text": [
      "Camera\n",
      "Laptop\n",
      "Phone\n",
      "ipad\n",
      "Hard Disk\n",
      "Nvidia Graphic 3080 card\n",
      "<class 'str'>\n"
     ]
    }
   ],
   "source": [
    "#JOIN\n",
    "\n",
    "\n",
    "l = [\"Camera\", \"Laptop\", \"Phone\", \"ipad\", \"Hard Disk\", \"Nvidia Graphic 3080 card\"]\n",
    "\n",
    "# sentence = \"~~\".join(l)\n",
    "# sentence = \"==\".join(l)\n",
    "sentence = \"\\n\".join(l)\n",
    "print(sentence)\n",
    "print(type(sentence))"
   ]
  },
  {
   "cell_type": "code",
   "execution_count": 3,
   "id": "f4136629",
   "metadata": {},
   "outputs": [
    {
     "name": "stdout",
     "output_type": "stream",
     "text": [
      "This is Harry and his CodeWithHarry channel is Coding\n"
     ]
    }
   ],
   "source": [
    "#FORMAT\n",
    "\n",
    "name = \"Harry\"\n",
    "channel = \"CodeWithHarry\"\n",
    "type = \"Coding\"\n",
    "# a = f\"This is {name}\"\n",
    "# a = \"This is {}\".format(name)\n",
    "# a = \"This is {} and his channel is {}\".format(name, channel)\n",
    "# a = \"This is {0} and his {2} channel is {1}\".format(name, channel, type)\n",
    "a = \"This is {} and his {} channel is {}\".format(name, channel, type)\n",
    "\n",
    "print(a)"
   ]
  },
  {
   "cell_type": "code",
   "execution_count": 4,
   "id": "c7194cb7",
   "metadata": {},
   "outputs": [
    {
     "name": "stdout",
     "output_type": "stream",
     "text": [
      "[1, 4, 16]\n",
      "[1, 4, 16]\n"
     ]
    }
   ],
   "source": [
    "#MAP\n",
    "\n",
    "def square(num):\n",
    "    return num*num\n",
    "\n",
    "l = [1, 2, 4]\n",
    "\n",
    "# Method 1\n",
    "l2 = []\n",
    "for item in l:\n",
    "    l2.append(square(item))\n",
    "print(l2)\n",
    "\n",
    "# Method 2\n",
    "print(list(map(square, l)))"
   ]
  },
  {
   "cell_type": "code",
   "execution_count": 5,
   "id": "1231967b",
   "metadata": {},
   "outputs": [
    {
     "name": "stdout",
     "output_type": "stream",
     "text": [
      "[6, 7, 8, 89, 98]\n",
      "[89, 98]\n"
     ]
    }
   ],
   "source": [
    "#FILTER\n",
    "\n",
    "\n",
    "# Filter Syntax: list(filter(function, list))\n",
    "def greater_than_5(num):\n",
    "    if num > 5:\n",
    "        return True\n",
    "    else:\n",
    "        return False\n",
    "\n",
    "g10 = lambda num: num>10\n",
    "\n",
    "l = [1, 2, 3, 4, 5, 6, 7, 8, 89, 98]\n",
    "print(list(filter(greater_than_5, l)))\n",
    "print(list(filter(g10, l)))"
   ]
  },
  {
   "cell_type": "code",
   "execution_count": 6,
   "id": "46bba833",
   "metadata": {},
   "outputs": [
    {
     "name": "stdout",
     "output_type": "stream",
     "text": [
      "10\n"
     ]
    }
   ],
   "source": [
    "#REDUCE\n",
    "\n",
    "\n",
    "from functools import reduce\n",
    "\n",
    "sum = lambda a, b: a+b\n",
    "\n",
    "l = [1, 2, 3, 4]\n",
    "val = reduce(sum, l)\n",
    "print(val)"
   ]
  },
  {
   "cell_type": "code",
   "execution_count": null,
   "id": "f693e5c9",
   "metadata": {},
   "outputs": [],
   "source": []
  }
 ],
 "metadata": {
  "kernelspec": {
   "display_name": "Python 3 (ipykernel)",
   "language": "python",
   "name": "python3"
  },
  "language_info": {
   "codemirror_mode": {
    "name": "ipython",
    "version": 3
   },
   "file_extension": ".py",
   "mimetype": "text/x-python",
   "name": "python",
   "nbconvert_exporter": "python",
   "pygments_lexer": "ipython3",
   "version": "3.9.12"
  }
 },
 "nbformat": 4,
 "nbformat_minor": 5
}
