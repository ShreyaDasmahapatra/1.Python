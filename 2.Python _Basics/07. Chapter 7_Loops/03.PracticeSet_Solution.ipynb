{
 "cells": [
  {
   "cell_type": "code",
   "execution_count": 1,
   "id": "8ca440e4",
   "metadata": {},
   "outputs": [
    {
     "name": "stdout",
     "output_type": "stream",
     "text": [
      "Enter the number2\n",
      "2X1=2\n",
      "2X2=4\n",
      "2X3=6\n",
      "2X4=8\n",
      "2X5=10\n",
      "2X6=12\n",
      "2X7=14\n",
      "2X8=16\n",
      "2X9=18\n",
      "2X10=20\n"
     ]
    }
   ],
   "source": [
    "#1\n",
    "num = int(input(\"Enter the number\"))\n",
    "for i in range(1, 11):\n",
    "    # print(str(num) + \" X \" + str(i) + \"=\" + str(i*num))\n",
    "    print(f\"{num}X{i}={num*i}\")"
   ]
  },
  {
   "cell_type": "code",
   "execution_count": 2,
   "id": "32c687eb",
   "metadata": {},
   "outputs": [
    {
     "name": "stdout",
     "output_type": "stream",
     "text": [
      "Hello Sohan\n",
      "Hello Sachin\n"
     ]
    }
   ],
   "source": [
    "#2\n",
    "l1 = [\"Harry\", \"Sohan\", \"Sachin\", \"Rahul\"]\n",
    "\n",
    "for name in l1:\n",
    "    if name.startswith(\"S\"):\n",
    "        print(\"Hello \" + name)"
   ]
  },
  {
   "cell_type": "code",
   "execution_count": 3,
   "id": "07f2b20f",
   "metadata": {},
   "outputs": [
    {
     "name": "stdout",
     "output_type": "stream",
     "text": [
      "Enter the number: 3\n",
      "Prime\n"
     ]
    }
   ],
   "source": [
    "#4\n",
    "import math\n",
    "num = int(input(\"Enter the number: \"))\n",
    "# prime = True\n",
    "\n",
    "# for i in range(2, num):\n",
    "#     if(num%i == 0):\n",
    "#         prime = False\n",
    "#         break\n",
    "# if prime:\n",
    "#     print(\"This number is Prime\")\n",
    "# else:\n",
    "#     print(\"This number is not Prime\")\n",
    "c=0\n",
    "i=2\n",
    "while(i*i<num):\n",
    "    if(num%i==0):\n",
    "        c=c+1\n",
    "        break\n",
    "    i=i+1\n",
    "if(c==0):\n",
    "    print(\"Prime\")\n",
    "else:\n",
    "    print(\"not Prime\")"
   ]
  },
  {
   "cell_type": "code",
   "execution_count": 4,
   "id": "22aa572c",
   "metadata": {},
   "outputs": [
    {
     "name": "stdout",
     "output_type": "stream",
     "text": [
      "Enter the number5\n",
      "15\n"
     ]
    }
   ],
   "source": [
    "#5\n",
    "n=int(input(\"Enter the number\"))\n",
    "i=1\n",
    "s=0\n",
    "while i<=n:\n",
    "    s=s+i\n",
    "    i=i+1\n",
    "print(s)"
   ]
  },
  {
   "cell_type": "code",
   "execution_count": 5,
   "id": "2694f10d",
   "metadata": {},
   "outputs": [
    {
     "name": "stdout",
     "output_type": "stream",
     "text": [
      "Enter the number: 3\n",
      "The factorial of 3 is 6\n"
     ]
    }
   ],
   "source": [
    "#6\n",
    "\n",
    "# n! = 1 X 2 X 3 X ..... X n\n",
    "# 5! = 1 X 2 X 3 X 4 X 5\n",
    "\n",
    "num = int(input(\"Enter the number: \"))\n",
    "factorial = 1\n",
    "for i in range(1, num+1):\n",
    "    factorial = factorial * i\n",
    "print(f\"The factorial of {num} is {factorial}\")"
   ]
  },
  {
   "cell_type": "code",
   "execution_count": 6,
   "id": "396f1bb6",
   "metadata": {},
   "outputs": [
    {
     "name": "stdout",
     "output_type": "stream",
     "text": [
      "*\n",
      "**\n",
      "***\n",
      "****\n"
     ]
    }
   ],
   "source": [
    "n = 4\n",
    "\n",
    "for i in range(4):\n",
    "    print(\"*\" * (i+1))\n",
    "    "
   ]
  },
  {
   "cell_type": "code",
   "execution_count": 7,
   "id": "bceea80c",
   "metadata": {},
   "outputs": [
    {
     "name": "stdout",
     "output_type": "stream",
     "text": [
      "  *  \n",
      " *** \n",
      "*****\n"
     ]
    }
   ],
   "source": [
    "n = 3\n",
    "for i in range(n): \n",
    "    print(\" \" * (n-i-1), end=\"\")\n",
    "    print(\"*\" * (2*i+1), end=\"\")\n",
    "    print(\" \" * (n-i-1))"
   ]
  },
  {
   "cell_type": "code",
   "execution_count": null,
   "id": "dc517359",
   "metadata": {},
   "outputs": [],
   "source": []
  },
  {
   "cell_type": "code",
   "execution_count": null,
   "id": "c99aa7df",
   "metadata": {},
   "outputs": [],
   "source": []
  }
 ],
 "metadata": {
  "kernelspec": {
   "display_name": "Python 3 (ipykernel)",
   "language": "python",
   "name": "python3"
  },
  "language_info": {
   "codemirror_mode": {
    "name": "ipython",
    "version": 3
   },
   "file_extension": ".py",
   "mimetype": "text/x-python",
   "name": "python",
   "nbconvert_exporter": "python",
   "pygments_lexer": "ipython3",
   "version": "3.9.12"
  }
 },
 "nbformat": 4,
 "nbformat_minor": 5
}
