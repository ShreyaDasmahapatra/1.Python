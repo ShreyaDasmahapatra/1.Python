{
 "cells": [
  {
   "cell_type": "code",
   "execution_count": 1,
   "id": "35ed11f3",
   "metadata": {},
   "outputs": [
    {
     "name": "stdout",
     "output_type": "stream",
     "text": [
      "Yes 0\n",
      "Yes 1\n",
      "Yes 2\n",
      "Yes 3\n",
      "Yes 4\n",
      "Yes 5\n",
      "Yes 6\n",
      "Yes 7\n",
      "Yes 8\n",
      "Yes 9\n",
      "Done\n"
     ]
    }
   ],
   "source": [
    "#WHILE LOOP\n",
    "\n",
    "i = 0\n",
    "while i<10:\n",
    "    print(\"Yes \" + str(i))\n",
    "    i = i + 1\n",
    "\n",
    "print(\"Done\")"
   ]
  },
  {
   "cell_type": "code",
   "execution_count": 2,
   "id": "55520d72",
   "metadata": {},
   "outputs": [
    {
     "name": "stdout",
     "output_type": "stream",
     "text": [
      "1\n",
      "2\n",
      "3\n",
      "4\n",
      "5\n",
      "6\n",
      "7\n",
      "8\n",
      "9\n",
      "10\n",
      "11\n",
      "12\n",
      "13\n",
      "14\n",
      "15\n",
      "16\n",
      "17\n",
      "18\n",
      "19\n",
      "20\n",
      "21\n",
      "22\n",
      "23\n",
      "24\n",
      "25\n",
      "26\n",
      "27\n",
      "28\n",
      "29\n",
      "30\n",
      "31\n",
      "32\n",
      "33\n",
      "34\n",
      "35\n",
      "36\n",
      "37\n",
      "38\n",
      "39\n",
      "40\n",
      "41\n",
      "42\n",
      "43\n",
      "44\n",
      "45\n",
      "46\n",
      "47\n",
      "48\n",
      "49\n",
      "50\n"
     ]
    }
   ],
   "source": [
    "i = 1\n",
    "\n",
    "while i<=50:\n",
    "    print(i)\n",
    "    i = i + 1\n"
   ]
  },
  {
   "cell_type": "code",
   "execution_count": 3,
   "id": "5d20e027",
   "metadata": {},
   "outputs": [
    {
     "name": "stdout",
     "output_type": "stream",
     "text": [
      "Banana\n",
      "Watermelon\n",
      "Grapes\n",
      "Mangoes\n"
     ]
    }
   ],
   "source": [
    "fruits = ['Banana', 'Watermelon', 'Grapes', 'Mangoes']\n",
    "i = 0\n",
    "while i<len(fruits):\n",
    "    print(fruits[i])\n",
    "    i = i+1\n"
   ]
  },
  {
   "cell_type": "code",
   "execution_count": 4,
   "id": "fd60bcec",
   "metadata": {},
   "outputs": [
    {
     "name": "stdout",
     "output_type": "stream",
     "text": [
      "Banana\n",
      "Watermelon\n",
      "Grapes\n",
      "Mangoes\n"
     ]
    }
   ],
   "source": [
    "fruits = ['Banana', 'Watermelon', 'Grapes', 'Mangoes']\n",
    "\n",
    "for item in fruits:\n",
    "    print(item)"
   ]
  },
  {
   "cell_type": "code",
   "execution_count": 5,
   "id": "de2e4568",
   "metadata": {},
   "outputs": [
    {
     "name": "stdout",
     "output_type": "stream",
     "text": [
      "1\n",
      "3\n",
      "5\n",
      "7\n"
     ]
    }
   ],
   "source": [
    "for i in range(1, 8, 2):\n",
    "    print(i)"
   ]
  },
  {
   "cell_type": "code",
   "execution_count": 6,
   "id": "7837d024",
   "metadata": {},
   "outputs": [
    {
     "name": "stdout",
     "output_type": "stream",
     "text": [
      "0\n",
      "1\n",
      "2\n",
      "3\n",
      "4\n",
      "5\n",
      "6\n",
      "7\n",
      "8\n",
      "9\n",
      "This is inside else of for\n"
     ]
    }
   ],
   "source": [
    "for i in range(10):\n",
    "    print(i)\n",
    "else:\n",
    "    print(\"This is inside else of for\")"
   ]
  },
  {
   "cell_type": "code",
   "execution_count": 7,
   "id": "425e5df0",
   "metadata": {},
   "outputs": [
    {
     "name": "stdout",
     "output_type": "stream",
     "text": [
      "0\n",
      "1\n",
      "2\n",
      "3\n",
      "4\n",
      "5\n"
     ]
    }
   ],
   "source": [
    "#BREAK\n",
    "\n",
    "for i in range(10):\n",
    "    print(i)\n",
    "    if i == 5:\n",
    "        break\n",
    "else:\n",
    "    print(\"This is inside else of for\")"
   ]
  },
  {
   "cell_type": "code",
   "execution_count": 8,
   "id": "4aa0ae99",
   "metadata": {},
   "outputs": [
    {
     "name": "stdout",
     "output_type": "stream",
     "text": [
      "printing\n",
      "0\n",
      "printing\n",
      "1\n",
      "printing\n",
      "printing\n",
      "3\n"
     ]
    }
   ],
   "source": [
    "#CONTINUE\n",
    "for i in range(4):\n",
    "    print(\"printing\")\n",
    "    if i == 2:\n",
    "        continue\n",
    "    print(i)"
   ]
  },
  {
   "cell_type": "code",
   "execution_count": 9,
   "id": "1c13ad18",
   "metadata": {},
   "outputs": [
    {
     "name": "stdout",
     "output_type": "stream",
     "text": [
      "Harry is a good boy\n"
     ]
    }
   ],
   "source": [
    "#PASS\n",
    "i = 4\n",
    "\n",
    "def run(player):\n",
    "    pass\n",
    "\n",
    "def ouch(player):\n",
    "    pass\n",
    "\n",
    "if i>0:\n",
    "    pass\n",
    "\n",
    "while i>6:\n",
    "    pass\n",
    "\n",
    "print(\"Harry is a good boy\")"
   ]
  },
  {
   "cell_type": "code",
   "execution_count": null,
   "id": "b056067c",
   "metadata": {},
   "outputs": [],
   "source": []
  }
 ],
 "metadata": {
  "kernelspec": {
   "display_name": "Python 3 (ipykernel)",
   "language": "python",
   "name": "python3"
  },
  "language_info": {
   "codemirror_mode": {
    "name": "ipython",
    "version": 3
   },
   "file_extension": ".py",
   "mimetype": "text/x-python",
   "name": "python",
   "nbconvert_exporter": "python",
   "pygments_lexer": "ipython3",
   "version": "3.9.12"
  }
 },
 "nbformat": 4,
 "nbformat_minor": 5
}
