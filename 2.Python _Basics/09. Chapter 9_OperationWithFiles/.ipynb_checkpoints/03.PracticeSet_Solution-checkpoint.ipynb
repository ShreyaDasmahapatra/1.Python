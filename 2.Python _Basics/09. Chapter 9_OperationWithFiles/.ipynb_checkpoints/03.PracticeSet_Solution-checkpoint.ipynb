{
 "cells": [
  {
   "cell_type": "code",
   "execution_count": 9,
   "id": "09bf6f08",
   "metadata": {},
   "outputs": [
    {
     "name": "stdout",
     "output_type": "stream",
     "text": [
      "The poem has twinkle\n"
     ]
    }
   ],
   "source": [
    "#1\n",
    "\n",
    "with open(\"poems.txt\") as f:\n",
    "    poem=f.read()\n",
    "    if \"twinkle\" in poem:\n",
    "        print(\"The poem has twinkle\")\n",
    "    else:\n",
    "        print(\"The poem does not have twinkle\")"
   ]
  },
  {
   "cell_type": "code",
   "execution_count": null,
   "id": "eab8aec4",
   "metadata": {},
   "outputs": [],
   "source": [
    "#2\n",
    "\n",
    "def game():\n",
    "    return 44677\n",
    "\n",
    "score = game()\n",
    "with open(\"hiscore.txt\") as f:\n",
    "    hiScoreStr = f.read()\n",
    "    \n",
    "if hiScoreStr=='':\n",
    "    with open(\"hiscore.txt\", \"w\") as f:\n",
    "        f.write(str(score))\n",
    "\n",
    "elif int(hiScoreStr)<score :\n",
    "    with open(\"hiscore.txt\", \"w\") as f:\n",
    "        f.write(str(score))"
   ]
  },
  {
   "cell_type": "code",
   "execution_count": 11,
   "id": "d4034671",
   "metadata": {},
   "outputs": [],
   "source": [
    "#3\n",
    "\n",
    "for i in range(2, 21):\n",
    "    with open(f\"C:/Users/ASUS/Desktop/Data Engineering/2.PYTHON/2.Python _Basics/09. Chapter 9_OperationWithFiles/tables/Multiplication_table_of_{i}.txt\", 'w') as f:\n",
    "        for j in range(1, 11):\n",
    "            f.write(f\"{i}X{j}={i*j}\")\n",
    "            if j!=10:\n",
    "                f.write('\\n')"
   ]
  },
  {
   "cell_type": "code",
   "execution_count": 14,
   "id": "ba83e512",
   "metadata": {},
   "outputs": [
    {
     "name": "stdout",
     "output_type": "stream",
     "text": [
      "$%^@$^# $%^@$^# monkey banana grass $%^@$^#.\n",
      "$%^@$^# grass.\n"
     ]
    }
   ],
   "source": [
    "#5\n",
    "\n",
    "\n",
    "with open(\"donkey.txt\") as f:\n",
    "    content = f.read()\n",
    "\n",
    "content = content.replace(\"donkey\", \"$%^@$^#\")\n",
    "\n",
    "with open(\"donkey.txt\", \"w\") as f:\n",
    "    f.write(content)\n",
    "print(content)"
   ]
  },
  {
   "cell_type": "code",
   "execution_count": 17,
   "id": "b813c9ff",
   "metadata": {},
   "outputs": [
    {
     "name": "stdout",
     "output_type": "stream",
     "text": [
      "$%^@$^# $%^@$^# monkey banana grass $%^@$^#.\n",
      "$%^@$^# grass $%^@$^# $%^@$^# moti doll pink black green.\n"
     ]
    }
   ],
   "source": [
    "#6\n",
    "\n",
    "words = [\"donkey\", \"kaddu\", \"mote\"]\n",
    "\n",
    "with open(\"donkey.txt\") as f:\n",
    "    content = f.read()\n",
    "\n",
    "\n",
    "for word in words:\n",
    "    content = content.replace(word, \"$%^@$^#\")\n",
    "    with open(\"donkey.txt\", \"w\") as f:\n",
    "        f.write(content)\n",
    "print(content)"
   ]
  },
  {
   "cell_type": "code",
   "execution_count": 18,
   "id": "3a552425",
   "metadata": {},
   "outputs": [
    {
     "name": "stdout",
     "output_type": "stream",
     "text": [
      "Yes python is present\n"
     ]
    }
   ],
   "source": [
    "#7\n",
    "\n",
    "\n",
    "\n",
    "with open(r'log.txt') as f:\n",
    "    content = f.read()\n",
    "\n",
    "if 'python' in content.lower():\n",
    "    print(\"Yes python is present\")\n",
    "else:\n",
    "    print(\"No python is not present\")"
   ]
  },
  {
   "cell_type": "code",
   "execution_count": 21,
   "id": "60595c0e",
   "metadata": {},
   "outputs": [
    {
     "name": "stdout",
     "output_type": "stream",
     "text": [
      "I am this file\n",
      "this is good\n",
      "I am this file\n",
      "this is good\n"
     ]
    }
   ],
   "source": [
    "#8\n",
    "\n",
    "with open(\"this.txt\") as f:\n",
    "    content = f.read()\n",
    "\n",
    "with open(\"copy.txt\", 'w') as f:\n",
    "    f.write(content)\n",
    "    \n",
    "with open(\"copy.txt\") as f:\n",
    "    content1 = f.read()\n",
    "    \n",
    "print(content)\n",
    "print(content1)"
   ]
  },
  {
   "cell_type": "code",
   "execution_count": 22,
   "id": "20f4390c",
   "metadata": {},
   "outputs": [
    {
     "name": "stdout",
     "output_type": "stream",
     "text": [
      "Files are not identical\n"
     ]
    }
   ],
   "source": [
    "#9\n",
    "\n",
    "file1 = \"log.txt\"\n",
    "file2 = \"this.txt\"\n",
    "\n",
    "with open(file1) as f:\n",
    "    f1 = f.read()\n",
    "\n",
    "with open(file2) as f:\n",
    "    f2= f.read()\n",
    "\n",
    "if f1 == f2:\n",
    "    print(\"Files are identical\")\n",
    "else:\n",
    "    print(\"Files are not identical\")"
   ]
  },
  {
   "cell_type": "code",
   "execution_count": 25,
   "id": "bba3cd84",
   "metadata": {},
   "outputs": [
    {
     "name": "stdout",
     "output_type": "stream",
     "text": [
      "\n"
     ]
    }
   ],
   "source": [
    "#10\n",
    "\n",
    "filename = \"sample.txt\"\n",
    "with open(filename, \"w\") as f:\n",
    "    f.write(\"\")\n",
    "\n",
    "with open (r\"sample.txt\") as f:\n",
    "    content=f.read()\n",
    "print(content)"
   ]
  },
  {
   "cell_type": "code",
   "execution_count": 27,
   "id": "c7a66345",
   "metadata": {},
   "outputs": [],
   "source": [
    "#11\n",
    "\n",
    "import os\n",
    "\n",
    "oldname = \"sample2.txt\"\n",
    "newname = \"renamed_by_python.txt\"\n",
    "with open(oldname) as f:\n",
    "    content = f.read()\n",
    "\n",
    "with open(newname, \"w\") as f:\n",
    "    f.write(content)\n",
    "\n",
    "os.remove(oldname)"
   ]
  },
  {
   "cell_type": "code",
   "execution_count": null,
   "id": "67071018",
   "metadata": {},
   "outputs": [],
   "source": []
  }
 ],
 "metadata": {
  "kernelspec": {
   "display_name": "Python 3 (ipykernel)",
   "language": "python",
   "name": "python3"
  },
  "language_info": {
   "codemirror_mode": {
    "name": "ipython",
    "version": 3
   },
   "file_extension": ".py",
   "mimetype": "text/x-python",
   "name": "python",
   "nbconvert_exporter": "python",
   "pygments_lexer": "ipython3",
   "version": "3.9.12"
  }
 },
 "nbformat": 4,
 "nbformat_minor": 5
}
