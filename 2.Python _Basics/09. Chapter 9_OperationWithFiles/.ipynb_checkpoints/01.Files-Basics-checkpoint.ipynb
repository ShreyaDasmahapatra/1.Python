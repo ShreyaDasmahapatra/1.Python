{
 "cells": [
  {
   "cell_type": "code",
   "execution_count": 3,
   "id": "71296dc0",
   "metadata": {},
   "outputs": [
    {
     "name": "stdout",
     "output_type": "stream",
     "text": [
      "I am writing. I can read as well.\n",
      "I am Good.\n",
      "I am Shreya.\n"
     ]
    }
   ],
   "source": [
    "#FILES\n",
    "\n",
    "# Use open function to read the content of a file!\n",
    "# f = open('sample.txt', 'r')\n",
    "f = open(r'C:\\Users\\ASUS\\Desktop\\Data Engineering\\2.PYTHON\\2.Python _Basics\\09. Chapter 9_OperationWithFiles\\sample.txt')\n",
    "# by default the mode is r\n",
    "data = f.read() # reads first 5 characters from the file\n",
    "print(data)\n",
    "f.close()"
   ]
  },
  {
   "cell_type": "code",
   "execution_count": 4,
   "id": "e2a3a3db",
   "metadata": {},
   "outputs": [
    {
     "name": "stdout",
     "output_type": "stream",
     "text": [
      "I am writing. I can read as well.\n",
      "\n",
      "I am Good.\n",
      "\n",
      "I am Shreya.\n",
      "\n"
     ]
    }
   ],
   "source": [
    "#READ LINE\n",
    "\n",
    "f = open('sample.txt')\n",
    "# read first line\n",
    "data = f.readline() \n",
    "print(data)\n",
    "\n",
    "# Read second line\n",
    "data = f.readline() \n",
    "print(data)\n",
    "\n",
    "# Read third line\n",
    "data = f.readline() \n",
    "print(data)\n",
    "\n",
    "# Read fourth line... and so on...\n",
    "data = f.readline() \n",
    "print(data)\n",
    "f.close()"
   ]
  },
  {
   "cell_type": "code",
   "execution_count": 5,
   "id": "ed12f7b5",
   "metadata": {},
   "outputs": [
    {
     "name": "stdout",
     "output_type": "stream",
     "text": [
      "I am writing\n"
     ]
    }
   ],
   "source": [
    "#WRITE\n",
    "\n",
    "f = open(r'C:\\Users\\ASUS\\Desktop\\Data Engineering\\2.PYTHON\\2.Python _Basics\\09. Chapter 9_OperationWithFiles\\sample.txt', 'w')\n",
    "f.write(\"I am writing\") \n",
    "f.close()\n",
    "with open(r'C:\\Users\\ASUS\\Desktop\\Data Engineering\\2.PYTHON\\2.Python _Basics\\09. Chapter 9_OperationWithFiles\\sample.txt') as d:\n",
    "    data=d.read()\n",
    "    print(data)\n",
    "    d.close()"
   ]
  },
  {
   "cell_type": "code",
   "execution_count": 11,
   "id": "d47e7bcd",
   "metadata": {},
   "outputs": [
    {
     "name": "stdout",
     "output_type": "stream",
     "text": [
      "me\n"
     ]
    }
   ],
   "source": [
    "with open('another.txt', 'w') as f:\n",
    "    a = f.write(\"me\")\n",
    "with open('another.txt', 'r') as f:\n",
    "    a = f.read()\n",
    "print(a)"
   ]
  },
  {
   "cell_type": "code",
   "execution_count": null,
   "id": "5ac6161c",
   "metadata": {},
   "outputs": [],
   "source": []
  },
  {
   "cell_type": "code",
   "execution_count": null,
   "id": "8d01527e",
   "metadata": {},
   "outputs": [],
   "source": []
  }
 ],
 "metadata": {
  "kernelspec": {
   "display_name": "Python 3 (ipykernel)",
   "language": "python",
   "name": "python3"
  },
  "language_info": {
   "codemirror_mode": {
    "name": "ipython",
    "version": 3
   },
   "file_extension": ".py",
   "mimetype": "text/x-python",
   "name": "python",
   "nbconvert_exporter": "python",
   "pygments_lexer": "ipython3",
   "version": "3.9.12"
  }
 },
 "nbformat": 4,
 "nbformat_minor": 5
}
