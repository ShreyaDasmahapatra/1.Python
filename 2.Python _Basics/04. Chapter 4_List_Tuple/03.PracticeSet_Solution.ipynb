{
 "cells": [
  {
   "cell_type": "markdown",
   "id": "47cd54d4",
   "metadata": {},
   "source": [
    "# 1"
   ]
  },
  {
   "cell_type": "code",
   "execution_count": 1,
   "id": "29e66277",
   "metadata": {},
   "outputs": [
    {
     "name": "stdout",
     "output_type": "stream",
     "text": [
      "Enter Fruit Number 1: orange\n",
      "Enter Fruit Number 2: mango\n",
      "Enter Fruit Number 3: banana\n",
      "Enter Fruit Number 4: apple\n",
      "Enter Fruit Number 5: chiku\n",
      "Enter Fruit Number 6: grapes\n",
      "Enter Fruit Number 7: plum\n",
      "['orange', 'mango', 'banana', 'apple', 'chiku', 'grapes', 'plum']\n"
     ]
    }
   ],
   "source": [
    "f1 = input(\"Enter Fruit Number 1: \")\n",
    "f2 = input(\"Enter Fruit Number 2: \")\n",
    "f3 = input(\"Enter Fruit Number 3: \")\n",
    "f4 = input(\"Enter Fruit Number 4: \")\n",
    "f5 = input(\"Enter Fruit Number 5: \")\n",
    "f6 = input(\"Enter Fruit Number 6: \")\n",
    "f7 = input(\"Enter Fruit Number 7: \")\n",
    "\n",
    "myFruitList = [f1, f2, f3, f4, f5, f6, f7]\n",
    "print(myFruitList)"
   ]
  },
  {
   "cell_type": "markdown",
   "id": "542f17b4",
   "metadata": {},
   "source": [
    "# 2"
   ]
  },
  {
   "cell_type": "code",
   "execution_count": 2,
   "id": "94f4318c",
   "metadata": {},
   "outputs": [
    {
     "name": "stdout",
     "output_type": "stream",
     "text": [
      "Enter Marks for Student Number 1: 22\n",
      "Enter Marks for Student Number 2: 59\n",
      "Enter Marks for Student Number 3: 98\n",
      "Enter Marks for Student Number 4: 78\n",
      "Enter Marks for Student Number 5: 89\n",
      "Enter Marks for Student Number 6: 65\n",
      "[22, 59, 65, 78, 89, 98]\n"
     ]
    }
   ],
   "source": [
    "m1 = int(input(\"Enter Marks for Student Number 1: \"))\n",
    "m2 = int(input(\"Enter Marks for Student Number 2: \"))\n",
    "m3 = int(input(\"Enter Marks for Student Number 3: \"))\n",
    "m4 = int(input(\"Enter Marks for Student Number 4: \"))\n",
    "m5 = int(input(\"Enter Marks for Student Number 5: \"))\n",
    "m6 = int(input(\"Enter Marks for Student Number 6: \"))\n",
    "\n",
    "myList = [m1, m2, m3, m4, m5, m6]\n",
    "myList.sort()\n",
    "print(myList)"
   ]
  },
  {
   "cell_type": "markdown",
   "id": "7342d84b",
   "metadata": {},
   "source": [
    "# 3\n"
   ]
  },
  {
   "cell_type": "code",
   "execution_count": 3,
   "id": "6f755b73",
   "metadata": {},
   "outputs": [
    {
     "ename": "TypeError",
     "evalue": "'tuple' object does not support item assignment",
     "output_type": "error",
     "traceback": [
      "\u001b[1;31m---------------------------------------------------------------------------\u001b[0m",
      "\u001b[1;31mTypeError\u001b[0m                                 Traceback (most recent call last)",
      "Input \u001b[1;32mIn [3]\u001b[0m, in \u001b[0;36m<cell line: 2>\u001b[1;34m()\u001b[0m\n\u001b[0;32m      1\u001b[0m a \u001b[38;5;241m=\u001b[39m (\u001b[38;5;241m2\u001b[39m,\u001b[38;5;241m4\u001b[39m,\u001b[38;5;241m5\u001b[39m,\u001b[38;5;241m3\u001b[39m,\u001b[38;5;241m2\u001b[39m)\n\u001b[1;32m----> 2\u001b[0m a[\u001b[38;5;241m0\u001b[39m] \u001b[38;5;241m=\u001b[39m \u001b[38;5;241m45\u001b[39m\n",
      "\u001b[1;31mTypeError\u001b[0m: 'tuple' object does not support item assignment"
     ]
    }
   ],
   "source": [
    "a = (2,4,5,3,2)\n",
    "a[0] = 45"
   ]
  },
  {
   "cell_type": "markdown",
   "id": "558b7c73",
   "metadata": {},
   "source": [
    "# 4"
   ]
  },
  {
   "cell_type": "code",
   "execution_count": 4,
   "id": "faeb54af",
   "metadata": {},
   "outputs": [
    {
     "name": "stdout",
     "output_type": "stream",
     "text": [
      "69\n",
      "69\n"
     ]
    }
   ],
   "source": [
    "a = [2, 4, 56, 7]\n",
    "\n",
    "print(a[0] + a[1] + a[2] + a[3])\n",
    "print(sum(a))"
   ]
  },
  {
   "cell_type": "markdown",
   "id": "61b2ad98",
   "metadata": {},
   "source": [
    "# 5"
   ]
  },
  {
   "cell_type": "code",
   "execution_count": 5,
   "id": "40b52967",
   "metadata": {},
   "outputs": [
    {
     "data": {
      "text/plain": [
       "3"
      ]
     },
     "execution_count": 5,
     "metadata": {},
     "output_type": "execute_result"
    }
   ],
   "source": [
    "a=(7,0,8,0,0,9)\n",
    "a.count(0)"
   ]
  },
  {
   "cell_type": "code",
   "execution_count": null,
   "id": "ded87546",
   "metadata": {},
   "outputs": [],
   "source": []
  }
 ],
 "metadata": {
  "kernelspec": {
   "display_name": "Python 3 (ipykernel)",
   "language": "python",
   "name": "python3"
  },
  "language_info": {
   "codemirror_mode": {
    "name": "ipython",
    "version": 3
   },
   "file_extension": ".py",
   "mimetype": "text/x-python",
   "name": "python",
   "nbconvert_exporter": "python",
   "pygments_lexer": "ipython3",
   "version": "3.9.12"
  }
 },
 "nbformat": 4,
 "nbformat_minor": 5
}
