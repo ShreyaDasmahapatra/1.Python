{
 "cells": [
  {
   "cell_type": "code",
   "execution_count": 1,
   "id": "058e201d",
   "metadata": {},
   "outputs": [
    {
     "name": "stdout",
     "output_type": "stream",
     "text": [
      "[1, 2, 4, 56, 6]\n",
      "4\n",
      "[98, 2, 4, 56, 6]\n",
      "Harry\n"
     ]
    }
   ],
   "source": [
    "# Create a list using []\n",
    "a = [1, 2 , 4, 56, 6]\n",
    "\n",
    "# Print the list using print() function\n",
    "print(a)\n",
    "\n",
    "# Access using index using a[0], a[1], a[2]\n",
    "print(a[2])\n",
    "\n",
    "# Change the value of list using\n",
    "a[0] = 98\n",
    "print(a)\n",
    "\n",
    "# We can create a list with items of different types\n",
    "c = [45, \"Harry\", False, 6.9]\n",
    "print(c[1])\n",
    "\n"
   ]
  },
  {
   "cell_type": "code",
   "execution_count": 2,
   "id": "f8926c0f",
   "metadata": {},
   "outputs": [
    {
     "name": "stdout",
     "output_type": "stream",
     "text": [
      "['Harry', 'Tom', 'Rohan', 'Sam']\n",
      "['Rohan', 'Sam', 'Divya', 45]\n"
     ]
    }
   ],
   "source": [
    "# List slicing\n",
    "friends = [\"Harry\", \"Tom\", \"Rohan\", \"Sam\", \"Divya\", 45]\n",
    "print(friends[0:4])\n",
    "print(friends[-4:])"
   ]
  },
  {
   "cell_type": "markdown",
   "id": "b49e2f3a",
   "metadata": {},
   "source": [
    "# LIST METHODS\n"
   ]
  },
  {
   "cell_type": "code",
   "execution_count": 12,
   "id": "06cbc6a8",
   "metadata": {},
   "outputs": [
    {
     "name": "stdout",
     "output_type": "stream",
     "text": [
      "[1, 8, 7, 2, 21, 15]\n",
      "[1, 8, 7, 2, 15]\n"
     ]
    }
   ],
   "source": [
    "l1 = [1, 8, 7, 2, 21, 15]\n",
    "print(l1)\n",
    "#l1.sort() # sorts the list\n",
    "#l1.reverse() # reverses the list\n",
    "#l1.append(45) # adds 45 at the end of the list \n",
    "#l1.insert(2, 544) # inserts 544 at index 2\n",
    "#l1.pop(2) # removes element at index 2\n",
    "l1.remove(21) # removes 21 from the list\n",
    "print(l1)"
   ]
  },
  {
   "cell_type": "markdown",
   "id": "40133725",
   "metadata": {},
   "source": [
    "# TUPLES"
   ]
  },
  {
   "cell_type": "code",
   "execution_count": 15,
   "id": "5e227d8c",
   "metadata": {},
   "outputs": [
    {
     "name": "stdout",
     "output_type": "stream",
     "text": [
      "(1,)\n",
      "1\n"
     ]
    },
    {
     "ename": "TypeError",
     "evalue": "'tuple' object does not support item assignment",
     "output_type": "error",
     "traceback": [
      "\u001b[1;31m---------------------------------------------------------------------------\u001b[0m",
      "\u001b[1;31mTypeError\u001b[0m                                 Traceback (most recent call last)",
      "Input \u001b[1;32mIn [15]\u001b[0m, in \u001b[0;36m<cell line: 13>\u001b[1;34m()\u001b[0m\n\u001b[0;32m     10\u001b[0m \u001b[38;5;28mprint\u001b[39m(t[\u001b[38;5;241m0\u001b[39m])\n\u001b[0;32m     12\u001b[0m \u001b[38;5;66;03m# Cannot update the values of a tuple\u001b[39;00m\n\u001b[1;32m---> 13\u001b[0m t[\u001b[38;5;241m0\u001b[39m] \u001b[38;5;241m=\u001b[39m \u001b[38;5;241m34\u001b[39m\n",
      "\u001b[1;31mTypeError\u001b[0m: 'tuple' object does not support item assignment"
     ]
    }
   ],
   "source": [
    "# Creating a tuple using ()\n",
    "t = (1, 2, 4, 5)\n",
    "\n",
    "# t1 = () # Empty tuple\n",
    "# t1 = (1) # Wrong way to declare a Tuple with Single element\n",
    "t1 = (1,) # Tuple with Single element\n",
    "print(t1)\n",
    "\n",
    "# Printing the elements of a tuple\n",
    "print(t[0])\n",
    "\n",
    "# Cannot update the values of a tuple\n",
    "t[0] = 34 # throws an error"
   ]
  },
  {
   "cell_type": "code",
   "execution_count": 16,
   "id": "0e9d1402",
   "metadata": {},
   "outputs": [
    {
     "name": "stdout",
     "output_type": "stream",
     "text": [
      "4\n",
      "3\n"
     ]
    }
   ],
   "source": [
    "# Creating a tuple using ()\n",
    "t = (1, 2, 4, 5, 4, 1, 2,1 ,1)\n",
    "\n",
    "print(t.count(1))\n",
    "print(t.index(5))"
   ]
  },
  {
   "cell_type": "code",
   "execution_count": null,
   "id": "7321079b",
   "metadata": {},
   "outputs": [],
   "source": []
  }
 ],
 "metadata": {
  "kernelspec": {
   "display_name": "Python 3 (ipykernel)",
   "language": "python",
   "name": "python3"
  },
  "language_info": {
   "codemirror_mode": {
    "name": "ipython",
    "version": 3
   },
   "file_extension": ".py",
   "mimetype": "text/x-python",
   "name": "python",
   "nbconvert_exporter": "python",
   "pygments_lexer": "ipython3",
   "version": "3.9.12"
  }
 },
 "nbformat": 4,
 "nbformat_minor": 5
}
