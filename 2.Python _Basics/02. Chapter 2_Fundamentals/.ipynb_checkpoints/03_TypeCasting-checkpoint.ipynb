{
 "cells": [
  {
   "cell_type": "code",
   "execution_count": 7,
   "id": "215a16d5",
   "metadata": {},
   "outputs": [
    {
     "name": "stdout",
     "output_type": "stream",
     "text": [
      "<class 'str'>\n",
      "35345\n",
      "<class 'int'>\n",
      "3539\n"
     ]
    }
   ],
   "source": [
    "a = \"3534\"\n",
    "print(type(a))\n",
    "#Will show error\n",
    "# print(a + 5)\n",
    "print(a + str(5))\n",
    "a = int(a)\n",
    "print(type(a))\n",
    "print(a + 5)\n"
   ]
  },
  {
   "cell_type": "code",
   "execution_count": null,
   "id": "f4da2a62",
   "metadata": {},
   "outputs": [],
   "source": []
  }
 ],
 "metadata": {
  "kernelspec": {
   "display_name": "Python 3 (ipykernel)",
   "language": "python",
   "name": "python3"
  },
  "language_info": {
   "codemirror_mode": {
    "name": "ipython",
    "version": 3
   },
   "file_extension": ".py",
   "mimetype": "text/x-python",
   "name": "python",
   "nbconvert_exporter": "python",
   "pygments_lexer": "ipython3",
   "version": "3.9.12"
  }
 },
 "nbformat": 4,
 "nbformat_minor": 5
}
