{
 "cells": [
  {
   "cell_type": "code",
   "execution_count": 1,
   "id": "19c53da0",
   "metadata": {},
   "outputs": [
    {
     "name": "stdout",
     "output_type": "stream",
     "text": [
      "The name of the Microsoft programmer is Shreya and the product is Skype\n",
      "The name of the Microsoft programmer is Alka and the product is GitHub\n"
     ]
    }
   ],
   "source": [
    "#1\n",
    "\n",
    "class Programmer:\n",
    "    company = \"Microsoft\"\n",
    "\n",
    "    def __init__(self, name, product):\n",
    "        self.name = name\n",
    "        self.product = product\n",
    "\n",
    "    def getInfo(self):\n",
    "        print(f\"The name of the {self.company} programmer is {self.name} and the product is {self.product}\")\n",
    "\n",
    "\n",
    "Shreya = Programmer(\"Shreya\", \"Skype\")\n",
    "alka = Programmer(\"Alka\", \"GitHub\")\n",
    "Shreya.getInfo()\n",
    "alka.getInfo()"
   ]
  },
  {
   "cell_type": "code",
   "execution_count": 2,
   "id": "51c40126",
   "metadata": {},
   "outputs": [
    {
     "name": "stdout",
     "output_type": "stream",
     "text": [
      "The value of 9 square is 81\n",
      "The value of 9 square root is 3.0\n",
      "The value of 9 cube is 729\n"
     ]
    }
   ],
   "source": [
    "#2\n",
    "\n",
    "\n",
    "class Calculator:\n",
    "    def __init__(self, num):\n",
    "        self.number = num\n",
    "\n",
    "    def square(self):\n",
    "        print(f\"The value of {self.number} square is {self.number **2}\")\n",
    "\n",
    "    def squareRoot(self):\n",
    "        print(f\"The value of {self.number} square root is {self.number **0.5}\")\n",
    "\n",
    "    def cube(self):\n",
    "        print(f\"The value of {self.number} cube is {self.number **3}\")\n",
    "\n",
    "a = Calculator(9)\n",
    "a.square()\n",
    "a.squareRoot() \n",
    "a.cube()"
   ]
  },
  {
   "cell_type": "code",
   "execution_count": 3,
   "id": "8012360d",
   "metadata": {},
   "outputs": [
    {
     "name": "stdout",
     "output_type": "stream",
     "text": [
      "Harry\n",
      "Vikky\n"
     ]
    }
   ],
   "source": [
    "#3\n",
    "\n",
    "class Sample:\n",
    "    a = \"Harry\"\n",
    "\n",
    "obj = Sample()\n",
    "obj.a = \"Vikky\"\n",
    "# Sample.a = \"Vikky\"\n",
    "\n",
    "print(Sample.a)\n",
    "print(obj.a)"
   ]
  },
  {
   "cell_type": "code",
   "execution_count": 4,
   "id": "a8bb7ea1",
   "metadata": {},
   "outputs": [
    {
     "name": "stdout",
     "output_type": "stream",
     "text": [
      "*******Hello there welcome to the best calculator of the world*******\n",
      "The value of 9 square is 81\n",
      "The value of 9 square root is 3.0\n",
      "The value of 9 cube is 729\n"
     ]
    }
   ],
   "source": [
    "#4\n",
    "\n",
    "class Calculator:\n",
    "    def __init__(self, num):\n",
    "        self.number = num\n",
    "\n",
    "    def square(self):\n",
    "        print(f\"The value of {self.number} square is {self.number **2}\")\n",
    "\n",
    "    def squareRoot(self):\n",
    "        print(f\"The value of {self.number} square root is {self.number **0.5}\")\n",
    "\n",
    "    def cube(self):\n",
    "        print(f\"The value of {self.number} cube is {self.number **3}\")\n",
    "    \n",
    "    @staticmethod\n",
    "    def greet():\n",
    "        print(\"*******Hello there welcome to the best calculator of the world*******\")\n",
    "\n",
    "a = Calculator(9)\n",
    "a.greet()\n",
    "a.square()\n",
    "a.squareRoot() \n",
    "a.cube()"
   ]
  },
  {
   "cell_type": "code",
   "execution_count": 5,
   "id": "992bcd32",
   "metadata": {},
   "outputs": [
    {
     "name": "stdout",
     "output_type": "stream",
     "text": [
      "************\n",
      "The name of the train is Intercity Express: 14015\n",
      "The seats available in the train are 2\n",
      "************\n",
      "Your ticket has been booked! Your seat number is 2\n",
      "Your ticket has been booked! Your seat number is 1\n",
      "Sorry this train is full! Kindly try in tatkal\n",
      "************\n",
      "The name of the train is Intercity Express: 14015\n",
      "The seats available in the train are 0\n",
      "************\n"
     ]
    }
   ],
   "source": [
    "#5\n",
    "\n",
    "\n",
    "\n",
    "'''\n",
    "1 2 3 4 5 6 7 8 9 10\n",
    "'''\n",
    "\n",
    "class Train:\n",
    "    def __init__(self, name, fare, seats):\n",
    "        self.name = name\n",
    "        self.fare = fare\n",
    "        self.seats = seats\n",
    "\n",
    "    def getStatus(self):\n",
    "        print(\"************\")\n",
    "        print(f\"The name of the train is {self.name}\")\n",
    "        print(f\"The seats available in the train are {self.seats}\")\n",
    "        print(\"************\")\n",
    "\n",
    "    def fareInfo(self):\n",
    "        print(f\"The price of the ticket is: Rs {self.fare}\")\n",
    "\n",
    "    def bookTicket(self):\n",
    "        if(self.seats>0):\n",
    "            print(f\"Your ticket has been booked! Your seat number is {self.seats}\")\n",
    "            self.seats = self.seats - 1\n",
    "        else:\n",
    "            print(\"Sorry this train is full! Kindly try in tatkal\")\n",
    "\n",
    "    def cancelTicket(self, seatNo):\n",
    "        pass\n",
    "\n",
    "intercity = Train(\"Intercity Express: 14015\", 90, 2)\n",
    "intercity.getStatus() \n",
    "intercity.bookTicket()\n",
    "intercity.bookTicket()\n",
    "intercity.bookTicket()\n",
    "intercity.getStatus()"
   ]
  },
  {
   "cell_type": "code",
   "execution_count": 6,
   "id": "db488227",
   "metadata": {},
   "outputs": [
    {
     "name": "stdout",
     "output_type": "stream",
     "text": [
      "Harry\n"
     ]
    }
   ],
   "source": [
    "#6\n",
    "\n",
    "\n",
    "\n",
    "class Sample: \n",
    "    def __init__(slf, name):\n",
    "        slf.name = name\n",
    "\n",
    "obj = Sample(\"Harry\") \n",
    "print(obj.name) \n",
    " "
   ]
  },
  {
   "cell_type": "code",
   "execution_count": null,
   "id": "1fce1af1",
   "metadata": {},
   "outputs": [],
   "source": []
  }
 ],
 "metadata": {
  "kernelspec": {
   "display_name": "Python 3 (ipykernel)",
   "language": "python",
   "name": "python3"
  },
  "language_info": {
   "codemirror_mode": {
    "name": "ipython",
    "version": 3
   },
   "file_extension": ".py",
   "mimetype": "text/x-python",
   "name": "python",
   "nbconvert_exporter": "python",
   "pygments_lexer": "ipython3",
   "version": "3.9.12"
  }
 },
 "nbformat": 4,
 "nbformat_minor": 5
}
