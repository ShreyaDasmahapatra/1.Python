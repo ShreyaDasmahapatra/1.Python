{
 "cells": [
  {
   "cell_type": "code",
   "execution_count": 4,
   "id": "5fff362b",
   "metadata": {},
   "outputs": [
    {
     "name": "stdout",
     "output_type": "stream",
     "text": [
      "46\n"
     ]
    }
   ],
   "source": [
    "#OOPS\n",
    "\n",
    "\n",
    "class Number:\n",
    "\n",
    "    def sum(self):\n",
    "        return self.a + self.b\n",
    "\n",
    "num = Number()\n",
    "num.a = 12\n",
    "num.b = 34\n",
    "s = num.sum()\n",
    "print(s)\n"
   ]
  },
  {
   "cell_type": "code",
   "execution_count": 5,
   "id": "ccc39892",
   "metadata": {},
   "outputs": [
    {
     "name": "stdout",
     "output_type": "stream",
     "text": [
      "Name is Harry\n",
      "Train is Rajdhani Express\n"
     ]
    }
   ],
   "source": [
    "#RAILWAY EXAMAPLE\n",
    "\n",
    "\n",
    "# import pandas as pd\n",
    "\n",
    "# pd.DataFrame()s\n",
    "class RailwayForm:\n",
    "    formType = \"RailwayForm\"\n",
    "    def printData(self):\n",
    "        print(f\"Name is {self.name}\")\n",
    "        print(f\"Train is {self.train}\")\n",
    "\n",
    "harrysApplication = RailwayForm()\n",
    "harrysApplication.name = \"Harry\"\n",
    "harrysApplication.train = \"Rajdhani Express\"\n",
    "harrysApplication.printData()"
   ]
  },
  {
   "cell_type": "code",
   "execution_count": 7,
   "id": "1a7376cc",
   "metadata": {},
   "outputs": [
    {
     "name": "stdout",
     "output_type": "stream",
     "text": [
      "Google\n",
      "Google\n",
      "YouTube\n",
      "YouTube\n",
      "300\n",
      "400\n"
     ]
    }
   ],
   "source": [
    "#EMPLOYEE EXAMPLE\n",
    "\n",
    "\n",
    "class Employee:\n",
    "    company = \"Google\"\n",
    "    salary = 100\n",
    "\n",
    "harry = Employee()\n",
    "rajni = Employee()\n",
    "harry.salary = 300\n",
    "rajni.salary = 400\n",
    "\n",
    "print(harry.company)\n",
    "print(rajni.company)\n",
    "Employee.company = \"YouTube\"\n",
    "print(harry.company)\n",
    "print(rajni.company)\n",
    "print(harry.salary)\n",
    "print(rajni.salary)"
   ]
  },
  {
   "cell_type": "code",
   "execution_count": 8,
   "id": "cc46597f",
   "metadata": {},
   "outputs": [
    {
     "name": "stdout",
     "output_type": "stream",
     "text": [
      "45\n",
      "100\n"
     ]
    }
   ],
   "source": [
    "#INSTANCE CLASS ATTRIBUTE\n",
    "\n",
    "\n",
    "\n",
    "class Employee:\n",
    "    company = \"Google\"\n",
    "    salary = 100\n",
    "\n",
    "harry = Employee()\n",
    "rajni = Employee()\n",
    "\n",
    "# Creating instance attribute salary for both the objects\n",
    "# harry.salary = 300\n",
    "# rajni.salary = 400\n",
    "harry.salary = 45\n",
    "print(harry.salary)\n",
    "print(rajni.salary)\n",
    "\n",
    "# Below line throws an error as address is not present in instance/class \n",
    "# print(rajni.address) "
   ]
  },
  {
   "cell_type": "code",
   "execution_count": 9,
   "id": "a54d51a7",
   "metadata": {},
   "outputs": [
    {
     "name": "stdout",
     "output_type": "stream",
     "text": [
      "Salary for this employee working in Google is 100000\n"
     ]
    }
   ],
   "source": [
    "#SELF\n",
    "\n",
    "class Employee:\n",
    "    company = \"Google\"\n",
    "    def getSalary(self):\n",
    "        print(f\"Salary for this employee working in {self.company} is {self.salary}\")\n",
    "\n",
    "harry = Employee()\n",
    "harry.salary = 100000\n",
    "harry.getSalary() # Employee.getSalary(harry)"
   ]
  },
  {
   "cell_type": "code",
   "execution_count": 12,
   "id": "4d71d40e",
   "metadata": {},
   "outputs": [
    {
     "name": "stdout",
     "output_type": "stream",
     "text": [
      "Salary for this employee working in Google is 100000\n",
      "Thanks!\n",
      "Good Morning, Sir\n",
      "The time is 9AM in the morning\n"
     ]
    }
   ],
   "source": [
    "#STATIC METHOD\n",
    "\n",
    "\n",
    "\n",
    "\n",
    "class Employee:\n",
    "    company = \"Google\"\n",
    "\n",
    "    def getSalary(self, signature):\n",
    "        print(f\"Salary for this employee working in {self.company} is {self.salary}\\n{signature}\")\n",
    "\n",
    "   # @staticmethod\n",
    "    def greet(self):\n",
    "        print(\"Good Morning, Sir\")\n",
    "\n",
    "    @staticmethod\n",
    "    def time():\n",
    "        print(\"The time is 9AM in the morning\")\n",
    "\n",
    "harry = Employee()\n",
    "harry.salary = 100000\n",
    "harry.getSalary(\"Thanks!\") # Employee.getSalary(harry)\n",
    "harry.greet() # Employee.greet()\n",
    "harry.time()"
   ]
  },
  {
   "cell_type": "code",
   "execution_count": 13,
   "id": "bc0fc63b",
   "metadata": {},
   "outputs": [
    {
     "name": "stdout",
     "output_type": "stream",
     "text": [
      "Employee is created!\n",
      "The name of the employee is Harry\n",
      "The salary of the employee is 100\n",
      "The subunit of the employee is YouTube\n"
     ]
    }
   ],
   "source": [
    "#CONSTRUCTOR\n",
    "\n",
    "class Employee:\n",
    "    company = \"Google\"\n",
    "\n",
    "    def __init__(self, name, salary, subunit):\n",
    "        self.name = name\n",
    "        self.salary = salary\n",
    "        self.subunit = subunit\n",
    "        print(\"Employee is created!\") \n",
    "\n",
    "    def getDetails(self):\n",
    "        print(f\"The name of the employee is {self.name}\")\n",
    "        print(f\"The salary of the employee is {self.salary}\")\n",
    "        print(f\"The subunit of the employee is {self.subunit}\")\n",
    "\n",
    "    def getSalary(self, signature):\n",
    "        print(f\"Salary for this employee working in {self.company} is {self.salary}\\n{signature}\")\n",
    "\n",
    "    @staticmethod\n",
    "    def greet():\n",
    "        print(\"Good Morning, Sir\")\n",
    "\n",
    "    @staticmethod\n",
    "    def time():\n",
    "        print(\"The time is 9AM in the morning\")\n",
    "\n",
    "harry = Employee(\"Harry\", 100, \"YouTube\")\n",
    "# harry = Employee() --> This throws an error (missing 3 required positional arguments:)\n",
    "harry.getDetails()"
   ]
  },
  {
   "cell_type": "code",
   "execution_count": null,
   "id": "f835a43d",
   "metadata": {},
   "outputs": [],
   "source": []
  }
 ],
 "metadata": {
  "kernelspec": {
   "display_name": "Python 3 (ipykernel)",
   "language": "python",
   "name": "python3"
  },
  "language_info": {
   "codemirror_mode": {
    "name": "ipython",
    "version": 3
   },
   "file_extension": ".py",
   "mimetype": "text/x-python",
   "name": "python",
   "nbconvert_exporter": "python",
   "pygments_lexer": "ipython3",
   "version": "3.9.12"
  }
 },
 "nbformat": 4,
 "nbformat_minor": 5
}
