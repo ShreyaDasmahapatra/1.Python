{
 "cells": [
  {
   "cell_type": "markdown",
   "id": "60177d3b",
   "metadata": {},
   "source": [
    "# Dictionary Syntax"
   ]
  },
  {
   "cell_type": "code",
   "execution_count": 2,
   "id": "654704c2",
   "metadata": {},
   "outputs": [
    {
     "name": "stdout",
     "output_type": "stream",
     "text": [
      "[45, 78]\n",
      "Player\n"
     ]
    }
   ],
   "source": [
    "myDict = {\n",
    "    \"Fast\": \"In a Quick Manner\",\n",
    "    \"Harry\": \"A Coder\",\n",
    "    \"Marks\": [1, 2, 5],\n",
    "    \"anotherdict\": {'harry': 'Player'}\n",
    "}\n",
    "\n",
    "# print(myDict['Fast'])\n",
    "# print(myDict['Harry'])\n",
    "myDict['Marks'] = [45, 78]\n",
    "print(myDict['Marks'])\n",
    "print(myDict['anotherdict']['harry'])"
   ]
  },
  {
   "cell_type": "markdown",
   "id": "02a1e675",
   "metadata": {},
   "source": [
    "# Dictionary Methods"
   ]
  },
  {
   "cell_type": "code",
   "execution_count": 7,
   "id": "807c8656",
   "metadata": {},
   "outputs": [
    {
     "name": "stdout",
     "output_type": "stream",
     "text": [
      "['fast', 'harry', 'marks', 'anotherdict', 1]\n",
      "dict_values(['In a Quick Manner', 'A Coder', [1, 2, 5], {'harry': 'Player'}, 2])\n",
      "dict_items([('fast', 'In a Quick Manner'), ('harry', 'A Coder'), ('marks', [1, 2, 5]), ('anotherdict', {'harry': 'Player'}), (1, 2)])\n",
      "{'fast': 'In a Quick Manner', 'harry': 'A Coder', 'marks': [1, 2, 5], 'anotherdict': {'harry': 'Player'}, 1: 2}\n"
     ]
    }
   ],
   "source": [
    "myDict = {\n",
    "    \"fast\": \"In a Quick Manner\",\n",
    "    \"harry\": \"A Coder\",\n",
    "    \"marks\": [1, 2, 5],\n",
    "    \"anotherdict\": {'harry': 'Player'},\n",
    "    1: 2\n",
    "}\n",
    "\n",
    "# Dictionary Methods\n",
    "print(list(myDict.keys())) # Prints the keys of the dictionary\n",
    "print(myDict.values()) # Prints the values of the dictionary \n",
    "print(myDict.items()) # Prints the (key, value) for all contents of the dictionary \n",
    "print(myDict)\n"
   ]
  },
  {
   "cell_type": "code",
   "execution_count": 4,
   "id": "c9389d94",
   "metadata": {},
   "outputs": [
    {
     "name": "stdout",
     "output_type": "stream",
     "text": [
      "{'fast': 'In a Quick Manner', 'harry': 'A Dancer', 'marks': [1, 2, 5], 'anotherdict': {'harry': 'Player'}, 1: 2, 'Lovish': 'Friend', 'Divya': 'Friend', 'Shubham': 'Friend'}\n"
     ]
    }
   ],
   "source": [
    "updateDict = {\n",
    "    \"Lovish\": \"Friend\",\n",
    "    \"Divya\": \"Friend\",\n",
    "    \"Shubham\": \"Friend\",\n",
    "    \"harry\": \"A Dancer\"\n",
    "}\n",
    "myDict.update(updateDict) # Updates the dictionary by adding key-value pairs from updateDict\n",
    "print(myDict)"
   ]
  },
  {
   "cell_type": "code",
   "execution_count": 5,
   "id": "c6c02729",
   "metadata": {},
   "outputs": [
    {
     "name": "stdout",
     "output_type": "stream",
     "text": [
      "A Dancer\n",
      "A Dancer\n"
     ]
    }
   ],
   "source": [
    "print(myDict.get(\"harry\")) # Prints value associated with key \"harry\"\n",
    "print(myDict[\"harry\"]) # Prints value associated with key \"harry\""
   ]
  },
  {
   "cell_type": "code",
   "execution_count": 6,
   "id": "717f4462",
   "metadata": {},
   "outputs": [
    {
     "name": "stdout",
     "output_type": "stream",
     "text": [
      "None\n"
     ]
    },
    {
     "ename": "KeyError",
     "evalue": "'harry2'",
     "output_type": "error",
     "traceback": [
      "\u001b[1;31m---------------------------------------------------------------------------\u001b[0m",
      "\u001b[1;31mKeyError\u001b[0m                                  Traceback (most recent call last)",
      "Input \u001b[1;32mIn [6]\u001b[0m, in \u001b[0;36m<cell line: 3>\u001b[1;34m()\u001b[0m\n\u001b[0;32m      1\u001b[0m \u001b[38;5;66;03m# The difference between .get and [] syntax in Dictionaries?\u001b[39;00m\n\u001b[0;32m      2\u001b[0m \u001b[38;5;28mprint\u001b[39m(myDict\u001b[38;5;241m.\u001b[39mget(\u001b[38;5;124m\"\u001b[39m\u001b[38;5;124mharry2\u001b[39m\u001b[38;5;124m\"\u001b[39m)) \u001b[38;5;66;03m# Returns None as harry2 is not present in the dictionary\u001b[39;00m\n\u001b[1;32m----> 3\u001b[0m \u001b[38;5;28mprint\u001b[39m(\u001b[43mmyDict\u001b[49m\u001b[43m[\u001b[49m\u001b[38;5;124;43m\"\u001b[39;49m\u001b[38;5;124;43mharry2\u001b[39;49m\u001b[38;5;124;43m\"\u001b[39;49m\u001b[43m]\u001b[49m)\n",
      "\u001b[1;31mKeyError\u001b[0m: 'harry2'"
     ]
    }
   ],
   "source": [
    "# The difference between .get and [] syntax in Dictionaries?\n",
    "print(myDict.get(\"harry2\")) # Returns None as harry2 is not present in the dictionary\n",
    "print(myDict[\"harry2\"]) # throws an error as harry2 is not present in the dictionary"
   ]
  },
  {
   "cell_type": "markdown",
   "id": "4262eafe",
   "metadata": {},
   "source": [
    "# SETS"
   ]
  },
  {
   "cell_type": "code",
   "execution_count": 8,
   "id": "2c1a61dd",
   "metadata": {},
   "outputs": [
    {
     "name": "stdout",
     "output_type": "stream",
     "text": [
      "<class 'set'>\n",
      "{1, 3, 4, 5}\n"
     ]
    }
   ],
   "source": [
    "a = {1, 3, 4, 5, 1}\n",
    "print(type(a))\n",
    "print(a)"
   ]
  },
  {
   "cell_type": "markdown",
   "id": "0be7a434",
   "metadata": {},
   "source": [
    "# Empty Set"
   ]
  },
  {
   "cell_type": "code",
   "execution_count": 9,
   "id": "64e3a8b6",
   "metadata": {},
   "outputs": [
    {
     "name": "stdout",
     "output_type": "stream",
     "text": [
      "<class 'dict'>\n",
      "<class 'set'>\n"
     ]
    }
   ],
   "source": [
    "# Important: This syntax will create an empty dictionary and not an empty set\n",
    "a = {}\n",
    "print(type(a))\n",
    "\n",
    "# An empty set can be created using the below syntax:\n",
    "b = set()\n",
    "print(type(b))"
   ]
  },
  {
   "cell_type": "code",
   "execution_count": 10,
   "id": "620de774",
   "metadata": {},
   "outputs": [
    {
     "name": "stdout",
     "output_type": "stream",
     "text": [
      "<class 'set'>\n"
     ]
    }
   ],
   "source": [
    "# Creating an empty set\n",
    "b = set()\n",
    "print(type(b))\n"
   ]
  },
  {
   "cell_type": "code",
   "execution_count": 11,
   "id": "4a78f7d2",
   "metadata": {},
   "outputs": [
    {
     "name": "stdout",
     "output_type": "stream",
     "text": [
      "{4, 5, (4, 5, 6)}\n"
     ]
    }
   ],
   "source": [
    "## Adding values to an empty set\n",
    "b.add(4)\n",
    "b.add(4)\n",
    "b.add(5)\n",
    "b.add(5) # Adding a value repeatedly does not changes a set\n",
    "b.add((4, 5, 6))\n",
    "print(b)\n"
   ]
  },
  {
   "cell_type": "code",
   "execution_count": 12,
   "id": "5aae51db",
   "metadata": {},
   "outputs": [
    {
     "ename": "TypeError",
     "evalue": "unhashable type: 'dict'",
     "output_type": "error",
     "traceback": [
      "\u001b[1;31m---------------------------------------------------------------------------\u001b[0m",
      "\u001b[1;31mTypeError\u001b[0m                                 Traceback (most recent call last)",
      "Input \u001b[1;32mIn [12]\u001b[0m, in \u001b[0;36m<cell line: 2>\u001b[1;34m()\u001b[0m\n\u001b[0;32m      1\u001b[0m \u001b[38;5;66;03m## Accessing Elements\u001b[39;00m\n\u001b[1;32m----> 2\u001b[0m \u001b[43mb\u001b[49m\u001b[38;5;241;43m.\u001b[39;49m\u001b[43madd\u001b[49m\u001b[43m(\u001b[49m\u001b[43m{\u001b[49m\u001b[38;5;241;43m4\u001b[39;49m\u001b[43m:\u001b[49m\u001b[38;5;241;43m5\u001b[39;49m\u001b[43m}\u001b[49m\u001b[43m)\u001b[49m \u001b[38;5;66;03m# Cannot add list or dictionary to sets\u001b[39;00m\n\u001b[0;32m      3\u001b[0m \u001b[38;5;28mprint\u001b[39m(b)\n",
      "\u001b[1;31mTypeError\u001b[0m: unhashable type: 'dict'"
     ]
    }
   ],
   "source": [
    "## Accessing Elements\n",
    "b.add({4:5}) # Cannot add list or dictionary to sets\n",
    "print(b)"
   ]
  },
  {
   "cell_type": "code",
   "execution_count": 13,
   "id": "5e4897e8",
   "metadata": {},
   "outputs": [
    {
     "name": "stdout",
     "output_type": "stream",
     "text": [
      "3\n"
     ]
    }
   ],
   "source": [
    "## Length of the Set\n",
    "print(len(b)) # Prints the length of this set"
   ]
  },
  {
   "cell_type": "code",
   "execution_count": 14,
   "id": "72d2fa3e",
   "metadata": {},
   "outputs": [
    {
     "name": "stdout",
     "output_type": "stream",
     "text": [
      "{4, (4, 5, 6)}\n"
     ]
    }
   ],
   "source": [
    "## Removal of an Item\n",
    "b.remove(5) # Removes 5 fromt set b\n",
    "# b.remove(15) # throws an error while trying to remove 15 (which is not present in the set)\n",
    "print(b)"
   ]
  },
  {
   "cell_type": "code",
   "execution_count": 15,
   "id": "abd72581",
   "metadata": {},
   "outputs": [
    {
     "name": "stdout",
     "output_type": "stream",
     "text": [
      "4\n",
      "{(4, 5, 6)}\n"
     ]
    }
   ],
   "source": [
    "print(b.pop())\n",
    "print(b)"
   ]
  },
  {
   "cell_type": "code",
   "execution_count": null,
   "id": "0cf912d4",
   "metadata": {},
   "outputs": [],
   "source": []
  }
 ],
 "metadata": {
  "kernelspec": {
   "display_name": "Python 3 (ipykernel)",
   "language": "python",
   "name": "python3"
  },
  "language_info": {
   "codemirror_mode": {
    "name": "ipython",
    "version": 3
   },
   "file_extension": ".py",
   "mimetype": "text/x-python",
   "name": "python",
   "nbconvert_exporter": "python",
   "pygments_lexer": "ipython3",
   "version": "3.9.12"
  }
 },
 "nbformat": 4,
 "nbformat_minor": 5
}
