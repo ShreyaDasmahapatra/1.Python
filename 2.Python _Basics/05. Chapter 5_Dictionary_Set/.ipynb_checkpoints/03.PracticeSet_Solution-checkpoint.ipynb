{
 "cells": [
  {
   "cell_type": "markdown",
   "id": "418a8f57",
   "metadata": {},
   "source": [
    "# 1"
   ]
  },
  {
   "cell_type": "code",
   "execution_count": 1,
   "id": "7ffdd9aa",
   "metadata": {},
   "outputs": [
    {
     "name": "stdout",
     "output_type": "stream",
     "text": [
      "['Phool', 'Pani', 'Kitabein', 'Koyla']\n",
      "Enter the wordPani\n",
      "Water\n"
     ]
    }
   ],
   "source": [
    "dict={\n",
    "    \"Phool\":\"Flower\",\n",
    "    \"Pani\":\"Water\",\n",
    "    \"Kitabein\":\"Books\",\n",
    "    \"Koyla\":\"Coal\"\n",
    "}\n",
    "\n",
    "l=list(dict.keys())\n",
    "print(l)\n",
    "n=input(\"Enter the word\")\n",
    "print(dict.get(n))"
   ]
  },
  {
   "cell_type": "markdown",
   "id": "35a91d39",
   "metadata": {},
   "source": [
    "# 2"
   ]
  },
  {
   "cell_type": "code",
   "execution_count": 6,
   "id": "e1120ab7",
   "metadata": {},
   "outputs": [
    {
     "name": "stdout",
     "output_type": "stream",
     "text": [
      "Enter 8 numbers1 1 1 2 2 3 4 5\n",
      "{1, 2, 3, 4, 5}\n"
     ]
    }
   ],
   "source": [
    "l=[]\n",
    "l=input(\"Enter 8 numbers\").split(\" \") #storing string input as list\n",
    "l=[int(i) for i in l] #converting string to int\n",
    "l=set(l)\n",
    "print(l)"
   ]
  },
  {
   "cell_type": "markdown",
   "id": "b42af290",
   "metadata": {},
   "source": [
    "# 3"
   ]
  },
  {
   "cell_type": "code",
   "execution_count": 9,
   "id": "b5a8d83b",
   "metadata": {},
   "outputs": [
    {
     "name": "stdout",
     "output_type": "stream",
     "text": [
      "{18, '18'}\n"
     ]
    }
   ],
   "source": [
    "a=18\n",
    "b=\"18\"\n",
    "setc={a,b}\n",
    "print(setc)"
   ]
  },
  {
   "cell_type": "markdown",
   "id": "e2e95731",
   "metadata": {},
   "source": [
    "# 4"
   ]
  },
  {
   "cell_type": "code",
   "execution_count": 15,
   "id": "1830ad25",
   "metadata": {},
   "outputs": [
    {
     "name": "stdout",
     "output_type": "stream",
     "text": [
      "2\n",
      "{'20', 20}\n"
     ]
    }
   ],
   "source": [
    "s=set()\n",
    "s.add(20)\n",
    "s.add(\"20\")\n",
    "s.add(20.00)\n",
    "print(len(s))\n",
    "print(s)"
   ]
  },
  {
   "cell_type": "markdown",
   "id": "73eb3c1e",
   "metadata": {},
   "source": [
    "# 5"
   ]
  },
  {
   "cell_type": "code",
   "execution_count": 1,
   "id": "4b43847c",
   "metadata": {},
   "outputs": [
    {
     "data": {
      "text/plain": [
       "dict"
      ]
     },
     "execution_count": 1,
     "metadata": {},
     "output_type": "execute_result"
    }
   ],
   "source": [
    "s={}\n",
    "type(s)"
   ]
  },
  {
   "cell_type": "markdown",
   "id": "5fd62ad5",
   "metadata": {},
   "source": [
    "# 6"
   ]
  },
  {
   "cell_type": "code",
   "execution_count": null,
   "id": "db8cec31",
   "metadata": {},
   "outputs": [],
   "source": [
    "d={}\n",
    "for i in range(4):\n",
    "    updateDict={\n",
    "        input(\"Enter name \"):input(\"Favourite Language \")\n",
    "    }\n",
    "    d.update(updateDict)\n",
    "    \n",
    "print(d)"
   ]
  },
  {
   "cell_type": "markdown",
   "id": "ad8b992e",
   "metadata": {},
   "source": [
    "# 7"
   ]
  },
  {
   "cell_type": "code",
   "execution_count": 2,
   "id": "88af7f15",
   "metadata": {},
   "outputs": [
    {
     "name": "stdout",
     "output_type": "stream",
     "text": [
      "Enter name Shreya\n",
      "Favourite Language Java\n",
      "Enter name Shreya\n",
      "Favourite Language Python\n",
      "Enter name Rishi\n",
      "Favourite Language c\n",
      "Enter name Kanwar\n",
      "Favourite Language c++\n",
      "{'Shreya': 'Python', 'Rishi': 'c', 'Kanwar': 'c++'}\n"
     ]
    }
   ],
   "source": [
    "d={}\n",
    "for i in range(4):\n",
    "    updateDict={\n",
    "        input(\"Enter name \"):input(\"Favourite Language \")\n",
    "    }\n",
    "    d.update(updateDict)\n",
    "    \n",
    "print(d)"
   ]
  },
  {
   "cell_type": "markdown",
   "id": "bd9c716d",
   "metadata": {},
   "source": [
    "# 8"
   ]
  },
  {
   "cell_type": "code",
   "execution_count": null,
   "id": "414201cd",
   "metadata": {},
   "outputs": [],
   "source": [
    "d={}\n",
    "for i in range(4):\n",
    "    updateDict={\n",
    "        input(\"Enter name \"):input(\"Favourite Language \")\n",
    "    }\n",
    "    d.update(updateDict)\n",
    "    \n",
    "print(d)"
   ]
  },
  {
   "cell_type": "markdown",
   "id": "6ba0c625",
   "metadata": {},
   "source": [
    "# 9"
   ]
  },
  {
   "cell_type": "code",
   "execution_count": 1,
   "id": "a34fd8fe",
   "metadata": {},
   "outputs": [
    {
     "ename": "TypeError",
     "evalue": "unhashable type: 'list'",
     "output_type": "error",
     "traceback": [
      "\u001b[1;31m---------------------------------------------------------------------------\u001b[0m",
      "\u001b[1;31mTypeError\u001b[0m                                 Traceback (most recent call last)",
      "Input \u001b[1;32mIn [1]\u001b[0m, in \u001b[0;36m<cell line: 1>\u001b[1;34m()\u001b[0m\n\u001b[1;32m----> 1\u001b[0m s\u001b[38;5;241m=\u001b[39m{\u001b[38;5;241m8\u001b[39m,\u001b[38;5;241m7\u001b[39m,\u001b[38;5;241m12\u001b[39m,\u001b[38;5;124m\"\u001b[39m\u001b[38;5;124mHarry\u001b[39m\u001b[38;5;124m\"\u001b[39m,[\u001b[38;5;241m1\u001b[39m,\u001b[38;5;241m2\u001b[39m]}\n\u001b[0;32m      3\u001b[0m s\u001b[38;5;241m.\u001b[39mupdate[\u001b[38;5;241m4\u001b[39m]\u001b[38;5;241m=\u001b[39m[\u001b[38;5;241m1\u001b[39m,\u001b[38;5;241m1\u001b[39m]\n\u001b[0;32m      4\u001b[0m \u001b[38;5;28mprint\u001b[39m(s)\n",
      "\u001b[1;31mTypeError\u001b[0m: unhashable type: 'list'"
     ]
    }
   ],
   "source": [
    "s={8,7,12,\"Harry\",[1,2]}\n",
    "\n",
    "s.update[4]=[1,1]\n",
    "print(s)\n"
   ]
  },
  {
   "cell_type": "code",
   "execution_count": null,
   "id": "45733391",
   "metadata": {},
   "outputs": [],
   "source": []
  }
 ],
 "metadata": {
  "kernelspec": {
   "display_name": "Python 3 (ipykernel)",
   "language": "python",
   "name": "python3"
  },
  "language_info": {
   "codemirror_mode": {
    "name": "ipython",
    "version": 3
   },
   "file_extension": ".py",
   "mimetype": "text/x-python",
   "name": "python",
   "nbconvert_exporter": "python",
   "pygments_lexer": "ipython3",
   "version": "3.9.12"
  }
 },
 "nbformat": 4,
 "nbformat_minor": 5
}
