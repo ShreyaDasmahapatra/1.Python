{
 "cells": [
  {
   "cell_type": "markdown",
   "id": "cd1215b5",
   "metadata": {},
   "source": [
    "# OOPs"
   ]
  },
  {
   "cell_type": "raw",
   "id": "4dc9c4ed",
   "metadata": {},
   "source": [
    "1.Problems are solved using objects.\n",
    "2.It makes the code resuable as it implements DRY principle(Do not Repeat Yourself)"
   ]
  },
  {
   "cell_type": "raw",
   "id": "9281606a",
   "metadata": {},
   "source": [
    "CLASS : It is a blueprint for creating objects"
   ]
  },
  {
   "cell_type": "raw",
   "id": "1bd87805",
   "metadata": {},
   "source": [
    "OBJECT:\n",
    "1.It is an instantiation of a class.\n",
    "2.When a class is defined , a  template(info) is defined\n",
    "3.Memory allocation only takes plae after instantiation of class"
   ]
  },
  {
   "cell_type": "markdown",
   "id": "de1841bc",
   "metadata": {},
   "source": [
    "# CLASS ATRIBUTE\n",
    "Belongs to particular class rather than particular object\n",
    "\n"
   ]
  },
  {
   "cell_type": "code",
   "execution_count": 6,
   "id": "f9e2bae5",
   "metadata": {},
   "outputs": [
    {
     "name": "stdout",
     "output_type": "stream",
     "text": [
      "Google\n",
      "Youtube\n"
     ]
    }
   ],
   "source": [
    "#Example\n",
    "\n",
    "class Employee:\n",
    "#class attribute specific to each class\n",
    "    company=\"Google\"\n",
    "    \n",
    "#object instatiation\n",
    "obj=Employee()\n",
    "print(obj.company)\n",
    "\n",
    "#changing class attribute\n",
    "Employee.company=\"Youtube\"\n",
    "print(obj.company)"
   ]
  },
  {
   "cell_type": "markdown",
   "id": "9f69932e",
   "metadata": {},
   "source": [
    "# Instance Attribute\n",
    "Attribute that belongs to an object/instance"
   ]
  },
  {
   "cell_type": "code",
   "execution_count": 7,
   "id": "94a6c02d",
   "metadata": {},
   "outputs": [
    {
     "name": "stdout",
     "output_type": "stream",
     "text": [
      "Shreya\n",
      "xyz\n",
      "Youtube\n",
      "Amazon\n"
     ]
    }
   ],
   "source": [
    "obj.name=\"Shreya\"\n",
    "obj.salary=\"xyz\"\n",
    "\n",
    "print(obj.name)\n",
    "print(obj.salary)\n",
    "\n",
    "#Instance attribute take preference over class attribute during assignment and retrieval\n",
    "print(obj.company)\n",
    "obj.company=\"Amazon\"\n",
    "print(obj.company)"
   ]
  },
  {
   "cell_type": "markdown",
   "id": "14b0a275",
   "metadata": {},
   "source": [
    "# Self Parameter"
   ]
  },
  {
   "cell_type": "raw",
   "id": "fc59bac9",
   "metadata": {},
   "source": [
    "1.Self refers to the instance of the class\n",
    "2.It is automatically passed with a function call from an object"
   ]
  },
  {
   "cell_type": "raw",
   "id": "a0a9c990",
   "metadata": {},
   "source": [
    "#self is obj\n"
   ]
  },
  {
   "cell_type": "code",
   "execution_count": 10,
   "id": "eede8f88",
   "metadata": {},
   "outputs": [
    {
     "name": "stdout",
     "output_type": "stream",
     "text": [
      "Hello my name is John\n"
     ]
    }
   ],
   "source": [
    "class Person:\n",
    "    def __init__(self, name, age):\n",
    "        self.name = name\n",
    "        self.age = age\n",
    "\n",
    "    def myfunc(self):\n",
    "        print(\"Hello my name is \" + self.name)\n",
    "\n",
    "p1 = Person(\"John\", 36)\n",
    "p1.myfunc()"
   ]
  },
  {
   "cell_type": "code",
   "execution_count": 11,
   "id": "8ced4ed1",
   "metadata": {},
   "outputs": [
    {
     "name": "stdout",
     "output_type": "stream",
     "text": [
      "Hello my name is John\n"
     ]
    }
   ],
   "source": [
    "#self can be renamed as any name\n",
    "\n",
    "class Person:\n",
    "    def __init__(mysillyobject, name, age):\n",
    "        mysillyobject.name = name\n",
    "        mysillyobject.age = age\n",
    "\n",
    "    def myfunc(abc):\n",
    "        print(\"Hello my name is \" + abc.name)\n",
    "\n",
    "p1 = Person(\"John\", 36)\n",
    "p1.myfunc()\n"
   ]
  },
  {
   "cell_type": "code",
   "execution_count": null,
   "id": "24e59254",
   "metadata": {},
   "outputs": [],
   "source": []
  }
 ],
 "metadata": {
  "kernelspec": {
   "display_name": "Python 3 (ipykernel)",
   "language": "python",
   "name": "python3"
  },
  "language_info": {
   "codemirror_mode": {
    "name": "ipython",
    "version": 3
   },
   "file_extension": ".py",
   "mimetype": "text/x-python",
   "name": "python",
   "nbconvert_exporter": "python",
   "pygments_lexer": "ipython3",
   "version": "3.9.12"
  }
 },
 "nbformat": 4,
 "nbformat_minor": 5
}
