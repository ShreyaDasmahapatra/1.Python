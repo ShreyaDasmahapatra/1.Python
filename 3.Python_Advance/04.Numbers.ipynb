{
 "cells": [
  {
   "cell_type": "code",
   "execution_count": 1,
   "id": "c33ad116",
   "metadata": {},
   "outputs": [
    {
     "name": "stdout",
     "output_type": "stream",
     "text": [
      "12\n",
      "8\n",
      "20\n",
      "5.0\n",
      "5\n",
      "0\n",
      "100\n"
     ]
    }
   ],
   "source": [
    "a=10\n",
    "b=2\n",
    "\n",
    "#Addition\n",
    "print(a+b)\n",
    "\n",
    "#Substraction\n",
    "print(a-b)\n",
    "\n",
    "#Multiplication\n",
    "print(a*b)\n",
    "\n",
    "#Division(float division)\n",
    "print(a/b)\n",
    "\n",
    "#Absolute Division(integer result)\n",
    "print(a//b)\n",
    "\n",
    "#Modulus\n",
    "print(a%b) #outputs remainder\n",
    "\n",
    "#Power\n",
    "print(a**b)"
   ]
  },
  {
   "cell_type": "code",
   "execution_count": null,
   "id": "83b55588",
   "metadata": {},
   "outputs": [],
   "source": []
  }
 ],
 "metadata": {
  "kernelspec": {
   "display_name": "Python 3 (ipykernel)",
   "language": "python",
   "name": "python3"
  },
  "language_info": {
   "codemirror_mode": {
    "name": "ipython",
    "version": 3
   },
   "file_extension": ".py",
   "mimetype": "text/x-python",
   "name": "python",
   "nbconvert_exporter": "python",
   "pygments_lexer": "ipython3",
   "version": "3.9.12"
  }
 },
 "nbformat": 4,
 "nbformat_minor": 5
}
