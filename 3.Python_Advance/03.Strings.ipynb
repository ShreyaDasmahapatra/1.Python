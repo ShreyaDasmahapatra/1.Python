{
 "cells": [
  {
   "cell_type": "code",
   "execution_count": 1,
   "id": "63a00b28",
   "metadata": {},
   "outputs": [
    {
     "name": "stdout",
     "output_type": "stream",
     "text": [
      "Shreya Dasmahapatra\n"
     ]
    }
   ],
   "source": [
    "print(\"Shreya Dasmahapatra\")"
   ]
  },
  {
   "cell_type": "code",
   "execution_count": 2,
   "id": "36a3d680",
   "metadata": {},
   "outputs": [
    {
     "name": "stdout",
     "output_type": "stream",
     "text": [
      "Shreya Dasmahapatra\n"
     ]
    }
   ],
   "source": [
    "#Store the value in variable, Variable are use to store value\n",
    "\n",
    "name=\"Shreya Dasmahapatra\"\n",
    "print(name)"
   ]
  },
  {
   "cell_type": "code",
   "execution_count": 3,
   "id": "7cbf0505",
   "metadata": {},
   "outputs": [
    {
     "name": "stdout",
     "output_type": "stream",
     "text": [
      "H\n"
     ]
    }
   ],
   "source": [
    "#String Index, accessing character from string\n",
    "\n",
    "a=\"Hello\"\n",
    "print(a[0])"
   ]
  },
  {
   "cell_type": "markdown",
   "id": "2fe9ec38",
   "metadata": {},
   "source": [
    "# String Concatenation and Repetition"
   ]
  },
  {
   "cell_type": "code",
   "execution_count": 4,
   "id": "4e21710f",
   "metadata": {},
   "outputs": [
    {
     "name": "stdout",
     "output_type": "stream",
     "text": [
      "Shreya Dasmahapatra\n"
     ]
    }
   ],
   "source": [
    "#String Concatenation\n",
    "\n",
    "str1=\"Shreya\"\n",
    "str2=\"Dasmahapatra\"\n",
    "print(str1+\" \"+str2)"
   ]
  },
  {
   "cell_type": "code",
   "execution_count": 5,
   "id": "4414d3bd",
   "metadata": {},
   "outputs": [
    {
     "name": "stdout",
     "output_type": "stream",
     "text": [
      "1010101010\n",
      "ShreyaShreyaShreyaShreyaShreya\n"
     ]
    }
   ],
   "source": [
    "#String Repetition\n",
    "s1=\"10\"\n",
    "s2=\"Shreya\"\n",
    "print(s1*5)\n",
    "print(s2*5)"
   ]
  },
  {
   "cell_type": "markdown",
   "id": "50717011",
   "metadata": {},
   "source": [
    "# String Slicing and Indexing"
   ]
  },
  {
   "cell_type": "code",
   "execution_count": 6,
   "id": "29ccf41f",
   "metadata": {},
   "outputs": [
    {
     "name": "stdout",
     "output_type": "stream",
     "text": [
      "S\n",
      "Shreya Dasmahapatra\n",
      "Shreya Dasmahapatra\n",
      "a\n",
      "mahap\n",
      "Shreya Dasmahap\n",
      "artapahamsaD ayerhS\n"
     ]
    }
   ],
   "source": [
    "name=\"Shreya Dasmahapatra\"\n",
    "print(name[0])\n",
    "print(name[0:len(name)])\n",
    "print(name[0:])\n",
    "print(name[-1:])\n",
    "print(name[-9:-4])\n",
    "print(name[:-4])\n",
    "\n",
    "\n",
    "#reverse a string\n",
    "\n",
    "print(name[::-1])"
   ]
  },
  {
   "cell_type": "markdown",
   "id": "742c9f7a",
   "metadata": {},
   "source": [
    "# Python Built in methods"
   ]
  },
  {
   "cell_type": "markdown",
   "id": "22cafb9e",
   "metadata": {},
   "source": [
    "https://www.w3schools.com/python/python_ref_string.asp"
   ]
  },
  {
   "cell_type": "code",
   "execution_count": 7,
   "id": "4bec682e",
   "metadata": {},
   "outputs": [
    {
     "name": "stdout",
     "output_type": "stream",
     "text": [
      "SHREYA DASMAHAPATRA\n"
     ]
    }
   ],
   "source": [
    "name=\"Shreya Dasmahapatra\"\n",
    "print(name.upper())"
   ]
  },
  {
   "cell_type": "markdown",
   "id": "7576b071",
   "metadata": {},
   "source": [
    "# Print Formatting"
   ]
  },
  {
   "cell_type": "code",
   "execution_count": 8,
   "id": "7a896a59",
   "metadata": {},
   "outputs": [],
   "source": [
    "name=\"Shreya Dasmahapatra\"\n",
    "age=23\n",
    "bool=\"True\""
   ]
  },
  {
   "cell_type": "code",
   "execution_count": 9,
   "id": "b9ca0ee1",
   "metadata": {},
   "outputs": [
    {
     "name": "stdout",
     "output_type": "stream",
     "text": [
      "My name is Shreya Dasmahapatra,my age is 23 and it is True that I am single.\n"
     ]
    }
   ],
   "source": [
    "#1\n",
    "print(\"My name is %s,my age is %s and it is %s that I am single.\" %(name,age,bool))"
   ]
  },
  {
   "cell_type": "code",
   "execution_count": 10,
   "id": "897fae85",
   "metadata": {},
   "outputs": [
    {
     "name": "stdout",
     "output_type": "stream",
     "text": [
      "My name is Shreya Dasmahapatra,my age is 23 and it is True that I am single.\n"
     ]
    }
   ],
   "source": [
    "#2\n",
    "print(\"My name is {},my age is {} and it is {} that I am single.\" .format(name,age,bool))"
   ]
  },
  {
   "cell_type": "code",
   "execution_count": 11,
   "id": "942b5d9d",
   "metadata": {},
   "outputs": [
    {
     "name": "stdout",
     "output_type": "stream",
     "text": [
      "My name is Shreya Dasmahapatra,my age is 23 and it is True that I am single.\n"
     ]
    }
   ],
   "source": [
    "#3\n",
    "print(f\"My name is {name},my age is {age} and it is {bool} that I am single.\")"
   ]
  },
  {
   "cell_type": "markdown",
   "id": "84164c39",
   "metadata": {},
   "source": [
    "# STRING FUNCTION"
   ]
  },
  {
   "cell_type": "code",
   "execution_count": 12,
   "id": "0c93bf2b",
   "metadata": {},
   "outputs": [],
   "source": [
    "name=\"Shreya Dasmahapatra\" "
   ]
  },
  {
   "cell_type": "code",
   "execution_count": 13,
   "id": "71547afd",
   "metadata": {},
   "outputs": [
    {
     "data": {
      "text/plain": [
       "19"
      ]
     },
     "execution_count": 13,
     "metadata": {},
     "output_type": "execute_result"
    }
   ],
   "source": [
    "#1.len()\n",
    "\n",
    "len(name)"
   ]
  },
  {
   "cell_type": "code",
   "execution_count": 14,
   "id": "d0a97124",
   "metadata": {},
   "outputs": [
    {
     "data": {
      "text/plain": [
       "True"
      ]
     },
     "execution_count": 14,
     "metadata": {},
     "output_type": "execute_result"
    }
   ],
   "source": [
    "#2\n",
    "name.endswith(\"atra\")"
   ]
  },
  {
   "cell_type": "code",
   "execution_count": 15,
   "id": "ef6229a7",
   "metadata": {},
   "outputs": [
    {
     "data": {
      "text/plain": [
       "6"
      ]
     },
     "execution_count": 15,
     "metadata": {},
     "output_type": "execute_result"
    }
   ],
   "source": [
    "#3\n",
    "name.count(\"a\")"
   ]
  },
  {
   "cell_type": "code",
   "execution_count": 16,
   "id": "d654d79d",
   "metadata": {},
   "outputs": [
    {
     "data": {
      "text/plain": [
       "'Shreya dasmahapatra'"
      ]
     },
     "execution_count": 16,
     "metadata": {},
     "output_type": "execute_result"
    }
   ],
   "source": [
    "#4 Capitalize 1st character of the string\n",
    "\n",
    "name.capitalize()"
   ]
  },
  {
   "cell_type": "code",
   "execution_count": 17,
   "id": "cd94674d",
   "metadata": {},
   "outputs": [
    {
     "data": {
      "text/plain": [
       "-1"
      ]
     },
     "execution_count": 17,
     "metadata": {},
     "output_type": "execute_result"
    }
   ],
   "source": [
    "#5. find is case sensitive\n",
    "name.find(\"om\") # if output is -1 it means there is difference in cases(case sensitive)\n"
   ]
  },
  {
   "cell_type": "code",
   "execution_count": 21,
   "id": "67a207c7",
   "metadata": {},
   "outputs": [
    {
     "data": {
      "text/plain": [
       "0"
      ]
     },
     "execution_count": 21,
     "metadata": {},
     "output_type": "execute_result"
    }
   ],
   "source": [
    "name.find(\"Shreya\") # output is 0 , no case sensitive"
   ]
  },
  {
   "cell_type": "code",
   "execution_count": 22,
   "id": "d6879c32",
   "metadata": {},
   "outputs": [
    {
     "data": {
      "text/plain": [
       "'Gudli Dasmahapatra'"
      ]
     },
     "execution_count": 22,
     "metadata": {},
     "output_type": "execute_result"
    }
   ],
   "source": [
    "#6\n",
    "\n",
    "name.replace(\"Shreya\" , \"Gudli\")"
   ]
  },
  {
   "cell_type": "markdown",
   "id": "7c368df4",
   "metadata": {},
   "source": [
    "# ESCAPE SEQUENCE"
   ]
  },
  {
   "cell_type": "raw",
   "id": "3b5cb860",
   "metadata": {},
   "source": [
    "\\n : new line\n",
    "\\t : tab\n",
    "\\' : single quote\n",
    "\\\\ : backslash"
   ]
  },
  {
   "cell_type": "code",
   "execution_count": null,
   "id": "52862b8b",
   "metadata": {},
   "outputs": [],
   "source": []
  },
  {
   "cell_type": "code",
   "execution_count": null,
   "id": "35e45eed",
   "metadata": {},
   "outputs": [],
   "source": []
  }
 ],
 "metadata": {
  "kernelspec": {
   "display_name": "Python 3 (ipykernel)",
   "language": "python",
   "name": "python3"
  },
  "language_info": {
   "codemirror_mode": {
    "name": "ipython",
    "version": 3
   },
   "file_extension": ".py",
   "mimetype": "text/x-python",
   "name": "python",
   "nbconvert_exporter": "python",
   "pygments_lexer": "ipython3",
   "version": "3.9.12"
  }
 },
 "nbformat": 4,
 "nbformat_minor": 5
}
