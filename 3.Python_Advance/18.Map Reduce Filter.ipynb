{
 "cells": [
  {
   "cell_type": "markdown",
   "id": "22d00782",
   "metadata": {},
   "source": [
    "# MAP\n",
    "applies function to all the items in a list"
   ]
  },
  {
   "cell_type": "code",
   "execution_count": 1,
   "id": "7d8a7a5f",
   "metadata": {},
   "outputs": [
    {
     "name": "stdout",
     "output_type": "stream",
     "text": [
      "[1, 4, 9]\n"
     ]
    }
   ],
   "source": [
    "#Method 1\n",
    "def square(num):\n",
    "    return num*num\n",
    "l=[1,2,3]\n",
    "l2=[]\n",
    "for item in l:\n",
    "    l2.append(square(item))\n",
    "print(l2)\n"
   ]
  },
  {
   "cell_type": "code",
   "execution_count": 1,
   "id": "5ca4efd0",
   "metadata": {},
   "outputs": [
    {
     "name": "stdout",
     "output_type": "stream",
     "text": [
      "[1, 4, 9]\n"
     ]
    }
   ],
   "source": [
    "#Method 2\n",
    "def square(num):\n",
    "    return num*num\n",
    "l=[1,2,3]\n",
    "l2=list(map(square,l))\n",
    "print(l2)"
   ]
  },
  {
   "cell_type": "markdown",
   "id": "c1c978a0",
   "metadata": {},
   "source": [
    "# FILTER\n",
    "Creates list of items for which the function returns true"
   ]
  },
  {
   "cell_type": "code",
   "execution_count": 3,
   "id": "9b9f03f1",
   "metadata": {},
   "outputs": [
    {
     "name": "stdout",
     "output_type": "stream",
     "text": [
      "[6, 7, 8, 89, 98]\n",
      "[89, 98]\n"
     ]
    }
   ],
   "source": [
    "def greater_than_5(num):\n",
    "    if num>5:\n",
    "        return True\n",
    "    else:\n",
    "        return False\n",
    "r=lambda num:num>10\n",
    "l=[1,2,3,4,5,6,7,8,89,98]\n",
    "print(list(filter(greater_than_5,l)))s\n",
    "print(list(filter(r,l)))\n"
   ]
  },
  {
   "cell_type": "markdown",
   "id": "35b863cf",
   "metadata": {},
   "source": [
    "# REDUCE\n",
    "It applies rolling competition to sequential pair. In short when you want just one value as output and not list output as multiple  value."
   ]
  },
  {
   "cell_type": "code",
   "execution_count": 4,
   "id": "44876ca0",
   "metadata": {},
   "outputs": [
    {
     "name": "stdout",
     "output_type": "stream",
     "text": [
      "10\n"
     ]
    }
   ],
   "source": [
    "from functools import reduce\n",
    "sum=lambda a,b:a+b\n",
    "l=[1,2,3,4]\n",
    "val=reduce(sum,l)\n",
    "print(val)"
   ]
  },
  {
   "cell_type": "code",
   "execution_count": null,
   "id": "99f7ee45",
   "metadata": {},
   "outputs": [],
   "source": []
  }
 ],
 "metadata": {
  "kernelspec": {
   "display_name": "Python 3 (ipykernel)",
   "language": "python",
   "name": "python3"
  },
  "language_info": {
   "codemirror_mode": {
    "name": "ipython",
    "version": 3
   },
   "file_extension": ".py",
   "mimetype": "text/x-python",
   "name": "python",
   "nbconvert_exporter": "python",
   "pygments_lexer": "ipython3",
   "version": "3.9.12"
  }
 },
 "nbformat": 4,
 "nbformat_minor": 5
}
