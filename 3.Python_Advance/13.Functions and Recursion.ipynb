{
 "cells": [
  {
   "cell_type": "markdown",
   "id": "4318714c",
   "metadata": {},
   "source": [
    "# Functions and Recursions"
   ]
  },
  {
   "cell_type": "raw",
   "id": "33690999",
   "metadata": {},
   "source": [
    "Function is a group of statement performing specific task"
   ]
  },
  {
   "cell_type": "markdown",
   "id": "09ab7f75",
   "metadata": {},
   "source": [
    "# Function Call"
   ]
  },
  {
   "cell_type": "raw",
   "id": "f778780e",
   "metadata": {},
   "source": [
    "function_name()"
   ]
  },
  {
   "cell_type": "markdown",
   "id": "7e0c15ec",
   "metadata": {},
   "source": [
    "# Function Definition"
   ]
  },
  {
   "cell_type": "raw",
   "id": "4bf3bec4",
   "metadata": {},
   "source": [
    "The part of the function that executed when called"
   ]
  },
  {
   "cell_type": "markdown",
   "id": "6dec97e6",
   "metadata": {},
   "source": [
    "# Types of Functions(on basis of the nature of its creation)"
   ]
  },
  {
   "cell_type": "raw",
   "id": "b8545a4b",
   "metadata": {},
   "source": [
    "1.Built-in Functions\n",
    "2.User defined functions"
   ]
  },
  {
   "cell_type": "markdown",
   "id": "b22bfaff",
   "metadata": {},
   "source": [
    "# Function with arguments"
   ]
  },
  {
   "cell_type": "code",
   "execution_count": 1,
   "id": "a57ebd0b",
   "metadata": {},
   "outputs": [
    {
     "name": "stdout",
     "output_type": "stream",
     "text": [
      "Hello Shreya\n"
     ]
    }
   ],
   "source": [
    "#VALUES PASSED TO FUNCTIONS AS PARAMETERS\n",
    "\n",
    "def greet(name):\n",
    "    gr=\"Hello \"+name\n",
    "    return gr\n",
    "a=greet(\"Shreya\")\n",
    "print(a)"
   ]
  },
  {
   "cell_type": "code",
   "execution_count": 2,
   "id": "58881e9b",
   "metadata": {},
   "outputs": [
    {
     "name": "stdout",
     "output_type": "stream",
     "text": [
      "Hello Shreya\n",
      "Hello Gudli\n"
     ]
    }
   ],
   "source": [
    "#DEFAULT PARAMETER VALUE\n",
    "\n",
    "\n",
    "def greet(name=\"Shreya\"):\n",
    "    gr=\"Hello \"+name\n",
    "    return gr\n",
    "a1=greet()\n",
    "a2=greet(\"Gudli\")\n",
    "print(a1)\n",
    "print(a2)\n"
   ]
  },
  {
   "cell_type": "markdown",
   "id": "0a472607",
   "metadata": {},
   "source": [
    "Arbitrary Arguments, *args\n",
    "If you do not know how many arguments that will be passed into your function, add a * before the parameter name in the function definition.\n",
    "\n",
    "This way the function will receive a tuple of arguments, and can access the items accordingly:"
   ]
  },
  {
   "cell_type": "code",
   "execution_count": 1,
   "id": "473f2b00",
   "metadata": {},
   "outputs": [
    {
     "name": "stdout",
     "output_type": "stream",
     "text": [
      "The elder child is Emil\n"
     ]
    }
   ],
   "source": [
    "def my_function(*kids):\n",
    "    print(\"The elder child is \" + kids[0])\n",
    "\n",
    "my_function(\"Emil\", \"Tobias\", \"Linus\")"
   ]
  },
  {
   "cell_type": "markdown",
   "id": "9a65d5d4",
   "metadata": {},
   "source": [
    "Keyword Arguments\n",
    "You can also send arguments with the key = value syntax.\n",
    "\n",
    "This way the order of the arguments does not matter."
   ]
  },
  {
   "cell_type": "code",
   "execution_count": 2,
   "id": "078c66c1",
   "metadata": {},
   "outputs": [
    {
     "name": "stdout",
     "output_type": "stream",
     "text": [
      "The youngest child is Linus\n"
     ]
    }
   ],
   "source": [
    "def my_function(child3, child2, child1):\n",
    "    print(\"The youngest child is \" + child3)\n",
    "\n",
    "my_function(child1 = \"Emil\", child2 = \"Tobias\", child3 = \"Linus\")"
   ]
  },
  {
   "cell_type": "markdown",
   "id": "cf9f083e",
   "metadata": {},
   "source": [
    "Arbitrary Keyword Arguments, **kwargs\n",
    "If you do not know how many keyword arguments that will be passed into your function, add two asterisk: ** before the parameter name in the function definition.\n",
    "\n",
    "This way the function will receive a dictionary of arguments, and can access the items accordingly:"
   ]
  },
  {
   "cell_type": "code",
   "execution_count": 3,
   "id": "d5c04f78",
   "metadata": {},
   "outputs": [
    {
     "name": "stdout",
     "output_type": "stream",
     "text": [
      "His last name is Refsnes\n"
     ]
    }
   ],
   "source": [
    "def my_function(**kid):\n",
    "    print(\"His last name is \" + kid[\"lname\"])\n",
    "\n",
    "my_function(fname = \"Tobias\", lname = \"Refsnes\")"
   ]
  },
  {
   "cell_type": "code",
   "execution_count": 3,
   "id": "fd713012",
   "metadata": {},
   "outputs": [
    {
     "name": "stdout",
     "output_type": "stream",
     "text": [
      "His last name is Refsnes\n"
     ]
    }
   ],
   "source": [
    "def my_function(*kid):\n",
    "    print(\"His last name is \" + kid[1])\n",
    "\n",
    "my_function(\"Tobias\",\"Refsnes\")"
   ]
  },
  {
   "cell_type": "markdown",
   "id": "ab6e9ad8",
   "metadata": {},
   "source": [
    "# RECURSION"
   ]
  },
  {
   "cell_type": "raw",
   "id": "83538666",
   "metadata": {},
   "source": [
    "When a function calls itself"
   ]
  },
  {
   "cell_type": "code",
   "execution_count": 4,
   "id": "8ed85c13",
   "metadata": {},
   "outputs": [
    {
     "name": "stdout",
     "output_type": "stream",
     "text": [
      "6\n"
     ]
    }
   ],
   "source": [
    "#factorial\n",
    "#5!\n",
    "#5*4*3*2*1\n",
    "\n",
    "def factorial(n):\n",
    "    if  (n==0 or n==1):\n",
    "        return 1\n",
    "    else:\n",
    "        return n* factorial(n-1)\n",
    "    \n",
    "result=factorial(3)\n",
    "print(result)"
   ]
  },
  {
   "cell_type": "code",
   "execution_count": null,
   "id": "04fb3656",
   "metadata": {},
   "outputs": [],
   "source": []
  }
 ],
 "metadata": {
  "kernelspec": {
   "display_name": "Python 3 (ipykernel)",
   "language": "python",
   "name": "python3"
  },
  "language_info": {
   "codemirror_mode": {
    "name": "ipython",
    "version": 3
   },
   "file_extension": ".py",
   "mimetype": "text/x-python",
   "name": "python",
   "nbconvert_exporter": "python",
   "pygments_lexer": "ipython3",
   "version": "3.9.12"
  }
 },
 "nbformat": 4,
 "nbformat_minor": 5
}
