{
 "cells": [
  {
   "cell_type": "markdown",
   "id": "8b459be2",
   "metadata": {},
   "source": [
    "# List Comprehensions\n",
    "Python provide synthetic sugar to write the loops for list/tuple/dictionary/sets in one line"
   ]
  },
  {
   "cell_type": "code",
   "execution_count": 2,
   "id": "0624abca",
   "metadata": {},
   "outputs": [
    {
     "name": "stdout",
     "output_type": "stream",
     "text": [
      "['Hello Shreya', 'Hello Varsha', 'Hello Khushi']\n"
     ]
    }
   ],
   "source": [
    "#Attach hello to all the names in the list\n",
    "names=[\"Shreya\",\"Varsha\",\"Khushi\"]\n",
    "Hello=[\"Hello\"+\" \"+ name for name in names]\n",
    "print(Hello)"
   ]
  },
  {
   "cell_type": "code",
   "execution_count": 4,
   "id": "cdb2111b",
   "metadata": {},
   "outputs": [
    {
     "name": "stdout",
     "output_type": "stream",
     "text": [
      "[2, 6, 8, 10, 12]\n"
     ]
    }
   ],
   "source": [
    "#Even number from list of numbers\n",
    "num=[1,2,6,5,8,10,12,3,7]\n",
    "even=[n for n in num if n%2==0 ]\n",
    "print(even)"
   ]
  },
  {
   "cell_type": "code",
   "execution_count": 5,
   "id": "7531c94a",
   "metadata": {},
   "outputs": [
    {
     "name": "stdout",
     "output_type": "stream",
     "text": [
      "[1, 25, 9, 49]\n"
     ]
    }
   ],
   "source": [
    "#find the odd from the list and list the quare of it\n",
    "num=[1,2,6,5,8,10,12,3,7]\n",
    "odd_square=[n*n for n in num if n%2!=0 ]\n",
    "print(odd_square)"
   ]
  },
  {
   "cell_type": "code",
   "execution_count": null,
   "id": "9b684ef8",
   "metadata": {},
   "outputs": [],
   "source": []
  }
 ],
 "metadata": {
  "kernelspec": {
   "display_name": "Python 3 (ipykernel)",
   "language": "python",
   "name": "python3"
  },
  "language_info": {
   "codemirror_mode": {
    "name": "ipython",
    "version": 3
   },
   "file_extension": ".py",
   "mimetype": "text/x-python",
   "name": "python",
   "nbconvert_exporter": "python",
   "pygments_lexer": "ipython3",
   "version": "3.9.12"
  }
 },
 "nbformat": 4,
 "nbformat_minor": 5
}
