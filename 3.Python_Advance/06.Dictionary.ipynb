{
 "cells": [
  {
   "cell_type": "markdown",
   "id": "080b2ed0",
   "metadata": {},
   "source": [
    "# Dictionary is collection of Key value pair"
   ]
  },
  {
   "cell_type": "markdown",
   "id": "9ce7bb22",
   "metadata": {},
   "source": [
    "# Properties"
   ]
  },
  {
   "cell_type": "raw",
   "id": "ba5edeb0",
   "metadata": {},
   "source": [
    "1.Unordered\n",
    "2.Mutable\n",
    "3.Indexed\n",
    "4.No duplicate keys"
   ]
  },
  {
   "cell_type": "markdown",
   "id": "511154b4",
   "metadata": {},
   "source": [
    "# Constructing Dictionary"
   ]
  },
  {
   "cell_type": "code",
   "execution_count": 1,
   "id": "64860ec3",
   "metadata": {},
   "outputs": [
    {
     "name": "stdout",
     "output_type": "stream",
     "text": [
      "{'key1': 'value1', 'key2': 'value2'}\n"
     ]
    }
   ],
   "source": [
    "my_dict={'key1':'value1','key2':'value2'}\n",
    "print(my_dict)"
   ]
  },
  {
   "cell_type": "code",
   "execution_count": 2,
   "id": "f3516ccb",
   "metadata": {},
   "outputs": [
    {
     "name": "stdout",
     "output_type": "stream",
     "text": [
      "value1\n",
      "value2\n"
     ]
    }
   ],
   "source": [
    "#Access the values by the keys\n",
    "print(my_dict['key1'])\n",
    "print(my_dict['key2'])"
   ]
  },
  {
   "cell_type": "code",
   "execution_count": 3,
   "id": "52e108c2",
   "metadata": {},
   "outputs": [
    {
     "data": {
      "text/plain": [
       "123"
      ]
     },
     "execution_count": 3,
     "metadata": {},
     "output_type": "execute_result"
    }
   ],
   "source": [
    "#Change the values of the key\n",
    "my_dict['key1']=123\n",
    "my_dict['key1']"
   ]
  },
  {
   "cell_type": "code",
   "execution_count": 4,
   "id": "63220b48",
   "metadata": {},
   "outputs": [
    {
     "data": {
      "text/plain": [
       "{'key1': 323, 'key2': 'value2'}"
      ]
     },
     "execution_count": 4,
     "metadata": {},
     "output_type": "execute_result"
    }
   ],
   "source": [
    "my_dict['key1']=my_dict['key1']+200\n",
    "my_dict"
   ]
  },
  {
   "cell_type": "code",
   "execution_count": 5,
   "id": "288dcb05",
   "metadata": {},
   "outputs": [
    {
     "data": {
      "text/plain": [
       "{'names': ['Shreya', 'Khushi', 'SRK'],\n",
       " 'age': [23, 15, 57],\n",
       " 'places': {'Karnataka': ['Bangalore', 'Mysore'],\n",
       "  'Jharkhand': 'Ranchi',\n",
       "  'Maharashtra': 'Mumbai'}}"
      ]
     },
     "execution_count": 5,
     "metadata": {},
     "output_type": "execute_result"
    }
   ],
   "source": [
    "my_dict1={'names':['Shreya','Khushi','SRK'],'age':[23,15,57],'places':{'Karnataka':['Bangalore','Mysore'],'Jharkhand':'Ranchi','Maharashtra':'Mumbai'}}\n",
    "my_dict1"
   ]
  },
  {
   "cell_type": "code",
   "execution_count": 6,
   "id": "67b80598",
   "metadata": {},
   "outputs": [
    {
     "data": {
      "text/plain": [
       "'Shreya'"
      ]
     },
     "execution_count": 6,
     "metadata": {},
     "output_type": "execute_result"
    }
   ],
   "source": [
    "#Accessing Name for first element\n",
    "my_dict1['names'][0]"
   ]
  },
  {
   "cell_type": "code",
   "execution_count": 7,
   "id": "411474bd",
   "metadata": {},
   "outputs": [
    {
     "data": {
      "text/plain": [
       "23"
      ]
     },
     "execution_count": 7,
     "metadata": {},
     "output_type": "execute_result"
    }
   ],
   "source": [
    "#Accessing AGE for first element\n",
    "my_dict1['age'][0]"
   ]
  },
  {
   "cell_type": "code",
   "execution_count": 8,
   "id": "42253b12",
   "metadata": {},
   "outputs": [
    {
     "data": {
      "text/plain": [
       "'Mysore'"
      ]
     },
     "execution_count": 8,
     "metadata": {},
     "output_type": "execute_result"
    }
   ],
   "source": [
    "#Accessing places for 1st element\n",
    "my_dict1['places']['Karnataka'][1]"
   ]
  },
  {
   "cell_type": "code",
   "execution_count": 9,
   "id": "9ba2b97b",
   "metadata": {},
   "outputs": [
    {
     "data": {
      "text/plain": [
       "{'names': ['Shreya', 'Khushi', 'SRK'],\n",
       " 'age': [23, 15, 57],\n",
       " 'places': {'Karnataka': ['Bangalore', 'Mysore'],\n",
       "  'Jharkhand': 'Ranchi',\n",
       "  'Maharashtra': 'Mumbai',\n",
       "  'Odisha': 'Bhubaneshwar'}}"
      ]
     },
     "execution_count": 9,
     "metadata": {},
     "output_type": "execute_result"
    }
   ],
   "source": [
    "#Adding element to the dictionary places\n",
    "my_dict1['places']['Odisha']='Bhubaneshwar'\n",
    "my_dict1\n"
   ]
  },
  {
   "cell_type": "markdown",
   "id": "7844b35e",
   "metadata": {},
   "source": [
    "# Dictionary Methods"
   ]
  },
  {
   "cell_type": "code",
   "execution_count": 10,
   "id": "7c2073a2",
   "metadata": {},
   "outputs": [
    {
     "data": {
      "text/plain": [
       "dict_items([('name', 'Shreya'), ('place', 'Odisha'), ('marks', [88, 92, 78])])"
      ]
     },
     "execution_count": 10,
     "metadata": {},
     "output_type": "execute_result"
    }
   ],
   "source": [
    "#1 Returns key value pairs\n",
    "a={\"name\":\"Shreya\",\"place\":\"Odisha\",\"marks\":[88,92,78]}\n",
    "a.items()"
   ]
  },
  {
   "cell_type": "code",
   "execution_count": 11,
   "id": "c7b6b5d3",
   "metadata": {},
   "outputs": [
    {
     "data": {
      "text/plain": [
       "dict_keys(['name', 'place', 'marks'])"
      ]
     },
     "execution_count": 11,
     "metadata": {},
     "output_type": "execute_result"
    }
   ],
   "source": [
    "#2 Returns list containing keys\n",
    "a={\"name\":\"Shreya\",\"place\":\"Odisha\",\"marks\":[88,92,78]}\n",
    "a.keys()"
   ]
  },
  {
   "cell_type": "code",
   "execution_count": 12,
   "id": "40e998be",
   "metadata": {},
   "outputs": [
    {
     "data": {
      "text/plain": [
       "{'name': 'Gudli',\n",
       " 'place': 'Karnataka',\n",
       " 'marks': [88, 92, 78],\n",
       " 'from': 'Odisha'}"
      ]
     },
     "execution_count": 12,
     "metadata": {},
     "output_type": "execute_result"
    }
   ],
   "source": [
    "#3 adds or updates the dictionary\n",
    "#if duplicate value is updated then it gets added to the dictionary\n",
    "#if duplicate key   is updated then it replaces the existing one.\n",
    "a={\"name\":\"Shreya\",\"place\":\"Karnataka\",\"marks\":[88,92,78]}\n",
    "a.update({\"from\":\"Odisha\"})\n",
    "a.update({\"name\":\"Gudli\"})\n",
    "a"
   ]
  },
  {
   "cell_type": "code",
   "execution_count": 13,
   "id": "fc01333b",
   "metadata": {},
   "outputs": [
    {
     "data": {
      "text/plain": [
       "'Shreya'"
      ]
     },
     "execution_count": 13,
     "metadata": {},
     "output_type": "execute_result"
    }
   ],
   "source": [
    "#4 returns the value of specified key\n",
    "a={\"name\":\"Shreya\",\"place\":\"Odisha\",\"marks\":[88,92,78]}\n",
    "a.get('name')\n"
   ]
  },
  {
   "cell_type": "code",
   "execution_count": null,
   "id": "c79cfb6e",
   "metadata": {},
   "outputs": [],
   "source": [
    "#What is the difference between a.get('name') and a['name']\n",
    "#Let us operate on key that does not exist example age\n"
   ]
  },
  {
   "cell_type": "code",
   "execution_count": 14,
   "id": "e6e37d75",
   "metadata": {},
   "outputs": [],
   "source": [
    "a.get('age')"
   ]
  },
  {
   "cell_type": "code",
   "execution_count": 15,
   "id": "f5b28827",
   "metadata": {},
   "outputs": [
    {
     "ename": "KeyError",
     "evalue": "'age'",
     "output_type": "error",
     "traceback": [
      "\u001b[1;31m---------------------------------------------------------------------------\u001b[0m",
      "\u001b[1;31mKeyError\u001b[0m                                  Traceback (most recent call last)",
      "Input \u001b[1;32mIn [15]\u001b[0m, in \u001b[0;36m<cell line: 1>\u001b[1;34m()\u001b[0m\n\u001b[1;32m----> 1\u001b[0m \u001b[43ma\u001b[49m\u001b[43m[\u001b[49m\u001b[38;5;124;43m'\u001b[39;49m\u001b[38;5;124;43mage\u001b[39;49m\u001b[38;5;124;43m'\u001b[39;49m\u001b[43m]\u001b[49m\n",
      "\u001b[1;31mKeyError\u001b[0m: 'age'"
     ]
    }
   ],
   "source": [
    "a['age']"
   ]
  },
  {
   "cell_type": "code",
   "execution_count": null,
   "id": "417902f5",
   "metadata": {},
   "outputs": [],
   "source": [
    "#The only difference is that one will give error another won't"
   ]
  }
 ],
 "metadata": {
  "kernelspec": {
   "display_name": "Python 3 (ipykernel)",
   "language": "python",
   "name": "python3"
  },
  "language_info": {
   "codemirror_mode": {
    "name": "ipython",
    "version": 3
   },
   "file_extension": ".py",
   "mimetype": "text/x-python",
   "name": "python",
   "nbconvert_exporter": "python",
   "pygments_lexer": "ipython3",
   "version": "3.9.12"
  }
 },
 "nbformat": 4,
 "nbformat_minor": 5
}
