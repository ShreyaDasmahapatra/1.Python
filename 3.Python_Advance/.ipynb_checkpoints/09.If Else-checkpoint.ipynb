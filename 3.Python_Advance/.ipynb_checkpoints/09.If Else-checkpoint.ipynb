{
 "cells": [
  {
   "cell_type": "code",
   "execution_count": 4,
   "id": "84a509db",
   "metadata": {},
   "outputs": [
    {
     "name": "stdout",
     "output_type": "stream",
     "text": [
      "Yes\n",
      "True\n",
      "1923248056912\n",
      "1923248056912\n"
     ]
    }
   ],
   "source": [
    "a=10\n",
    "#b=10 or b=20//2 means the same\n",
    "b=10\n",
    "if(a is b): #compares address of the value\n",
    "    print(\"Yes\")\n",
    "else:\n",
    "    print(\"No\")\n",
    "\n",
    "if(a==b): #compares values directly\n",
    "    print(True)\n",
    "else:\n",
    "    print(False)\n",
    "    \n",
    "print(id(a))\n",
    "print(id(b))"
   ]
  },
  {
   "cell_type": "code",
   "execution_count": 5,
   "id": "b6dc0532",
   "metadata": {},
   "outputs": [
    {
     "name": "stdout",
     "output_type": "stream",
     "text": [
      "No\n",
      "True\n",
      "1923248056912\n",
      "1923332726096\n"
     ]
    }
   ],
   "source": [
    "a=10\n",
    "#b=10 or b=20/2 does not means the same\n",
    "b=20/2 \n",
    "if(a is b):\n",
    "    print(\"Yes\")\n",
    "else:\n",
    "    print(\"No\")\n",
    "\n",
    "if(a==b):\n",
    "    print(True)\n",
    "else:\n",
    "    print(False)\n",
    "    \n",
    "print(id(a))\n",
    "print(id(b))"
   ]
  },
  {
   "cell_type": "markdown",
   "id": "b0769cdc",
   "metadata": {},
   "source": [
    "# is refers to the address or object\n",
    "# == refers to the value"
   ]
  },
  {
   "cell_type": "code",
   "execution_count": null,
   "id": "4122c69d",
   "metadata": {},
   "outputs": [],
   "source": []
  }
 ],
 "metadata": {
  "kernelspec": {
   "display_name": "Python 3 (ipykernel)",
   "language": "python",
   "name": "python3"
  },
  "language_info": {
   "codemirror_mode": {
    "name": "ipython",
    "version": 3
   },
   "file_extension": ".py",
   "mimetype": "text/x-python",
   "name": "python",
   "nbconvert_exporter": "python",
   "pygments_lexer": "ipython3",
   "version": "3.9.12"
  }
 },
 "nbformat": 4,
 "nbformat_minor": 5
}
