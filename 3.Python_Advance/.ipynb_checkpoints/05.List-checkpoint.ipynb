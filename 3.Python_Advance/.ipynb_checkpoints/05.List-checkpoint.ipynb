{
 "cells": [
  {
   "cell_type": "markdown",
   "id": "6521e929",
   "metadata": {},
   "source": [
    "#List stores set of values  of any datatypes"
   ]
  },
  {
   "cell_type": "markdown",
   "id": "5886cada",
   "metadata": {},
   "source": [
    "# List Properties"
   ]
  },
  {
   "cell_type": "raw",
   "id": "62b36874",
   "metadata": {},
   "source": [
    "1.Ordered\n",
    "2.Duplicates present\n",
    "3.Mutable\n",
    "4.Can have any data type"
   ]
  },
  {
   "cell_type": "markdown",
   "id": "09e2e847",
   "metadata": {},
   "source": [
    "# Creating List"
   ]
  },
  {
   "cell_type": "code",
   "execution_count": 2,
   "id": "91b53627",
   "metadata": {},
   "outputs": [
    {
     "data": {
      "text/plain": [
       "[1, 8.0, 'Shreya', [1, 2, 3]]"
      ]
     },
     "execution_count": 2,
     "metadata": {},
     "output_type": "execute_result"
    }
   ],
   "source": [
    "my_list= [1, 8.0 ,\"Shreya\" , [1,2,3]]  \n",
    "my_list #Gives the same output as the way it has been intitialilized hence ordered"
   ]
  },
  {
   "cell_type": "code",
   "execution_count": 3,
   "id": "eadbb5c3",
   "metadata": {},
   "outputs": [
    {
     "name": "stdout",
     "output_type": "stream",
     "text": [
      "1\n",
      "[1, 2, 3]\n",
      "1\n",
      "3\n"
     ]
    }
   ],
   "source": [
    "#Accessing the element\n",
    "print(my_list[0])\n",
    "print(my_list[-1])\n",
    "\n",
    "#Accessing list in list\n",
    "print(my_list[-1][0]) \n",
    "print(my_list[-1][-1])"
   ]
  },
  {
   "cell_type": "markdown",
   "id": "83462b36",
   "metadata": {},
   "source": [
    "# Add values to list"
   ]
  },
  {
   "cell_type": "code",
   "execution_count": 4,
   "id": "1e4c9e20",
   "metadata": {},
   "outputs": [
    {
     "data": {
      "text/plain": [
       "[1, 8.0, 'Shreya', [1, 2, 3], 'Kiran', '126.88', '[1,1,1]']"
      ]
     },
     "execution_count": 4,
     "metadata": {},
     "output_type": "execute_result"
    }
   ],
   "source": [
    "#Append adds values to end of the list\n",
    "my_list.append(\"Kiran\")\n",
    "my_list.append(\"126.88\")\n",
    "\n",
    "#list will get added as list\n",
    "my_list.append(\"[1,1,1]\")\n",
    "my_list"
   ]
  },
  {
   "cell_type": "markdown",
   "id": "ae728ea9",
   "metadata": {},
   "source": [
    "# Add list as values to the list"
   ]
  },
  {
   "cell_type": "code",
   "execution_count": 5,
   "id": "cb2f2a35",
   "metadata": {},
   "outputs": [
    {
     "data": {
      "text/plain": [
       "[1,\n",
       " 8.0,\n",
       " 'Shreya',\n",
       " [1, 2, 3],\n",
       " 'Kiran',\n",
       " '126.88',\n",
       " '[1,1,1]',\n",
       " 2,\n",
       " 3,\n",
       " 4,\n",
       " 10,\n",
       " 20,\n",
       " 30]"
      ]
     },
     "execution_count": 5,
     "metadata": {},
     "output_type": "execute_result"
    }
   ],
   "source": [
    "#extends adds values in the lists to the list at the end\n",
    "my_list.extend([2,3,4])\n",
    "my_list.extend([10,20,30])\n",
    "my_list"
   ]
  },
  {
   "cell_type": "markdown",
   "id": "5f5106d8",
   "metadata": {},
   "source": [
    "# Slicing"
   ]
  },
  {
   "cell_type": "code",
   "execution_count": 6,
   "id": "f363b917",
   "metadata": {},
   "outputs": [
    {
     "data": {
      "text/plain": [
       "[0, 1, 2, 3, 4, 5, 6, 7, 8, 9]"
      ]
     },
     "execution_count": 6,
     "metadata": {},
     "output_type": "execute_result"
    }
   ],
   "source": [
    "#0 to 9\n",
    "l=list(range(10))\n",
    "l\n"
   ]
  },
  {
   "cell_type": "code",
   "execution_count": 7,
   "id": "e4696f26",
   "metadata": {},
   "outputs": [
    {
     "data": {
      "text/plain": [
       "[9, 8, 7, 6, 5, 4, 3, 2, 1, 0]"
      ]
     },
     "execution_count": 7,
     "metadata": {},
     "output_type": "execute_result"
    }
   ],
   "source": [
    "l[::-1]"
   ]
  },
  {
   "cell_type": "code",
   "execution_count": 9,
   "id": "8a0f5b9d",
   "metadata": {},
   "outputs": [
    {
     "data": {
      "text/plain": [
       "[2, 4, 6, 8]"
      ]
     },
     "execution_count": 9,
     "metadata": {},
     "output_type": "execute_result"
    }
   ],
   "source": [
    "#print even no in the list\n",
    "l[2:10:2]"
   ]
  },
  {
   "cell_type": "code",
   "execution_count": 10,
   "id": "c731b9d9",
   "metadata": {},
   "outputs": [
    {
     "data": {
      "text/plain": [
       "[1, 3, 5, 7, 9]"
      ]
     },
     "execution_count": 10,
     "metadata": {},
     "output_type": "execute_result"
    }
   ],
   "source": [
    "#print odd no in the list\n",
    "l[1:10:2]"
   ]
  },
  {
   "cell_type": "markdown",
   "id": "951b7311",
   "metadata": {},
   "source": [
    "# Insert a value at a given position"
   ]
  },
  {
   "cell_type": "code",
   "execution_count": 11,
   "id": "2b21df90",
   "metadata": {},
   "outputs": [
    {
     "data": {
      "text/plain": [
       "['Shreya', 0, 1, 2, 3, 4, 5, 6, 7, 8, 9]"
      ]
     },
     "execution_count": 11,
     "metadata": {},
     "output_type": "execute_result"
    }
   ],
   "source": [
    "l.insert(0,\"Shreya\")\n",
    "l"
   ]
  },
  {
   "cell_type": "markdown",
   "id": "3a949f98",
   "metadata": {},
   "source": [
    "# List Methods"
   ]
  },
  {
   "cell_type": "code",
   "execution_count": 12,
   "id": "309d9d98",
   "metadata": {},
   "outputs": [
    {
     "data": {
      "text/plain": [
       "[1, 2, 7, 8, 15, 21]"
      ]
     },
     "execution_count": 12,
     "metadata": {},
     "output_type": "execute_result"
    }
   ],
   "source": [
    "#1 sort()\n",
    "\n",
    "L1=[1,8,7,2,21,15]\n",
    "L1.sort()\n",
    "L1"
   ]
  },
  {
   "cell_type": "code",
   "execution_count": 15,
   "id": "8c43d6b5",
   "metadata": {},
   "outputs": [
    {
     "data": {
      "text/plain": [
       "[15, 21, 2, 7, 8, 1]"
      ]
     },
     "execution_count": 15,
     "metadata": {},
     "output_type": "execute_result"
    }
   ],
   "source": [
    "#2 reverse()\n",
    "\n",
    "L1=[1,8,7,2,21,15]\n",
    "L1.reverse()\n",
    "L1\n"
   ]
  },
  {
   "cell_type": "code",
   "execution_count": 18,
   "id": "734e7f68",
   "metadata": {},
   "outputs": [
    {
     "data": {
      "text/plain": [
       "[15, 21, 2, 7, 8, 1]"
      ]
     },
     "execution_count": 18,
     "metadata": {},
     "output_type": "execute_result"
    }
   ],
   "source": [
    "L1=[1,8,7,2,21,15]\n",
    "L1[::-1]"
   ]
  },
  {
   "cell_type": "code",
   "execution_count": 19,
   "id": "1bb54f2c",
   "metadata": {},
   "outputs": [
    {
     "data": {
      "text/plain": [
       "[1, 8, 7, 2, 21, 15, 8]"
      ]
     },
     "execution_count": 19,
     "metadata": {},
     "output_type": "execute_result"
    }
   ],
   "source": [
    "#3 add element to last\n",
    "\n",
    "L1=[1,8,7,2,21,15]\n",
    "L1.append(8)\n",
    "L1"
   ]
  },
  {
   "cell_type": "code",
   "execution_count": 20,
   "id": "1a247170",
   "metadata": {},
   "outputs": [
    {
     "data": {
      "text/plain": [
       "[1, 8, 7, 8, 2, 21, 15]"
      ]
     },
     "execution_count": 20,
     "metadata": {},
     "output_type": "execute_result"
    }
   ],
   "source": [
    "#4 insert value at a given position\n",
    "\n",
    "L1=[1,8,7,2,21,15]\n",
    "L1.insert(3,8)\n",
    "L1"
   ]
  },
  {
   "cell_type": "code",
   "execution_count": 25,
   "id": "10d1909c",
   "metadata": {},
   "outputs": [
    {
     "data": {
      "text/plain": [
       "[1, 8, 7, 21]"
      ]
     },
     "execution_count": 25,
     "metadata": {},
     "output_type": "execute_result"
    }
   ],
   "source": [
    "#5 removes element at given position and return it as output\n",
    "\n",
    "L1=[1,8,7,2,21,15]\n",
    "L1.pop() #REMOVES FROM END\n",
    "L1.pop(3) #REMOVES at a given position\n",
    "L1\n",
    "\n"
   ]
  },
  {
   "cell_type": "code",
   "execution_count": 16,
   "id": "0bba3890",
   "metadata": {},
   "outputs": [
    {
     "data": {
      "text/plain": [
       "[1, 7, 2, 21, 15]"
      ]
     },
     "execution_count": 16,
     "metadata": {},
     "output_type": "execute_result"
    }
   ],
   "source": [
    "#6 removes element but does not return it as output\n",
    "\n",
    "L1=[1,8,7,2,21,15]\n",
    "L1.remove(8) \n",
    "L1\n"
   ]
  },
  {
   "cell_type": "code",
   "execution_count": null,
   "id": "7cdb6616",
   "metadata": {},
   "outputs": [],
   "source": []
  }
 ],
 "metadata": {
  "kernelspec": {
   "display_name": "Python 3 (ipykernel)",
   "language": "python",
   "name": "python3"
  },
  "language_info": {
   "codemirror_mode": {
    "name": "ipython",
    "version": 3
   },
   "file_extension": ".py",
   "mimetype": "text/x-python",
   "name": "python",
   "nbconvert_exporter": "python",
   "pygments_lexer": "ipython3",
   "version": "3.9.12"
  }
 },
 "nbformat": 4,
 "nbformat_minor": 5
}
