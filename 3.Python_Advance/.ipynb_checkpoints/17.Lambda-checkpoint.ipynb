{
 "cells": [
  {
   "cell_type": "markdown",
   "id": "4aad33b2",
   "metadata": {},
   "source": [
    "# Lambda\n",
    "\n",
    "Lambda keyword is used to create function as single/one expression"
   ]
  },
  {
   "cell_type": "code",
   "execution_count": 1,
   "id": "5e1d8ad0",
   "metadata": {},
   "outputs": [
    {
     "name": "stdout",
     "output_type": "stream",
     "text": [
      "12\n",
      "16\n",
      "10\n"
     ]
    }
   ],
   "source": [
    "a=5\n",
    "add=lambda x:a+x\n",
    "square= lambda x:x*x\n",
    "sum= lambda a,b,c:a+b+c\n",
    "print(add(7))\n",
    "print(square(4))\n",
    "print(sum(a,2,3))\n"
   ]
  },
  {
   "cell_type": "code",
   "execution_count": null,
   "id": "34848121",
   "metadata": {},
   "outputs": [],
   "source": [
    "x,a,b,c are the parameters passed to the function name add, square,sum"
   ]
  },
  {
   "cell_type": "code",
   "execution_count": null,
   "id": "10ec1888",
   "metadata": {},
   "outputs": [],
   "source": []
  }
 ],
 "metadata": {
  "kernelspec": {
   "display_name": "Python 3 (ipykernel)",
   "language": "python",
   "name": "python3"
  },
  "language_info": {
   "codemirror_mode": {
    "name": "ipython",
    "version": 3
   },
   "file_extension": ".py",
   "mimetype": "text/x-python",
   "name": "python",
   "nbconvert_exporter": "python",
   "pygments_lexer": "ipython3",
   "version": "3.9.12"
  }
 },
 "nbformat": 4,
 "nbformat_minor": 5
}
