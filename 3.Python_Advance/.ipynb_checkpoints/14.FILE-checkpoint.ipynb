{
 "cells": [
  {
   "cell_type": "markdown",
   "id": "d744e4d1",
   "metadata": {},
   "source": [
    "# FILE I/O"
   ]
  },
  {
   "cell_type": "raw",
   "id": "db7f5d09",
   "metadata": {},
   "source": [
    "RAM is volatile.The content in it gets erased as soon as the program terminates.So in order to persist data we use files.\n",
    "A file is data stored in storage device\n"
   ]
  },
  {
   "cell_type": "raw",
   "id": "5252f7bb",
   "metadata": {},
   "source": [
    "Programmer codes program and saves it as .py-----------WRITE------File\n",
    "                                          File---------READ-------.py file saved by Programmer."
   ]
  },
  {
   "cell_type": "raw",
   "id": "77ff788d",
   "metadata": {},
   "source": [
    "RAM      --- Volatile\n",
    "HARDDISK --- Non Volatile\n",
    "ROM      --- Non Volatile"
   ]
  },
  {
   "cell_type": "raw",
   "id": "508aac49",
   "metadata": {},
   "source": [
    "# Types Of Files\n",
    "1.Text file\n",
    "2.Binary file(image,audio,video)"
   ]
  },
  {
   "cell_type": "markdown",
   "id": "eb9ae51a",
   "metadata": {},
   "source": [
    "# Operation on a File"
   ]
  },
  {
   "cell_type": "markdown",
   "id": "dfd7e1de",
   "metadata": {},
   "source": [
    "# Creating File"
   ]
  },
  {
   "cell_type": "code",
   "execution_count": 1,
   "id": "7dd8c046",
   "metadata": {},
   "outputs": [
    {
     "name": "stdout",
     "output_type": "stream",
     "text": [
      "New file created\n",
      "\n"
     ]
    }
   ],
   "source": [
    "f = open(\"file.txt\", \"w\")\n",
    "f.write(\"New file created\\n\")#Writing the statement into the file\n",
    "f.close()\n",
    "\n",
    "#open and read the file after the overwriting/creating:\n",
    "f = open(\"file.txt\", \"r\")\n",
    "print(f.read())\n",
    "f.close()"
   ]
  },
  {
   "cell_type": "markdown",
   "id": "79f50486",
   "metadata": {},
   "source": [
    "# Read File"
   ]
  },
  {
   "cell_type": "code",
   "execution_count": 15,
   "id": "2fff47a3",
   "metadata": {},
   "outputs": [
    {
     "name": "stdout",
     "output_type": "stream",
     "text": [
      "New file created\n",
      "\n"
     ]
    }
   ],
   "source": [
    "#To read the file first we need to open it\n",
    "f=open(\"file.txt\",\"r\")\n",
    "\n",
    "#Read the file ,store it and print it\n",
    "text=f.read()\n",
    "print(text)\n",
    "#If file is open it needs to be closed aswell\n",
    "f.close()"
   ]
  },
  {
   "cell_type": "markdown",
   "id": "bfd66e92",
   "metadata": {},
   "source": [
    "# Update the file"
   ]
  },
  {
   "cell_type": "code",
   "execution_count": 16,
   "id": "7d5cc323",
   "metadata": {},
   "outputs": [
    {
     "name": "stdout",
     "output_type": "stream",
     "text": [
      "New file created\n",
      "This is 1st line after file creation\n"
     ]
    }
   ],
   "source": [
    "f=open(\"file.txt\",\"a\")\n",
    "f.write(\"This is 2nd line after file creation\")\n",
    "f.close()\n",
    "\n",
    "with open(\"file.txt\",\"r\") as f:\n",
    "    print(f.read())\n",
    "f.close()"
   ]
  },
  {
   "cell_type": "markdown",
   "id": "0fabd07d",
   "metadata": {},
   "source": [
    "# Overwriting the content"
   ]
  },
  {
   "cell_type": "code",
   "execution_count": 17,
   "id": "51f7ab5e",
   "metadata": {},
   "outputs": [
    {
     "name": "stdout",
     "output_type": "stream",
     "text": [
      "Woops! I have deleted the content!\n"
     ]
    }
   ],
   "source": [
    "#Using the create file statments once again will overwrite the file\n",
    "f = open(\"file.txt\", \"w\")\n",
    "f.write(\"Woops! I have deleted the content!\")\n",
    "f.close()\n",
    "\n",
    "#open and read the file after the overwriting:\n",
    "f = open(\"file.txt\", \"r\")\n",
    "print(f.read())\n",
    "f.close()"
   ]
  },
  {
   "cell_type": "markdown",
   "id": "13e9f88b",
   "metadata": {},
   "source": [
    "# Mode of opening file"
   ]
  },
  {
   "cell_type": "raw",
   "id": "dc1b727d",
   "metadata": {},
   "source": [
    "1. r : open for reading\n",
    "2. w : open for creating/writing   (if being used for the first time)/overwriting\n",
    "3. a : open for appending\n"
   ]
  }
 ],
 "metadata": {
  "kernelspec": {
   "display_name": "Python 3 (ipykernel)",
   "language": "python",
   "name": "python3"
  },
  "language_info": {
   "codemirror_mode": {
    "name": "ipython",
    "version": 3
   },
   "file_extension": ".py",
   "mimetype": "text/x-python",
   "name": "python",
   "nbconvert_exporter": "python",
   "pygments_lexer": "ipython3",
   "version": "3.9.12"
  }
 },
 "nbformat": 4,
 "nbformat_minor": 5
}
