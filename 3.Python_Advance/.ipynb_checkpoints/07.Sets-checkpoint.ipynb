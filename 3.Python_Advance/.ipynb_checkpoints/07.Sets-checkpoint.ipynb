{
 "cells": [
  {
   "cell_type": "markdown",
   "id": "560ce848",
   "metadata": {},
   "source": [
    "# Collection of no repetative elements"
   ]
  },
  {
   "cell_type": "markdown",
   "id": "7499e482",
   "metadata": {},
   "source": [
    "# Properties"
   ]
  },
  {
   "cell_type": "code",
   "execution_count": null,
   "id": "def283e9",
   "metadata": {},
   "outputs": [],
   "source": [
    "1.Unordered\n",
    "2.Unindexed\n",
    "3.immutable\n",
    "4.No Duplicate\n",
    "5.Different data types"
   ]
  },
  {
   "cell_type": "markdown",
   "id": "36a42351",
   "metadata": {},
   "source": [
    "# Creating Set from List"
   ]
  },
  {
   "cell_type": "code",
   "execution_count": 1,
   "id": "40804c78",
   "metadata": {},
   "outputs": [
    {
     "name": "stdout",
     "output_type": "stream",
     "text": [
      "{1, 2, 3, 4, 5, 6, 7, 8, 9}\n"
     ]
    }
   ],
   "source": [
    "#Set stores no duplicates\n",
    "\n",
    "l=[1,2,3,4,5,6,6,7,8,8,9]\n",
    "s=set(l)\n",
    "print(s)"
   ]
  },
  {
   "cell_type": "markdown",
   "id": "3c1df5cf",
   "metadata": {},
   "source": [
    "# Add element to new and existing set"
   ]
  },
  {
   "cell_type": "code",
   "execution_count": 2,
   "id": "f42d1a6b",
   "metadata": {},
   "outputs": [
    {
     "name": "stdout",
     "output_type": "stream",
     "text": [
      "{1, 2, 3}\n",
      "{1, 2, 3, 4, 5, 6, 7, 8, 9, 100}\n"
     ]
    }
   ],
   "source": [
    "x=set()\n",
    "x.add(1)\n",
    "x.add(2)\n",
    "x.add(3)\n",
    "print(x)\n",
    "s.add(100)\n",
    "print(s)\n"
   ]
  },
  {
   "cell_type": "markdown",
   "id": "6d14f974",
   "metadata": {},
   "source": [
    "# Set Methods"
   ]
  },
  {
   "cell_type": "code",
   "execution_count": 1,
   "id": "864f0c75",
   "metadata": {},
   "outputs": [
    {
     "data": {
      "text/plain": [
       "5"
      ]
     },
     "execution_count": 1,
     "metadata": {},
     "output_type": "execute_result"
    }
   ],
   "source": [
    "#1 len()\n",
    "\n",
    "s={1,2,2,3,4,5}\n",
    "len(s)"
   ]
  },
  {
   "cell_type": "code",
   "execution_count": 3,
   "id": "da808213",
   "metadata": {},
   "outputs": [
    {
     "data": {
      "text/plain": [
       "{1, 2, 3, 5}"
      ]
     },
     "execution_count": 3,
     "metadata": {},
     "output_type": "execute_result"
    }
   ],
   "source": [
    "#2 remove() removes the lement from the set\n",
    "\n",
    "s={1,2,2,3,4,5}\n",
    "s.remove(4)\n",
    "s"
   ]
  },
  {
   "cell_type": "code",
   "execution_count": 20,
   "id": "e70638ef",
   "metadata": {},
   "outputs": [
    {
     "data": {
      "text/plain": [
       "1"
      ]
     },
     "execution_count": 20,
     "metadata": {},
     "output_type": "execute_result"
    }
   ],
   "source": [
    "#3 removes random item from set\n",
    "\n",
    "\n",
    "s={1,2,3,4,5}\n",
    "s.pop()\n",
    "\n"
   ]
  },
  {
   "cell_type": "code",
   "execution_count": 21,
   "id": "7966dab3",
   "metadata": {},
   "outputs": [
    {
     "data": {
      "text/plain": [
       "set()"
      ]
     },
     "execution_count": 21,
     "metadata": {},
     "output_type": "execute_result"
    }
   ],
   "source": [
    "#4 Empties the set\n",
    "s={1,2,2,3,4,5}\n",
    "s.clear()\n",
    "s"
   ]
  },
  {
   "cell_type": "code",
   "execution_count": 23,
   "id": "b31eb917",
   "metadata": {},
   "outputs": [
    {
     "data": {
      "text/plain": [
       "{1, 2, 3, 4, 5, 11, 12, 14}"
      ]
     },
     "execution_count": 23,
     "metadata": {},
     "output_type": "execute_result"
    }
   ],
   "source": [
    "#5  joining two sets\n",
    "\n",
    "s={1,2,2,3,4,5}\n",
    "s1=s.union({11,12,14})\n",
    "s1"
   ]
  },
  {
   "cell_type": "code",
   "execution_count": 25,
   "id": "6cdcedf5",
   "metadata": {},
   "outputs": [
    {
     "data": {
      "text/plain": [
       "{2, 3, 4}"
      ]
     },
     "execution_count": 25,
     "metadata": {},
     "output_type": "execute_result"
    }
   ],
   "source": [
    "#6 \n",
    "s={1,2,2,3,4,5}\n",
    "s1=s.intersection({3,4,2})\n",
    "s1"
   ]
  },
  {
   "cell_type": "code",
   "execution_count": 26,
   "id": "82720fe3",
   "metadata": {},
   "outputs": [
    {
     "data": {
      "text/plain": [
       "{1, 2, 3, 4, 5, 40}"
      ]
     },
     "execution_count": 26,
     "metadata": {},
     "output_type": "execute_result"
    }
   ],
   "source": [
    "#7\n",
    "s={1,2,2,3,4,5}\n",
    "s.add(40)\n",
    "s\n"
   ]
  },
  {
   "cell_type": "code",
   "execution_count": null,
   "id": "6952ce37",
   "metadata": {},
   "outputs": [],
   "source": []
  }
 ],
 "metadata": {
  "kernelspec": {
   "display_name": "Python 3 (ipykernel)",
   "language": "python",
   "name": "python3"
  },
  "language_info": {
   "codemirror_mode": {
    "name": "ipython",
    "version": 3
   },
   "file_extension": ".py",
   "mimetype": "text/x-python",
   "name": "python",
   "nbconvert_exporter": "python",
   "pygments_lexer": "ipython3",
   "version": "3.9.12"
  }
 },
 "nbformat": 4,
 "nbformat_minor": 5
}
