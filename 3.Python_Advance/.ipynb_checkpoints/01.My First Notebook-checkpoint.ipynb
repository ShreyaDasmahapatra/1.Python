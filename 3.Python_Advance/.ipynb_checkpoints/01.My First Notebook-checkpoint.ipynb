{
 "cells": [
  {
   "cell_type": "markdown",
   "id": "eb5ed59a",
   "metadata": {},
   "source": [
    "# Features"
   ]
  },
  {
   "cell_type": "raw",
   "id": "b97828ee",
   "metadata": {},
   "source": [
    "1.High Level Language\n",
    "2.Easy to work-less developement time\n",
    "3.Open Source\n",
    "4.Portable- Can work on Windows/Linux etc\n",
    "5.Interpreted Scripting Language\n",
    "6.Dynamically typed- do not require explicitly defining of data type\n",
    "7.OOPs\n",
    "8.Takes less time for debugging as no compilation\n",
    "9.Indentation is of 4 space or single tab"
   ]
  },
  {
   "cell_type": "markdown",
   "id": "771ea36e",
   "metadata": {},
   "source": [
    "# MODULES"
   ]
  },
  {
   "cell_type": "raw",
   "id": "6602f399",
   "metadata": {},
   "source": [
    "Module is a file containing collection of codes that can be imported and used in other programs\n",
    "\n",
    "TYPES OF MODULES\n",
    "\n",
    "1.Built-in Modules - pre installed. example abs,math,os\n",
    "2.External Modules - Need to instaal it using pip."
   ]
  },
  {
   "cell_type": "markdown",
   "id": "bff003f4",
   "metadata": {},
   "source": [
    "# COMMENTS"
   ]
  },
  {
   "cell_type": "raw",
   "id": "99ccc89c",
   "metadata": {},
   "source": [
    "Information passed during programming that do not get executed\n",
    "\n",
    "TYPES OF COMMENTS\n",
    "\n",
    "1.Single Line\n",
    "#Single Line Comment\n",
    "\n",
    "2.Multiline Comment\n",
    "'''Multi Line Comment'''"
   ]
  },
  {
   "cell_type": "raw",
   "id": "a34d9824",
   "metadata": {},
   "source": [
    "REPL:Read Evaluate Print Loop\n",
    "When we directly work on terminal"
   ]
  },
  {
   "cell_type": "code",
   "execution_count": 8,
   "id": "4f0035b6",
   "metadata": {},
   "outputs": [
    {
     "name": "stdout",
     "output_type": "stream",
     "text": [
      "Twinkle\n"
     ]
    }
   ],
   "source": [
    "#1.WAP to print Twinkle\n",
    "\n",
    "print(\"Twinkle\")"
   ]
  },
  {
   "cell_type": "code",
   "execution_count": 14,
   "id": "ada8e56b",
   "metadata": {},
   "outputs": [
    {
     "name": "stdout",
     "output_type": "stream",
     "text": [
      "Requirement already satisfied: pydub in c:\\python311\\lib\\site-packages (0.25.1)\n"
     ]
    },
    {
     "name": "stderr",
     "output_type": "stream",
     "text": [
      "\n",
      "[notice] A new release of pip available: 22.3 -> 23.1.2\n",
      "[notice] To update, run: python.exe -m pip install --upgrade pip\n"
     ]
    }
   ],
   "source": [
    "#2.Install external module and use it to perform operation\n",
    "\n",
    "!pip install pydub"
   ]
  },
  {
   "cell_type": "code",
   "execution_count": null,
   "id": "0bd774eb",
   "metadata": {},
   "outputs": [],
   "source": [
    "pip install playsound"
   ]
  },
  {
   "cell_type": "code",
   "execution_count": 15,
   "id": "fc3bf25f",
   "metadata": {},
   "outputs": [
    {
     "ename": "ModuleNotFoundError",
     "evalue": "No module named 'pydub'",
     "output_type": "error",
     "traceback": [
      "\u001b[1;31m---------------------------------------------------------------------------\u001b[0m",
      "\u001b[1;31mModuleNotFoundError\u001b[0m                       Traceback (most recent call last)",
      "Input \u001b[1;32mIn [15]\u001b[0m, in \u001b[0;36m<cell line: 1>\u001b[1;34m()\u001b[0m\n\u001b[1;32m----> 1\u001b[0m \u001b[38;5;28;01mfrom\u001b[39;00m \u001b[38;5;21;01mpydub\u001b[39;00m \u001b[38;5;28;01mimport\u001b[39;00m AudioSegment\n\u001b[0;32m      2\u001b[0m \u001b[38;5;28;01mfrom\u001b[39;00m \u001b[38;5;21;01mpydub\u001b[39;00m\u001b[38;5;21;01m.\u001b[39;00m\u001b[38;5;21;01mplayback\u001b[39;00m \u001b[38;5;28;01mimport\u001b[39;00m play\n\u001b[0;32m      4\u001b[0m \u001b[38;5;66;03m# for playing mp3 file\u001b[39;00m\n",
      "\u001b[1;31mModuleNotFoundError\u001b[0m: No module named 'pydub'"
     ]
    }
   ],
   "source": [
    "import multiprocessing\n",
    "from playsound import playsound\n",
    "\n",
    "p = multiprocessing.Process(target=playsound, args=(\"C:/Users/ASUS/Desktop/Data Engineering/2.PYTHON/2.Python _Basics/1. Chapter 1/play.mp3\",))\n",
    "p.start()\n",
    "input(\"press ENTER to stop playback\")\n",
    "p.terminate()"
   ]
  },
  {
   "cell_type": "code",
   "execution_count": 16,
   "id": "ac21a8c7",
   "metadata": {},
   "outputs": [
    {
     "name": "stdout",
     "output_type": "stream",
     "text": [
      "['.ipynb_checkpoints', '01.My First Notebook.ipynb', '02.iPhone Data Analysis Mini Project (Lets do this first).ipynb', '03.Strings.ipynb', '04.Numbers.ipynb', '05.List.ipynb', '06.Dictionary.ipynb', '07.Sets.ipynb', '08.Tuple.ipynb', '09.If Else.ipynb', '1.Python installation guide.docx', '10.Loop.ipynb', '11.Break , Continue , Pass.ipynb', '12.List_Compehension.ipynb', '13.Exception Handeling.ipynb', 'amazon-web-scraping-python-project', 'Data', 'Untitled.ipynb', 'Web Scrapping.ipynb']\n"
     ]
    }
   ],
   "source": [
    "#WAP to print content of the current directory  using OS Module\n",
    "\n",
    "import os\n",
    "print(os.listdir())"
   ]
  },
  {
   "cell_type": "code",
   "execution_count": null,
   "id": "5f327457",
   "metadata": {},
   "outputs": [],
   "source": []
  }
 ],
 "metadata": {
  "kernelspec": {
   "display_name": "Python 3 (ipykernel)",
   "language": "python",
   "name": "python3"
  },
  "language_info": {
   "codemirror_mode": {
    "name": "ipython",
    "version": 3
   },
   "file_extension": ".py",
   "mimetype": "text/x-python",
   "name": "python",
   "nbconvert_exporter": "python",
   "pygments_lexer": "ipython3",
   "version": "3.9.12"
  }
 },
 "nbformat": 4,
 "nbformat_minor": 5
}
