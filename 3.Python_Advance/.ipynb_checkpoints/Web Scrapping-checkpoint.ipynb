{
 "cells": [
  {
   "cell_type": "code",
   "execution_count": 1,
   "id": "9ebf43c2",
   "metadata": {},
   "outputs": [],
   "source": [
    "#Extracting Data and convert it to data set"
   ]
  },
  {
   "cell_type": "code",
   "execution_count": 11,
   "id": "cb9e042c",
   "metadata": {},
   "outputs": [
    {
     "name": "stdout",
     "output_type": "stream",
     "text": [
      "Requirement already satisfied: bs4 in c:\\python311\\lib\\site-packages (0.0.1)\n",
      "Requirement already satisfied: beautifulsoup4 in c:\\python311\\lib\\site-packages (from bs4) (4.12.2)\n",
      "Requirement already satisfied: soupsieve>1.2 in c:\\python311\\lib\\site-packages (from beautifulsoup4->bs4) (2.4.1)\n"
     ]
    },
    {
     "name": "stderr",
     "output_type": "stream",
     "text": [
      "\n",
      "[notice] A new release of pip available: 22.3 -> 23.1.2\n",
      "[notice] To update, run: python.exe -m pip install --upgrade pip\n"
     ]
    }
   ],
   "source": [
    "!pip install bs4 #it is a libraray that helps getting element from html code\n"
   ]
  },
  {
   "cell_type": "code",
   "execution_count": 12,
   "id": "b3a08902",
   "metadata": {},
   "outputs": [
    {
     "name": "stdout",
     "output_type": "stream",
     "text": [
      "Collecting requests\n",
      "  Using cached requests-2.29.0-py3-none-any.whl (62 kB)\n",
      "Requirement already satisfied: charset-normalizer<4,>=2 in c:\\python311\\lib\\site-packages (from requests) (3.1.0)\n",
      "Requirement already satisfied: idna<4,>=2.5 in c:\\python311\\lib\\site-packages (from requests) (3.4)\n",
      "Requirement already satisfied: urllib3<1.27,>=1.21.1 in c:\\python311\\lib\\site-packages (from requests) (1.26.15)\n",
      "Collecting certifi>=2017.4.17\n",
      "  Using cached certifi-2022.12.7-py3-none-any.whl (155 kB)\n",
      "Installing collected packages: certifi, requests\n",
      "Successfully installed certifi-2022.12.7 requests-2.29.0\n"
     ]
    },
    {
     "name": "stderr",
     "output_type": "stream",
     "text": [
      "\n",
      "[notice] A new release of pip available: 22.3 -> 23.1.2\n",
      "[notice] To update, run: python.exe -m pip install --upgrade pip\n"
     ]
    }
   ],
   "source": [
    "!pip install requests #we will be sending request from local PC to Amazon site"
   ]
  },
  {
   "cell_type": "code",
   "execution_count": 9,
   "id": "b2debb9c",
   "metadata": {},
   "outputs": [
    {
     "name": "stdout",
     "output_type": "stream",
     "text": [
      "Requirement already satisfied: pip in c:\\users\\asus\\anaconda3\\lib\\site-packages (21.2.4)\n",
      "Collecting pip\n",
      "  Downloading pip-23.1.2-py3-none-any.whl (2.1 MB)\n",
      "Note: you may need to restart the kernel to use updated packages.\n",
      "Installing collected packages: pip\n",
      "  Attempting uninstall: pip\n",
      "    Found existing installation: pip 21.2.4\n",
      "    Uninstalling pip-21.2.4:\n",
      "      Successfully uninstalled pip-21.2.4\n",
      "Successfully installed pip-23.1.2\n"
     ]
    }
   ],
   "source": [
    "pip install --upgrade pip"
   ]
  },
  {
   "cell_type": "code",
   "execution_count": 15,
   "id": "453c2988",
   "metadata": {},
   "outputs": [
    {
     "name": "stdout",
     "output_type": "stream",
     "text": [
      "Requirement already satisfied: pandas in c:\\python311\\lib\\site-packages (2.0.1)\n",
      "Requirement already satisfied: python-dateutil>=2.8.2 in c:\\python311\\lib\\site-packages (from pandas) (2.8.2)\n",
      "Requirement already satisfied: pytz>=2020.1 in c:\\python311\\lib\\site-packages (from pandas) (2023.3)\n",
      "Requirement already satisfied: tzdata>=2022.1 in c:\\python311\\lib\\site-packages (from pandas) (2023.3)\n",
      "Requirement already satisfied: numpy>=1.21.0 in c:\\python311\\lib\\site-packages (from pandas) (1.24.3)\n",
      "Requirement already satisfied: six>=1.5 in c:\\python311\\lib\\site-packages (from python-dateutil>=2.8.2->pandas) (1.16.0)\n"
     ]
    },
    {
     "name": "stderr",
     "output_type": "stream",
     "text": [
      "\n",
      "[notice] A new release of pip available: 22.3 -> 23.1.2\n",
      "[notice] To update, run: python.exe -m pip install --upgrade pip\n"
     ]
    }
   ],
   "source": [
    "!pip install pandas #convert text data to data frame"
   ]
  },
  {
   "cell_type": "code",
   "execution_count": 16,
   "id": "3c50a4d4",
   "metadata": {},
   "outputs": [],
   "source": [
    "from bs4 import BeautifulSoup\n",
    "import requests\n",
    "import pandas as pd"
   ]
  },
  {
   "cell_type": "code",
   "execution_count": 17,
   "id": "092eb7b7",
   "metadata": {},
   "outputs": [],
   "source": [
    "#sent request from local pc to amazon website to get the HTML code\n",
    "#1.Go to Amazon Website,search for the product you want to do web scrapping(playstation 5)\n",
    "#2.copy the URL"
   ]
  },
  {
   "cell_type": "code",
   "execution_count": 18,
   "id": "0c20bf47",
   "metadata": {},
   "outputs": [],
   "source": [
    "URL=\"https://www.amazon.com/s?k=playstation+5&crid=3J2YZAJWWXBU3&sprefix=playstation+5%2Caps%2C353&ref=nb_sb_noss_1\""
   ]
  },
  {
   "cell_type": "code",
   "execution_count": 20,
   "id": "03b71540",
   "metadata": {},
   "outputs": [],
   "source": [
    "#3.Define http header:Whenever we visit a website we send http request to it.\n",
    "#Http request consists many different things one of it is the header\n",
    "#Header also consists of many things ,one of it is the USER AGENT\n",
    "#User Agent tells that we are trying to access this website by indentifying the genuine user through the browser information\n",
    "\n",
    "#4.Get your own USER AGENT\n",
    "#--->go to   https://www.whatismybrowser.com/\n",
    "#--->Detect my settings\n",
    "#--->What is my user agent:\n",
    "#Mozilla/5.0 (Windows NT 10.0; Win64; x64) AppleWebKit/537.36 (KHTML, like Gecko) Chrome/112.0.0.0 Safari/537.36\n",
    "#copy paste it in the following\n",
    "# HEADERS = ({'User-Agent':'paste here the user agent ' , 'Accept-Language':'en-US ,en;q=0.5'})\n"
   ]
  },
  {
   "cell_type": "code",
   "execution_count": 21,
   "id": "7863fe1a",
   "metadata": {},
   "outputs": [],
   "source": [
    "#HEADERS for Requests\n",
    "\n",
    "HEADERS = ({'User-Agent':'Mozilla/5.0 (Windows NT 10.0; Win64; x64) AppleWebKit/537.36 (KHTML, like Gecko) Chrome/112.0.0.0 Safari/537.36' , 'Accept-Language':'en-US ,en;q=0.5'})\n",
    "\n"
   ]
  },
  {
   "cell_type": "code",
   "execution_count": 23,
   "id": "93f5a45a",
   "metadata": {},
   "outputs": [],
   "source": [
    "#5. Make request to the Amazon website\n",
    "#HTTP Requests \n",
    "#If we get 200 as output for response, it means success\n",
    "webpage = requests.get(URL , headers=HEADERS)"
   ]
  },
  {
   "cell_type": "code",
   "execution_count": 24,
   "id": "813b0bff",
   "metadata": {},
   "outputs": [
    {
     "data": {
      "text/plain": [
       "<Response [200]>"
      ]
     },
     "execution_count": 24,
     "metadata": {},
     "output_type": "execute_result"
    }
   ],
   "source": [
    "webpage"
   ]
  },
  {
   "cell_type": "code",
   "execution_count": null,
   "id": "b3280ac1",
   "metadata": {
    "collapsed": true
   },
   "outputs": [],
   "source": []
  }
 ],
 "metadata": {
  "kernelspec": {
   "display_name": "Python 3 (ipykernel)",
   "language": "python",
   "name": "python3"
  },
  "language_info": {
   "codemirror_mode": {
    "name": "ipython",
    "version": 3
   },
   "file_extension": ".py",
   "mimetype": "text/x-python",
   "name": "python",
   "nbconvert_exporter": "python",
   "pygments_lexer": "ipython3",
   "version": "3.9.12"
  }
 },
 "nbformat": 4,
 "nbformat_minor": 5
}
